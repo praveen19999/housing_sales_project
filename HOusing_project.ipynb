{
  "nbformat": 4,
  "nbformat_minor": 0,
  "metadata": {
    "colab": {
      "provenance": []
    },
    "kernelspec": {
      "name": "python3",
      "display_name": "Python 3"
    },
    "language_info": {
      "name": "python"
    }
  },
  "cells": [
    {
      "cell_type": "code",
      "execution_count": 2,
      "metadata": {
        "id": "cK5CGNw7DPW_"
      },
      "outputs": [],
      "source": [
        "import pandas as pd\n",
        "import numpy as np\n",
        "import matplotlib.pyplot as plt\n",
        "import pickle\n",
        "%matplotlib inline"
      ]
    },
    {
      "cell_type": "code",
      "source": [
        "from google.colab import files\n",
        "uploaded = files.upload()"
      ],
      "metadata": {
        "colab": {
          "base_uri": "https://localhost:8080/",
          "height": 73
        },
        "id": "RiKFYK4QDTqT",
        "outputId": "d1bfe975-3607-487d-e35b-f014dd765049"
      },
      "execution_count": 1,
      "outputs": [
        {
          "output_type": "display_data",
          "data": {
            "text/plain": [
              "<IPython.core.display.HTML object>"
            ],
            "text/html": [
              "\n",
              "     <input type=\"file\" id=\"files-7639d793-d01f-45ed-aca4-eac176c76fd2\" name=\"files[]\" multiple disabled\n",
              "        style=\"border:none\" />\n",
              "     <output id=\"result-7639d793-d01f-45ed-aca4-eac176c76fd2\">\n",
              "      Upload widget is only available when the cell has been executed in the\n",
              "      current browser session. Please rerun this cell to enable.\n",
              "      </output>\n",
              "      <script>// Copyright 2017 Google LLC\n",
              "//\n",
              "// Licensed under the Apache License, Version 2.0 (the \"License\");\n",
              "// you may not use this file except in compliance with the License.\n",
              "// You may obtain a copy of the License at\n",
              "//\n",
              "//      http://www.apache.org/licenses/LICENSE-2.0\n",
              "//\n",
              "// Unless required by applicable law or agreed to in writing, software\n",
              "// distributed under the License is distributed on an \"AS IS\" BASIS,\n",
              "// WITHOUT WARRANTIES OR CONDITIONS OF ANY KIND, either express or implied.\n",
              "// See the License for the specific language governing permissions and\n",
              "// limitations under the License.\n",
              "\n",
              "/**\n",
              " * @fileoverview Helpers for google.colab Python module.\n",
              " */\n",
              "(function(scope) {\n",
              "function span(text, styleAttributes = {}) {\n",
              "  const element = document.createElement('span');\n",
              "  element.textContent = text;\n",
              "  for (const key of Object.keys(styleAttributes)) {\n",
              "    element.style[key] = styleAttributes[key];\n",
              "  }\n",
              "  return element;\n",
              "}\n",
              "\n",
              "// Max number of bytes which will be uploaded at a time.\n",
              "const MAX_PAYLOAD_SIZE = 100 * 1024;\n",
              "\n",
              "function _uploadFiles(inputId, outputId) {\n",
              "  const steps = uploadFilesStep(inputId, outputId);\n",
              "  const outputElement = document.getElementById(outputId);\n",
              "  // Cache steps on the outputElement to make it available for the next call\n",
              "  // to uploadFilesContinue from Python.\n",
              "  outputElement.steps = steps;\n",
              "\n",
              "  return _uploadFilesContinue(outputId);\n",
              "}\n",
              "\n",
              "// This is roughly an async generator (not supported in the browser yet),\n",
              "// where there are multiple asynchronous steps and the Python side is going\n",
              "// to poll for completion of each step.\n",
              "// This uses a Promise to block the python side on completion of each step,\n",
              "// then passes the result of the previous step as the input to the next step.\n",
              "function _uploadFilesContinue(outputId) {\n",
              "  const outputElement = document.getElementById(outputId);\n",
              "  const steps = outputElement.steps;\n",
              "\n",
              "  const next = steps.next(outputElement.lastPromiseValue);\n",
              "  return Promise.resolve(next.value.promise).then((value) => {\n",
              "    // Cache the last promise value to make it available to the next\n",
              "    // step of the generator.\n",
              "    outputElement.lastPromiseValue = value;\n",
              "    return next.value.response;\n",
              "  });\n",
              "}\n",
              "\n",
              "/**\n",
              " * Generator function which is called between each async step of the upload\n",
              " * process.\n",
              " * @param {string} inputId Element ID of the input file picker element.\n",
              " * @param {string} outputId Element ID of the output display.\n",
              " * @return {!Iterable<!Object>} Iterable of next steps.\n",
              " */\n",
              "function* uploadFilesStep(inputId, outputId) {\n",
              "  const inputElement = document.getElementById(inputId);\n",
              "  inputElement.disabled = false;\n",
              "\n",
              "  const outputElement = document.getElementById(outputId);\n",
              "  outputElement.innerHTML = '';\n",
              "\n",
              "  const pickedPromise = new Promise((resolve) => {\n",
              "    inputElement.addEventListener('change', (e) => {\n",
              "      resolve(e.target.files);\n",
              "    });\n",
              "  });\n",
              "\n",
              "  const cancel = document.createElement('button');\n",
              "  inputElement.parentElement.appendChild(cancel);\n",
              "  cancel.textContent = 'Cancel upload';\n",
              "  const cancelPromise = new Promise((resolve) => {\n",
              "    cancel.onclick = () => {\n",
              "      resolve(null);\n",
              "    };\n",
              "  });\n",
              "\n",
              "  // Wait for the user to pick the files.\n",
              "  const files = yield {\n",
              "    promise: Promise.race([pickedPromise, cancelPromise]),\n",
              "    response: {\n",
              "      action: 'starting',\n",
              "    }\n",
              "  };\n",
              "\n",
              "  cancel.remove();\n",
              "\n",
              "  // Disable the input element since further picks are not allowed.\n",
              "  inputElement.disabled = true;\n",
              "\n",
              "  if (!files) {\n",
              "    return {\n",
              "      response: {\n",
              "        action: 'complete',\n",
              "      }\n",
              "    };\n",
              "  }\n",
              "\n",
              "  for (const file of files) {\n",
              "    const li = document.createElement('li');\n",
              "    li.append(span(file.name, {fontWeight: 'bold'}));\n",
              "    li.append(span(\n",
              "        `(${file.type || 'n/a'}) - ${file.size} bytes, ` +\n",
              "        `last modified: ${\n",
              "            file.lastModifiedDate ? file.lastModifiedDate.toLocaleDateString() :\n",
              "                                    'n/a'} - `));\n",
              "    const percent = span('0% done');\n",
              "    li.appendChild(percent);\n",
              "\n",
              "    outputElement.appendChild(li);\n",
              "\n",
              "    const fileDataPromise = new Promise((resolve) => {\n",
              "      const reader = new FileReader();\n",
              "      reader.onload = (e) => {\n",
              "        resolve(e.target.result);\n",
              "      };\n",
              "      reader.readAsArrayBuffer(file);\n",
              "    });\n",
              "    // Wait for the data to be ready.\n",
              "    let fileData = yield {\n",
              "      promise: fileDataPromise,\n",
              "      response: {\n",
              "        action: 'continue',\n",
              "      }\n",
              "    };\n",
              "\n",
              "    // Use a chunked sending to avoid message size limits. See b/62115660.\n",
              "    let position = 0;\n",
              "    do {\n",
              "      const length = Math.min(fileData.byteLength - position, MAX_PAYLOAD_SIZE);\n",
              "      const chunk = new Uint8Array(fileData, position, length);\n",
              "      position += length;\n",
              "\n",
              "      const base64 = btoa(String.fromCharCode.apply(null, chunk));\n",
              "      yield {\n",
              "        response: {\n",
              "          action: 'append',\n",
              "          file: file.name,\n",
              "          data: base64,\n",
              "        },\n",
              "      };\n",
              "\n",
              "      let percentDone = fileData.byteLength === 0 ?\n",
              "          100 :\n",
              "          Math.round((position / fileData.byteLength) * 100);\n",
              "      percent.textContent = `${percentDone}% done`;\n",
              "\n",
              "    } while (position < fileData.byteLength);\n",
              "  }\n",
              "\n",
              "  // All done.\n",
              "  yield {\n",
              "    response: {\n",
              "      action: 'complete',\n",
              "    }\n",
              "  };\n",
              "}\n",
              "\n",
              "scope.google = scope.google || {};\n",
              "scope.google.colab = scope.google.colab || {};\n",
              "scope.google.colab._files = {\n",
              "  _uploadFiles,\n",
              "  _uploadFilesContinue,\n",
              "};\n",
              "})(self);\n",
              "</script> "
            ]
          },
          "metadata": {}
        },
        {
          "output_type": "stream",
          "name": "stdout",
          "text": [
            "Saving train.csv to train.csv\n"
          ]
        }
      ]
    },
    {
      "cell_type": "code",
      "source": [
        "df_train = pd.read_csv('train.csv')\n",
        "df_train.head()"
      ],
      "metadata": {
        "colab": {
          "base_uri": "https://localhost:8080/",
          "height": 299
        },
        "id": "Rq6wyRCMDaXC",
        "outputId": "522cf362-b8cf-428c-d4ff-c0d398e1a722"
      },
      "execution_count": 3,
      "outputs": [
        {
          "output_type": "execute_result",
          "data": {
            "text/plain": [
              "    Id  MSSubClass MSZoning  LotFrontage  LotArea Street Alley LotShape  \\\n",
              "0  127         120       RL          NaN     4928   Pave   NaN      IR1   \n",
              "1  889          20       RL         95.0    15865   Pave   NaN      IR1   \n",
              "2  793          60       RL         92.0     9920   Pave   NaN      IR1   \n",
              "3  110          20       RL        105.0    11751   Pave   NaN      IR1   \n",
              "4  422          20       RL          NaN    16635   Pave   NaN      IR1   \n",
              "\n",
              "  LandContour Utilities  ... PoolArea PoolQC  Fence MiscFeature MiscVal  \\\n",
              "0         Lvl    AllPub  ...        0    NaN    NaN         NaN       0   \n",
              "1         Lvl    AllPub  ...        0    NaN    NaN         NaN       0   \n",
              "2         Lvl    AllPub  ...        0    NaN    NaN         NaN       0   \n",
              "3         Lvl    AllPub  ...        0    NaN  MnPrv         NaN       0   \n",
              "4         Lvl    AllPub  ...        0    NaN    NaN         NaN       0   \n",
              "\n",
              "  MoSold YrSold  SaleType  SaleCondition  SalePrice  \n",
              "0      2   2007        WD         Normal     128000  \n",
              "1     10   2007        WD         Normal     268000  \n",
              "2      6   2007        WD         Normal     269790  \n",
              "3      1   2010       COD         Normal     190000  \n",
              "4      6   2009        WD         Normal     215000  \n",
              "\n",
              "[5 rows x 81 columns]"
            ],
            "text/html": [
              "\n",
              "  <div id=\"df-48ee9bcf-d559-42f7-b7dd-8f3e4c79ea0e\">\n",
              "    <div class=\"colab-df-container\">\n",
              "      <div>\n",
              "<style scoped>\n",
              "    .dataframe tbody tr th:only-of-type {\n",
              "        vertical-align: middle;\n",
              "    }\n",
              "\n",
              "    .dataframe tbody tr th {\n",
              "        vertical-align: top;\n",
              "    }\n",
              "\n",
              "    .dataframe thead th {\n",
              "        text-align: right;\n",
              "    }\n",
              "</style>\n",
              "<table border=\"1\" class=\"dataframe\">\n",
              "  <thead>\n",
              "    <tr style=\"text-align: right;\">\n",
              "      <th></th>\n",
              "      <th>Id</th>\n",
              "      <th>MSSubClass</th>\n",
              "      <th>MSZoning</th>\n",
              "      <th>LotFrontage</th>\n",
              "      <th>LotArea</th>\n",
              "      <th>Street</th>\n",
              "      <th>Alley</th>\n",
              "      <th>LotShape</th>\n",
              "      <th>LandContour</th>\n",
              "      <th>Utilities</th>\n",
              "      <th>...</th>\n",
              "      <th>PoolArea</th>\n",
              "      <th>PoolQC</th>\n",
              "      <th>Fence</th>\n",
              "      <th>MiscFeature</th>\n",
              "      <th>MiscVal</th>\n",
              "      <th>MoSold</th>\n",
              "      <th>YrSold</th>\n",
              "      <th>SaleType</th>\n",
              "      <th>SaleCondition</th>\n",
              "      <th>SalePrice</th>\n",
              "    </tr>\n",
              "  </thead>\n",
              "  <tbody>\n",
              "    <tr>\n",
              "      <th>0</th>\n",
              "      <td>127</td>\n",
              "      <td>120</td>\n",
              "      <td>RL</td>\n",
              "      <td>NaN</td>\n",
              "      <td>4928</td>\n",
              "      <td>Pave</td>\n",
              "      <td>NaN</td>\n",
              "      <td>IR1</td>\n",
              "      <td>Lvl</td>\n",
              "      <td>AllPub</td>\n",
              "      <td>...</td>\n",
              "      <td>0</td>\n",
              "      <td>NaN</td>\n",
              "      <td>NaN</td>\n",
              "      <td>NaN</td>\n",
              "      <td>0</td>\n",
              "      <td>2</td>\n",
              "      <td>2007</td>\n",
              "      <td>WD</td>\n",
              "      <td>Normal</td>\n",
              "      <td>128000</td>\n",
              "    </tr>\n",
              "    <tr>\n",
              "      <th>1</th>\n",
              "      <td>889</td>\n",
              "      <td>20</td>\n",
              "      <td>RL</td>\n",
              "      <td>95.0</td>\n",
              "      <td>15865</td>\n",
              "      <td>Pave</td>\n",
              "      <td>NaN</td>\n",
              "      <td>IR1</td>\n",
              "      <td>Lvl</td>\n",
              "      <td>AllPub</td>\n",
              "      <td>...</td>\n",
              "      <td>0</td>\n",
              "      <td>NaN</td>\n",
              "      <td>NaN</td>\n",
              "      <td>NaN</td>\n",
              "      <td>0</td>\n",
              "      <td>10</td>\n",
              "      <td>2007</td>\n",
              "      <td>WD</td>\n",
              "      <td>Normal</td>\n",
              "      <td>268000</td>\n",
              "    </tr>\n",
              "    <tr>\n",
              "      <th>2</th>\n",
              "      <td>793</td>\n",
              "      <td>60</td>\n",
              "      <td>RL</td>\n",
              "      <td>92.0</td>\n",
              "      <td>9920</td>\n",
              "      <td>Pave</td>\n",
              "      <td>NaN</td>\n",
              "      <td>IR1</td>\n",
              "      <td>Lvl</td>\n",
              "      <td>AllPub</td>\n",
              "      <td>...</td>\n",
              "      <td>0</td>\n",
              "      <td>NaN</td>\n",
              "      <td>NaN</td>\n",
              "      <td>NaN</td>\n",
              "      <td>0</td>\n",
              "      <td>6</td>\n",
              "      <td>2007</td>\n",
              "      <td>WD</td>\n",
              "      <td>Normal</td>\n",
              "      <td>269790</td>\n",
              "    </tr>\n",
              "    <tr>\n",
              "      <th>3</th>\n",
              "      <td>110</td>\n",
              "      <td>20</td>\n",
              "      <td>RL</td>\n",
              "      <td>105.0</td>\n",
              "      <td>11751</td>\n",
              "      <td>Pave</td>\n",
              "      <td>NaN</td>\n",
              "      <td>IR1</td>\n",
              "      <td>Lvl</td>\n",
              "      <td>AllPub</td>\n",
              "      <td>...</td>\n",
              "      <td>0</td>\n",
              "      <td>NaN</td>\n",
              "      <td>MnPrv</td>\n",
              "      <td>NaN</td>\n",
              "      <td>0</td>\n",
              "      <td>1</td>\n",
              "      <td>2010</td>\n",
              "      <td>COD</td>\n",
              "      <td>Normal</td>\n",
              "      <td>190000</td>\n",
              "    </tr>\n",
              "    <tr>\n",
              "      <th>4</th>\n",
              "      <td>422</td>\n",
              "      <td>20</td>\n",
              "      <td>RL</td>\n",
              "      <td>NaN</td>\n",
              "      <td>16635</td>\n",
              "      <td>Pave</td>\n",
              "      <td>NaN</td>\n",
              "      <td>IR1</td>\n",
              "      <td>Lvl</td>\n",
              "      <td>AllPub</td>\n",
              "      <td>...</td>\n",
              "      <td>0</td>\n",
              "      <td>NaN</td>\n",
              "      <td>NaN</td>\n",
              "      <td>NaN</td>\n",
              "      <td>0</td>\n",
              "      <td>6</td>\n",
              "      <td>2009</td>\n",
              "      <td>WD</td>\n",
              "      <td>Normal</td>\n",
              "      <td>215000</td>\n",
              "    </tr>\n",
              "  </tbody>\n",
              "</table>\n",
              "<p>5 rows × 81 columns</p>\n",
              "</div>\n",
              "      <button class=\"colab-df-convert\" onclick=\"convertToInteractive('df-48ee9bcf-d559-42f7-b7dd-8f3e4c79ea0e')\"\n",
              "              title=\"Convert this dataframe to an interactive table.\"\n",
              "              style=\"display:none;\">\n",
              "        \n",
              "  <svg xmlns=\"http://www.w3.org/2000/svg\" height=\"24px\"viewBox=\"0 0 24 24\"\n",
              "       width=\"24px\">\n",
              "    <path d=\"M0 0h24v24H0V0z\" fill=\"none\"/>\n",
              "    <path d=\"M18.56 5.44l.94 2.06.94-2.06 2.06-.94-2.06-.94-.94-2.06-.94 2.06-2.06.94zm-11 1L8.5 8.5l.94-2.06 2.06-.94-2.06-.94L8.5 2.5l-.94 2.06-2.06.94zm10 10l.94 2.06.94-2.06 2.06-.94-2.06-.94-.94-2.06-.94 2.06-2.06.94z\"/><path d=\"M17.41 7.96l-1.37-1.37c-.4-.4-.92-.59-1.43-.59-.52 0-1.04.2-1.43.59L10.3 9.45l-7.72 7.72c-.78.78-.78 2.05 0 2.83L4 21.41c.39.39.9.59 1.41.59.51 0 1.02-.2 1.41-.59l7.78-7.78 2.81-2.81c.8-.78.8-2.07 0-2.86zM5.41 20L4 18.59l7.72-7.72 1.47 1.35L5.41 20z\"/>\n",
              "  </svg>\n",
              "      </button>\n",
              "      \n",
              "  <style>\n",
              "    .colab-df-container {\n",
              "      display:flex;\n",
              "      flex-wrap:wrap;\n",
              "      gap: 12px;\n",
              "    }\n",
              "\n",
              "    .colab-df-convert {\n",
              "      background-color: #E8F0FE;\n",
              "      border: none;\n",
              "      border-radius: 50%;\n",
              "      cursor: pointer;\n",
              "      display: none;\n",
              "      fill: #1967D2;\n",
              "      height: 32px;\n",
              "      padding: 0 0 0 0;\n",
              "      width: 32px;\n",
              "    }\n",
              "\n",
              "    .colab-df-convert:hover {\n",
              "      background-color: #E2EBFA;\n",
              "      box-shadow: 0px 1px 2px rgba(60, 64, 67, 0.3), 0px 1px 3px 1px rgba(60, 64, 67, 0.15);\n",
              "      fill: #174EA6;\n",
              "    }\n",
              "\n",
              "    [theme=dark] .colab-df-convert {\n",
              "      background-color: #3B4455;\n",
              "      fill: #D2E3FC;\n",
              "    }\n",
              "\n",
              "    [theme=dark] .colab-df-convert:hover {\n",
              "      background-color: #434B5C;\n",
              "      box-shadow: 0px 1px 3px 1px rgba(0, 0, 0, 0.15);\n",
              "      filter: drop-shadow(0px 1px 2px rgba(0, 0, 0, 0.3));\n",
              "      fill: #FFFFFF;\n",
              "    }\n",
              "  </style>\n",
              "\n",
              "      <script>\n",
              "        const buttonEl =\n",
              "          document.querySelector('#df-48ee9bcf-d559-42f7-b7dd-8f3e4c79ea0e button.colab-df-convert');\n",
              "        buttonEl.style.display =\n",
              "          google.colab.kernel.accessAllowed ? 'block' : 'none';\n",
              "\n",
              "        async function convertToInteractive(key) {\n",
              "          const element = document.querySelector('#df-48ee9bcf-d559-42f7-b7dd-8f3e4c79ea0e');\n",
              "          const dataTable =\n",
              "            await google.colab.kernel.invokeFunction('convertToInteractive',\n",
              "                                                     [key], {});\n",
              "          if (!dataTable) return;\n",
              "\n",
              "          const docLinkHtml = 'Like what you see? Visit the ' +\n",
              "            '<a target=\"_blank\" href=https://colab.research.google.com/notebooks/data_table.ipynb>data table notebook</a>'\n",
              "            + ' to learn more about interactive tables.';\n",
              "          element.innerHTML = '';\n",
              "          dataTable['output_type'] = 'display_data';\n",
              "          await google.colab.output.renderOutput(dataTable, element);\n",
              "          const docLink = document.createElement('div');\n",
              "          docLink.innerHTML = docLinkHtml;\n",
              "          element.appendChild(docLink);\n",
              "        }\n",
              "      </script>\n",
              "    </div>\n",
              "  </div>\n",
              "  "
            ]
          },
          "metadata": {},
          "execution_count": 3
        }
      ]
    },
    {
      "cell_type": "code",
      "source": [
        "df_train.describe()"
      ],
      "metadata": {
        "colab": {
          "base_uri": "https://localhost:8080/",
          "height": 393
        },
        "id": "8dnuW1aXspT5",
        "outputId": "b6187550-9cba-422a-d124-ffa9d284664b"
      },
      "execution_count": 4,
      "outputs": [
        {
          "output_type": "execute_result",
          "data": {
            "text/plain": [
              "                Id   MSSubClass  LotFrontage        LotArea  OverallQual  \\\n",
              "count  1168.000000  1168.000000    954.00000    1168.000000  1168.000000   \n",
              "mean    724.136130    56.767979     70.98847   10484.749144     6.104452   \n",
              "std     416.159877    41.940650     24.82875    8957.442311     1.390153   \n",
              "min       1.000000    20.000000     21.00000    1300.000000     1.000000   \n",
              "25%     360.500000    20.000000     60.00000    7621.500000     5.000000   \n",
              "50%     714.500000    50.000000     70.00000    9522.500000     6.000000   \n",
              "75%    1079.500000    70.000000     80.00000   11515.500000     7.000000   \n",
              "max    1460.000000   190.000000    313.00000  164660.000000    10.000000   \n",
              "\n",
              "       OverallCond    YearBuilt  YearRemodAdd   MasVnrArea   BsmtFinSF1  ...  \\\n",
              "count  1168.000000  1168.000000   1168.000000  1161.000000  1168.000000  ...   \n",
              "mean      5.595890  1970.930651   1984.758562   102.310078   444.726027  ...   \n",
              "std       1.124343    30.145255     20.785185   182.595606   462.664785  ...   \n",
              "min       1.000000  1875.000000   1950.000000     0.000000     0.000000  ...   \n",
              "25%       5.000000  1954.000000   1966.000000     0.000000     0.000000  ...   \n",
              "50%       5.000000  1972.000000   1993.000000     0.000000   385.500000  ...   \n",
              "75%       6.000000  2000.000000   2004.000000   160.000000   714.500000  ...   \n",
              "max       9.000000  2010.000000   2010.000000  1600.000000  5644.000000  ...   \n",
              "\n",
              "        WoodDeckSF  OpenPorchSF  EnclosedPorch    3SsnPorch  ScreenPorch  \\\n",
              "count  1168.000000  1168.000000    1168.000000  1168.000000  1168.000000   \n",
              "mean     96.206336    46.559932      23.015411     3.639555    15.051370   \n",
              "std     126.158988    66.381023      63.191089    29.088867    55.080816   \n",
              "min       0.000000     0.000000       0.000000     0.000000     0.000000   \n",
              "25%       0.000000     0.000000       0.000000     0.000000     0.000000   \n",
              "50%       0.000000    24.000000       0.000000     0.000000     0.000000   \n",
              "75%     171.000000    70.000000       0.000000     0.000000     0.000000   \n",
              "max     857.000000   547.000000     552.000000   508.000000   480.000000   \n",
              "\n",
              "          PoolArea       MiscVal       MoSold       YrSold      SalePrice  \n",
              "count  1168.000000   1168.000000  1168.000000  1168.000000    1168.000000  \n",
              "mean      3.448630     47.315068     6.344178  2007.804795  181477.005993  \n",
              "std      44.896939    543.264432     2.686352     1.329738   79105.586863  \n",
              "min       0.000000      0.000000     1.000000  2006.000000   34900.000000  \n",
              "25%       0.000000      0.000000     5.000000  2007.000000  130375.000000  \n",
              "50%       0.000000      0.000000     6.000000  2008.000000  163995.000000  \n",
              "75%       0.000000      0.000000     8.000000  2009.000000  215000.000000  \n",
              "max     738.000000  15500.000000    12.000000  2010.000000  755000.000000  \n",
              "\n",
              "[8 rows x 38 columns]"
            ],
            "text/html": [
              "\n",
              "  <div id=\"df-50d7cff1-9a3d-4475-841b-b031d7aec683\">\n",
              "    <div class=\"colab-df-container\">\n",
              "      <div>\n",
              "<style scoped>\n",
              "    .dataframe tbody tr th:only-of-type {\n",
              "        vertical-align: middle;\n",
              "    }\n",
              "\n",
              "    .dataframe tbody tr th {\n",
              "        vertical-align: top;\n",
              "    }\n",
              "\n",
              "    .dataframe thead th {\n",
              "        text-align: right;\n",
              "    }\n",
              "</style>\n",
              "<table border=\"1\" class=\"dataframe\">\n",
              "  <thead>\n",
              "    <tr style=\"text-align: right;\">\n",
              "      <th></th>\n",
              "      <th>Id</th>\n",
              "      <th>MSSubClass</th>\n",
              "      <th>LotFrontage</th>\n",
              "      <th>LotArea</th>\n",
              "      <th>OverallQual</th>\n",
              "      <th>OverallCond</th>\n",
              "      <th>YearBuilt</th>\n",
              "      <th>YearRemodAdd</th>\n",
              "      <th>MasVnrArea</th>\n",
              "      <th>BsmtFinSF1</th>\n",
              "      <th>...</th>\n",
              "      <th>WoodDeckSF</th>\n",
              "      <th>OpenPorchSF</th>\n",
              "      <th>EnclosedPorch</th>\n",
              "      <th>3SsnPorch</th>\n",
              "      <th>ScreenPorch</th>\n",
              "      <th>PoolArea</th>\n",
              "      <th>MiscVal</th>\n",
              "      <th>MoSold</th>\n",
              "      <th>YrSold</th>\n",
              "      <th>SalePrice</th>\n",
              "    </tr>\n",
              "  </thead>\n",
              "  <tbody>\n",
              "    <tr>\n",
              "      <th>count</th>\n",
              "      <td>1168.000000</td>\n",
              "      <td>1168.000000</td>\n",
              "      <td>954.00000</td>\n",
              "      <td>1168.000000</td>\n",
              "      <td>1168.000000</td>\n",
              "      <td>1168.000000</td>\n",
              "      <td>1168.000000</td>\n",
              "      <td>1168.000000</td>\n",
              "      <td>1161.000000</td>\n",
              "      <td>1168.000000</td>\n",
              "      <td>...</td>\n",
              "      <td>1168.000000</td>\n",
              "      <td>1168.000000</td>\n",
              "      <td>1168.000000</td>\n",
              "      <td>1168.000000</td>\n",
              "      <td>1168.000000</td>\n",
              "      <td>1168.000000</td>\n",
              "      <td>1168.000000</td>\n",
              "      <td>1168.000000</td>\n",
              "      <td>1168.000000</td>\n",
              "      <td>1168.000000</td>\n",
              "    </tr>\n",
              "    <tr>\n",
              "      <th>mean</th>\n",
              "      <td>724.136130</td>\n",
              "      <td>56.767979</td>\n",
              "      <td>70.98847</td>\n",
              "      <td>10484.749144</td>\n",
              "      <td>6.104452</td>\n",
              "      <td>5.595890</td>\n",
              "      <td>1970.930651</td>\n",
              "      <td>1984.758562</td>\n",
              "      <td>102.310078</td>\n",
              "      <td>444.726027</td>\n",
              "      <td>...</td>\n",
              "      <td>96.206336</td>\n",
              "      <td>46.559932</td>\n",
              "      <td>23.015411</td>\n",
              "      <td>3.639555</td>\n",
              "      <td>15.051370</td>\n",
              "      <td>3.448630</td>\n",
              "      <td>47.315068</td>\n",
              "      <td>6.344178</td>\n",
              "      <td>2007.804795</td>\n",
              "      <td>181477.005993</td>\n",
              "    </tr>\n",
              "    <tr>\n",
              "      <th>std</th>\n",
              "      <td>416.159877</td>\n",
              "      <td>41.940650</td>\n",
              "      <td>24.82875</td>\n",
              "      <td>8957.442311</td>\n",
              "      <td>1.390153</td>\n",
              "      <td>1.124343</td>\n",
              "      <td>30.145255</td>\n",
              "      <td>20.785185</td>\n",
              "      <td>182.595606</td>\n",
              "      <td>462.664785</td>\n",
              "      <td>...</td>\n",
              "      <td>126.158988</td>\n",
              "      <td>66.381023</td>\n",
              "      <td>63.191089</td>\n",
              "      <td>29.088867</td>\n",
              "      <td>55.080816</td>\n",
              "      <td>44.896939</td>\n",
              "      <td>543.264432</td>\n",
              "      <td>2.686352</td>\n",
              "      <td>1.329738</td>\n",
              "      <td>79105.586863</td>\n",
              "    </tr>\n",
              "    <tr>\n",
              "      <th>min</th>\n",
              "      <td>1.000000</td>\n",
              "      <td>20.000000</td>\n",
              "      <td>21.00000</td>\n",
              "      <td>1300.000000</td>\n",
              "      <td>1.000000</td>\n",
              "      <td>1.000000</td>\n",
              "      <td>1875.000000</td>\n",
              "      <td>1950.000000</td>\n",
              "      <td>0.000000</td>\n",
              "      <td>0.000000</td>\n",
              "      <td>...</td>\n",
              "      <td>0.000000</td>\n",
              "      <td>0.000000</td>\n",
              "      <td>0.000000</td>\n",
              "      <td>0.000000</td>\n",
              "      <td>0.000000</td>\n",
              "      <td>0.000000</td>\n",
              "      <td>0.000000</td>\n",
              "      <td>1.000000</td>\n",
              "      <td>2006.000000</td>\n",
              "      <td>34900.000000</td>\n",
              "    </tr>\n",
              "    <tr>\n",
              "      <th>25%</th>\n",
              "      <td>360.500000</td>\n",
              "      <td>20.000000</td>\n",
              "      <td>60.00000</td>\n",
              "      <td>7621.500000</td>\n",
              "      <td>5.000000</td>\n",
              "      <td>5.000000</td>\n",
              "      <td>1954.000000</td>\n",
              "      <td>1966.000000</td>\n",
              "      <td>0.000000</td>\n",
              "      <td>0.000000</td>\n",
              "      <td>...</td>\n",
              "      <td>0.000000</td>\n",
              "      <td>0.000000</td>\n",
              "      <td>0.000000</td>\n",
              "      <td>0.000000</td>\n",
              "      <td>0.000000</td>\n",
              "      <td>0.000000</td>\n",
              "      <td>0.000000</td>\n",
              "      <td>5.000000</td>\n",
              "      <td>2007.000000</td>\n",
              "      <td>130375.000000</td>\n",
              "    </tr>\n",
              "    <tr>\n",
              "      <th>50%</th>\n",
              "      <td>714.500000</td>\n",
              "      <td>50.000000</td>\n",
              "      <td>70.00000</td>\n",
              "      <td>9522.500000</td>\n",
              "      <td>6.000000</td>\n",
              "      <td>5.000000</td>\n",
              "      <td>1972.000000</td>\n",
              "      <td>1993.000000</td>\n",
              "      <td>0.000000</td>\n",
              "      <td>385.500000</td>\n",
              "      <td>...</td>\n",
              "      <td>0.000000</td>\n",
              "      <td>24.000000</td>\n",
              "      <td>0.000000</td>\n",
              "      <td>0.000000</td>\n",
              "      <td>0.000000</td>\n",
              "      <td>0.000000</td>\n",
              "      <td>0.000000</td>\n",
              "      <td>6.000000</td>\n",
              "      <td>2008.000000</td>\n",
              "      <td>163995.000000</td>\n",
              "    </tr>\n",
              "    <tr>\n",
              "      <th>75%</th>\n",
              "      <td>1079.500000</td>\n",
              "      <td>70.000000</td>\n",
              "      <td>80.00000</td>\n",
              "      <td>11515.500000</td>\n",
              "      <td>7.000000</td>\n",
              "      <td>6.000000</td>\n",
              "      <td>2000.000000</td>\n",
              "      <td>2004.000000</td>\n",
              "      <td>160.000000</td>\n",
              "      <td>714.500000</td>\n",
              "      <td>...</td>\n",
              "      <td>171.000000</td>\n",
              "      <td>70.000000</td>\n",
              "      <td>0.000000</td>\n",
              "      <td>0.000000</td>\n",
              "      <td>0.000000</td>\n",
              "      <td>0.000000</td>\n",
              "      <td>0.000000</td>\n",
              "      <td>8.000000</td>\n",
              "      <td>2009.000000</td>\n",
              "      <td>215000.000000</td>\n",
              "    </tr>\n",
              "    <tr>\n",
              "      <th>max</th>\n",
              "      <td>1460.000000</td>\n",
              "      <td>190.000000</td>\n",
              "      <td>313.00000</td>\n",
              "      <td>164660.000000</td>\n",
              "      <td>10.000000</td>\n",
              "      <td>9.000000</td>\n",
              "      <td>2010.000000</td>\n",
              "      <td>2010.000000</td>\n",
              "      <td>1600.000000</td>\n",
              "      <td>5644.000000</td>\n",
              "      <td>...</td>\n",
              "      <td>857.000000</td>\n",
              "      <td>547.000000</td>\n",
              "      <td>552.000000</td>\n",
              "      <td>508.000000</td>\n",
              "      <td>480.000000</td>\n",
              "      <td>738.000000</td>\n",
              "      <td>15500.000000</td>\n",
              "      <td>12.000000</td>\n",
              "      <td>2010.000000</td>\n",
              "      <td>755000.000000</td>\n",
              "    </tr>\n",
              "  </tbody>\n",
              "</table>\n",
              "<p>8 rows × 38 columns</p>\n",
              "</div>\n",
              "      <button class=\"colab-df-convert\" onclick=\"convertToInteractive('df-50d7cff1-9a3d-4475-841b-b031d7aec683')\"\n",
              "              title=\"Convert this dataframe to an interactive table.\"\n",
              "              style=\"display:none;\">\n",
              "        \n",
              "  <svg xmlns=\"http://www.w3.org/2000/svg\" height=\"24px\"viewBox=\"0 0 24 24\"\n",
              "       width=\"24px\">\n",
              "    <path d=\"M0 0h24v24H0V0z\" fill=\"none\"/>\n",
              "    <path d=\"M18.56 5.44l.94 2.06.94-2.06 2.06-.94-2.06-.94-.94-2.06-.94 2.06-2.06.94zm-11 1L8.5 8.5l.94-2.06 2.06-.94-2.06-.94L8.5 2.5l-.94 2.06-2.06.94zm10 10l.94 2.06.94-2.06 2.06-.94-2.06-.94-.94-2.06-.94 2.06-2.06.94z\"/><path d=\"M17.41 7.96l-1.37-1.37c-.4-.4-.92-.59-1.43-.59-.52 0-1.04.2-1.43.59L10.3 9.45l-7.72 7.72c-.78.78-.78 2.05 0 2.83L4 21.41c.39.39.9.59 1.41.59.51 0 1.02-.2 1.41-.59l7.78-7.78 2.81-2.81c.8-.78.8-2.07 0-2.86zM5.41 20L4 18.59l7.72-7.72 1.47 1.35L5.41 20z\"/>\n",
              "  </svg>\n",
              "      </button>\n",
              "      \n",
              "  <style>\n",
              "    .colab-df-container {\n",
              "      display:flex;\n",
              "      flex-wrap:wrap;\n",
              "      gap: 12px;\n",
              "    }\n",
              "\n",
              "    .colab-df-convert {\n",
              "      background-color: #E8F0FE;\n",
              "      border: none;\n",
              "      border-radius: 50%;\n",
              "      cursor: pointer;\n",
              "      display: none;\n",
              "      fill: #1967D2;\n",
              "      height: 32px;\n",
              "      padding: 0 0 0 0;\n",
              "      width: 32px;\n",
              "    }\n",
              "\n",
              "    .colab-df-convert:hover {\n",
              "      background-color: #E2EBFA;\n",
              "      box-shadow: 0px 1px 2px rgba(60, 64, 67, 0.3), 0px 1px 3px 1px rgba(60, 64, 67, 0.15);\n",
              "      fill: #174EA6;\n",
              "    }\n",
              "\n",
              "    [theme=dark] .colab-df-convert {\n",
              "      background-color: #3B4455;\n",
              "      fill: #D2E3FC;\n",
              "    }\n",
              "\n",
              "    [theme=dark] .colab-df-convert:hover {\n",
              "      background-color: #434B5C;\n",
              "      box-shadow: 0px 1px 3px 1px rgba(0, 0, 0, 0.15);\n",
              "      filter: drop-shadow(0px 1px 2px rgba(0, 0, 0, 0.3));\n",
              "      fill: #FFFFFF;\n",
              "    }\n",
              "  </style>\n",
              "\n",
              "      <script>\n",
              "        const buttonEl =\n",
              "          document.querySelector('#df-50d7cff1-9a3d-4475-841b-b031d7aec683 button.colab-df-convert');\n",
              "        buttonEl.style.display =\n",
              "          google.colab.kernel.accessAllowed ? 'block' : 'none';\n",
              "\n",
              "        async function convertToInteractive(key) {\n",
              "          const element = document.querySelector('#df-50d7cff1-9a3d-4475-841b-b031d7aec683');\n",
              "          const dataTable =\n",
              "            await google.colab.kernel.invokeFunction('convertToInteractive',\n",
              "                                                     [key], {});\n",
              "          if (!dataTable) return;\n",
              "\n",
              "          const docLinkHtml = 'Like what you see? Visit the ' +\n",
              "            '<a target=\"_blank\" href=https://colab.research.google.com/notebooks/data_table.ipynb>data table notebook</a>'\n",
              "            + ' to learn more about interactive tables.';\n",
              "          element.innerHTML = '';\n",
              "          dataTable['output_type'] = 'display_data';\n",
              "          await google.colab.output.renderOutput(dataTable, element);\n",
              "          const docLink = document.createElement('div');\n",
              "          docLink.innerHTML = docLinkHtml;\n",
              "          element.appendChild(docLink);\n",
              "        }\n",
              "      </script>\n",
              "    </div>\n",
              "  </div>\n",
              "  "
            ]
          },
          "metadata": {},
          "execution_count": 4
        }
      ]
    },
    {
      "cell_type": "markdown",
      "source": [
        "In this data set we have many categorical columns.\n",
        "column lotfrontage is having 954 values it means it have null values which is need to be treated. "
      ],
      "metadata": {
        "id": "dnFeXzVPtcjP"
      }
    },
    {
      "cell_type": "code",
      "source": [
        "from sklearn.impute import KNNImputer \n",
        "knnimp = KNNImputer(n_neighbors=2)\n",
        "df_file = pd.DataFrame(knnimp.fit_transform(df_train[['OverallQual','LotFrontage']]))\n",
        "df_file.columns=(['OverallQual','LotFrontage'])\n",
        "df_file"
      ],
      "metadata": {
        "id": "tO8lMKb_FA5I",
        "colab": {
          "base_uri": "https://localhost:8080/",
          "height": 423
        },
        "outputId": "15a4c3ce-68a8-493c-8650-9388d1ab67d3"
      },
      "execution_count": 6,
      "outputs": [
        {
          "output_type": "execute_result",
          "data": {
            "text/plain": [
              "      OverallQual  LotFrontage\n",
              "0             6.0         77.5\n",
              "1             8.0         95.0\n",
              "2             7.0         92.0\n",
              "3             6.0        105.0\n",
              "4             6.0         77.5\n",
              "...           ...          ...\n",
              "1163          5.0         79.0\n",
              "1164          4.0         67.0\n",
              "1165          6.0         24.0\n",
              "1166          4.0         50.0\n",
              "1167          6.0         77.5\n",
              "\n",
              "[1168 rows x 2 columns]"
            ],
            "text/html": [
              "\n",
              "  <div id=\"df-788ee4d9-6190-4021-bee9-24fcf96a3bd2\">\n",
              "    <div class=\"colab-df-container\">\n",
              "      <div>\n",
              "<style scoped>\n",
              "    .dataframe tbody tr th:only-of-type {\n",
              "        vertical-align: middle;\n",
              "    }\n",
              "\n",
              "    .dataframe tbody tr th {\n",
              "        vertical-align: top;\n",
              "    }\n",
              "\n",
              "    .dataframe thead th {\n",
              "        text-align: right;\n",
              "    }\n",
              "</style>\n",
              "<table border=\"1\" class=\"dataframe\">\n",
              "  <thead>\n",
              "    <tr style=\"text-align: right;\">\n",
              "      <th></th>\n",
              "      <th>OverallQual</th>\n",
              "      <th>LotFrontage</th>\n",
              "    </tr>\n",
              "  </thead>\n",
              "  <tbody>\n",
              "    <tr>\n",
              "      <th>0</th>\n",
              "      <td>6.0</td>\n",
              "      <td>77.5</td>\n",
              "    </tr>\n",
              "    <tr>\n",
              "      <th>1</th>\n",
              "      <td>8.0</td>\n",
              "      <td>95.0</td>\n",
              "    </tr>\n",
              "    <tr>\n",
              "      <th>2</th>\n",
              "      <td>7.0</td>\n",
              "      <td>92.0</td>\n",
              "    </tr>\n",
              "    <tr>\n",
              "      <th>3</th>\n",
              "      <td>6.0</td>\n",
              "      <td>105.0</td>\n",
              "    </tr>\n",
              "    <tr>\n",
              "      <th>4</th>\n",
              "      <td>6.0</td>\n",
              "      <td>77.5</td>\n",
              "    </tr>\n",
              "    <tr>\n",
              "      <th>...</th>\n",
              "      <td>...</td>\n",
              "      <td>...</td>\n",
              "    </tr>\n",
              "    <tr>\n",
              "      <th>1163</th>\n",
              "      <td>5.0</td>\n",
              "      <td>79.0</td>\n",
              "    </tr>\n",
              "    <tr>\n",
              "      <th>1164</th>\n",
              "      <td>4.0</td>\n",
              "      <td>67.0</td>\n",
              "    </tr>\n",
              "    <tr>\n",
              "      <th>1165</th>\n",
              "      <td>6.0</td>\n",
              "      <td>24.0</td>\n",
              "    </tr>\n",
              "    <tr>\n",
              "      <th>1166</th>\n",
              "      <td>4.0</td>\n",
              "      <td>50.0</td>\n",
              "    </tr>\n",
              "    <tr>\n",
              "      <th>1167</th>\n",
              "      <td>6.0</td>\n",
              "      <td>77.5</td>\n",
              "    </tr>\n",
              "  </tbody>\n",
              "</table>\n",
              "<p>1168 rows × 2 columns</p>\n",
              "</div>\n",
              "      <button class=\"colab-df-convert\" onclick=\"convertToInteractive('df-788ee4d9-6190-4021-bee9-24fcf96a3bd2')\"\n",
              "              title=\"Convert this dataframe to an interactive table.\"\n",
              "              style=\"display:none;\">\n",
              "        \n",
              "  <svg xmlns=\"http://www.w3.org/2000/svg\" height=\"24px\"viewBox=\"0 0 24 24\"\n",
              "       width=\"24px\">\n",
              "    <path d=\"M0 0h24v24H0V0z\" fill=\"none\"/>\n",
              "    <path d=\"M18.56 5.44l.94 2.06.94-2.06 2.06-.94-2.06-.94-.94-2.06-.94 2.06-2.06.94zm-11 1L8.5 8.5l.94-2.06 2.06-.94-2.06-.94L8.5 2.5l-.94 2.06-2.06.94zm10 10l.94 2.06.94-2.06 2.06-.94-2.06-.94-.94-2.06-.94 2.06-2.06.94z\"/><path d=\"M17.41 7.96l-1.37-1.37c-.4-.4-.92-.59-1.43-.59-.52 0-1.04.2-1.43.59L10.3 9.45l-7.72 7.72c-.78.78-.78 2.05 0 2.83L4 21.41c.39.39.9.59 1.41.59.51 0 1.02-.2 1.41-.59l7.78-7.78 2.81-2.81c.8-.78.8-2.07 0-2.86zM5.41 20L4 18.59l7.72-7.72 1.47 1.35L5.41 20z\"/>\n",
              "  </svg>\n",
              "      </button>\n",
              "      \n",
              "  <style>\n",
              "    .colab-df-container {\n",
              "      display:flex;\n",
              "      flex-wrap:wrap;\n",
              "      gap: 12px;\n",
              "    }\n",
              "\n",
              "    .colab-df-convert {\n",
              "      background-color: #E8F0FE;\n",
              "      border: none;\n",
              "      border-radius: 50%;\n",
              "      cursor: pointer;\n",
              "      display: none;\n",
              "      fill: #1967D2;\n",
              "      height: 32px;\n",
              "      padding: 0 0 0 0;\n",
              "      width: 32px;\n",
              "    }\n",
              "\n",
              "    .colab-df-convert:hover {\n",
              "      background-color: #E2EBFA;\n",
              "      box-shadow: 0px 1px 2px rgba(60, 64, 67, 0.3), 0px 1px 3px 1px rgba(60, 64, 67, 0.15);\n",
              "      fill: #174EA6;\n",
              "    }\n",
              "\n",
              "    [theme=dark] .colab-df-convert {\n",
              "      background-color: #3B4455;\n",
              "      fill: #D2E3FC;\n",
              "    }\n",
              "\n",
              "    [theme=dark] .colab-df-convert:hover {\n",
              "      background-color: #434B5C;\n",
              "      box-shadow: 0px 1px 3px 1px rgba(0, 0, 0, 0.15);\n",
              "      filter: drop-shadow(0px 1px 2px rgba(0, 0, 0, 0.3));\n",
              "      fill: #FFFFFF;\n",
              "    }\n",
              "  </style>\n",
              "\n",
              "      <script>\n",
              "        const buttonEl =\n",
              "          document.querySelector('#df-788ee4d9-6190-4021-bee9-24fcf96a3bd2 button.colab-df-convert');\n",
              "        buttonEl.style.display =\n",
              "          google.colab.kernel.accessAllowed ? 'block' : 'none';\n",
              "\n",
              "        async function convertToInteractive(key) {\n",
              "          const element = document.querySelector('#df-788ee4d9-6190-4021-bee9-24fcf96a3bd2');\n",
              "          const dataTable =\n",
              "            await google.colab.kernel.invokeFunction('convertToInteractive',\n",
              "                                                     [key], {});\n",
              "          if (!dataTable) return;\n",
              "\n",
              "          const docLinkHtml = 'Like what you see? Visit the ' +\n",
              "            '<a target=\"_blank\" href=https://colab.research.google.com/notebooks/data_table.ipynb>data table notebook</a>'\n",
              "            + ' to learn more about interactive tables.';\n",
              "          element.innerHTML = '';\n",
              "          dataTable['output_type'] = 'display_data';\n",
              "          await google.colab.output.renderOutput(dataTable, element);\n",
              "          const docLink = document.createElement('div');\n",
              "          docLink.innerHTML = docLinkHtml;\n",
              "          element.appendChild(docLink);\n",
              "        }\n",
              "      </script>\n",
              "    </div>\n",
              "  </div>\n",
              "  "
            ]
          },
          "metadata": {},
          "execution_count": 6
        }
      ]
    },
    {
      "cell_type": "code",
      "source": [
        "df_train.drop(['OverallQual','LotFrontage'],axis = 1,inplace = True)"
      ],
      "metadata": {
        "id": "eI9L3pPlF0bu"
      },
      "execution_count": 7,
      "outputs": []
    },
    {
      "cell_type": "code",
      "source": [
        "# seperating int type columns\n",
        "df_int = df_train.select_dtypes(include='int')"
      ],
      "metadata": {
        "id": "C3tplvLcu2fp"
      },
      "execution_count": 8,
      "outputs": []
    },
    {
      "cell_type": "code",
      "source": [
        "df_Tr=pd.concat([df_file,df_int],axis = 1)"
      ],
      "metadata": {
        "id": "YsyvDQinukVz"
      },
      "execution_count": 9,
      "outputs": []
    },
    {
      "cell_type": "code",
      "source": [
        "df_train.info()"
      ],
      "metadata": {
        "colab": {
          "base_uri": "https://localhost:8080/"
        },
        "id": "M4LBCwu_t5cp",
        "outputId": "fc0d8dea-8cae-4df1-9d47-4b22e2faf74c"
      },
      "execution_count": 5,
      "outputs": [
        {
          "output_type": "stream",
          "name": "stdout",
          "text": [
            "<class 'pandas.core.frame.DataFrame'>\n",
            "RangeIndex: 1168 entries, 0 to 1167\n",
            "Data columns (total 81 columns):\n",
            " #   Column         Non-Null Count  Dtype  \n",
            "---  ------         --------------  -----  \n",
            " 0   Id             1168 non-null   int64  \n",
            " 1   MSSubClass     1168 non-null   int64  \n",
            " 2   MSZoning       1168 non-null   object \n",
            " 3   LotFrontage    954 non-null    float64\n",
            " 4   LotArea        1168 non-null   int64  \n",
            " 5   Street         1168 non-null   object \n",
            " 6   Alley          77 non-null     object \n",
            " 7   LotShape       1168 non-null   object \n",
            " 8   LandContour    1168 non-null   object \n",
            " 9   Utilities      1168 non-null   object \n",
            " 10  LotConfig      1168 non-null   object \n",
            " 11  LandSlope      1168 non-null   object \n",
            " 12  Neighborhood   1168 non-null   object \n",
            " 13  Condition1     1168 non-null   object \n",
            " 14  Condition2     1168 non-null   object \n",
            " 15  BldgType       1168 non-null   object \n",
            " 16  HouseStyle     1168 non-null   object \n",
            " 17  OverallQual    1168 non-null   int64  \n",
            " 18  OverallCond    1168 non-null   int64  \n",
            " 19  YearBuilt      1168 non-null   int64  \n",
            " 20  YearRemodAdd   1168 non-null   int64  \n",
            " 21  RoofStyle      1168 non-null   object \n",
            " 22  RoofMatl       1168 non-null   object \n",
            " 23  Exterior1st    1168 non-null   object \n",
            " 24  Exterior2nd    1168 non-null   object \n",
            " 25  MasVnrType     1161 non-null   object \n",
            " 26  MasVnrArea     1161 non-null   float64\n",
            " 27  ExterQual      1168 non-null   object \n",
            " 28  ExterCond      1168 non-null   object \n",
            " 29  Foundation     1168 non-null   object \n",
            " 30  BsmtQual       1138 non-null   object \n",
            " 31  BsmtCond       1138 non-null   object \n",
            " 32  BsmtExposure   1137 non-null   object \n",
            " 33  BsmtFinType1   1138 non-null   object \n",
            " 34  BsmtFinSF1     1168 non-null   int64  \n",
            " 35  BsmtFinType2   1137 non-null   object \n",
            " 36  BsmtFinSF2     1168 non-null   int64  \n",
            " 37  BsmtUnfSF      1168 non-null   int64  \n",
            " 38  TotalBsmtSF    1168 non-null   int64  \n",
            " 39  Heating        1168 non-null   object \n",
            " 40  HeatingQC      1168 non-null   object \n",
            " 41  CentralAir     1168 non-null   object \n",
            " 42  Electrical     1168 non-null   object \n",
            " 43  1stFlrSF       1168 non-null   int64  \n",
            " 44  2ndFlrSF       1168 non-null   int64  \n",
            " 45  LowQualFinSF   1168 non-null   int64  \n",
            " 46  GrLivArea      1168 non-null   int64  \n",
            " 47  BsmtFullBath   1168 non-null   int64  \n",
            " 48  BsmtHalfBath   1168 non-null   int64  \n",
            " 49  FullBath       1168 non-null   int64  \n",
            " 50  HalfBath       1168 non-null   int64  \n",
            " 51  BedroomAbvGr   1168 non-null   int64  \n",
            " 52  KitchenAbvGr   1168 non-null   int64  \n",
            " 53  KitchenQual    1168 non-null   object \n",
            " 54  TotRmsAbvGrd   1168 non-null   int64  \n",
            " 55  Functional     1168 non-null   object \n",
            " 56  Fireplaces     1168 non-null   int64  \n",
            " 57  FireplaceQu    617 non-null    object \n",
            " 58  GarageType     1104 non-null   object \n",
            " 59  GarageYrBlt    1104 non-null   float64\n",
            " 60  GarageFinish   1104 non-null   object \n",
            " 61  GarageCars     1168 non-null   int64  \n",
            " 62  GarageArea     1168 non-null   int64  \n",
            " 63  GarageQual     1104 non-null   object \n",
            " 64  GarageCond     1104 non-null   object \n",
            " 65  PavedDrive     1168 non-null   object \n",
            " 66  WoodDeckSF     1168 non-null   int64  \n",
            " 67  OpenPorchSF    1168 non-null   int64  \n",
            " 68  EnclosedPorch  1168 non-null   int64  \n",
            " 69  3SsnPorch      1168 non-null   int64  \n",
            " 70  ScreenPorch    1168 non-null   int64  \n",
            " 71  PoolArea       1168 non-null   int64  \n",
            " 72  PoolQC         7 non-null      object \n",
            " 73  Fence          237 non-null    object \n",
            " 74  MiscFeature    44 non-null     object \n",
            " 75  MiscVal        1168 non-null   int64  \n",
            " 76  MoSold         1168 non-null   int64  \n",
            " 77  YrSold         1168 non-null   int64  \n",
            " 78  SaleType       1168 non-null   object \n",
            " 79  SaleCondition  1168 non-null   object \n",
            " 80  SalePrice      1168 non-null   int64  \n",
            "dtypes: float64(3), int64(35), object(43)\n",
            "memory usage: 739.2+ KB\n"
          ]
        }
      ]
    },
    {
      "cell_type": "markdown",
      "source": [
        "column number 6,57,72,73,74 have so many null values, so its better to drop such column"
      ],
      "metadata": {
        "id": "MyvOW2ymuBwt"
      }
    },
    {
      "cell_type": "code",
      "source": [
        "df_train.drop(['Alley','FireplaceQu','PoolQC','Fence','MiscFeature'],axis = 1,inplace = True)"
      ],
      "metadata": {
        "id": "5vGS2Xl_z9Ph"
      },
      "execution_count": 10,
      "outputs": []
    },
    {
      "cell_type": "code",
      "source": [
        "# only int data type columns \n",
        "df_Tr.info()"
      ],
      "metadata": {
        "colab": {
          "base_uri": "https://localhost:8080/"
        },
        "id": "Jes2RzCwEdxt",
        "outputId": "d2f6306d-b9bd-455e-81a0-3905e9d05c9e"
      },
      "execution_count": 11,
      "outputs": [
        {
          "output_type": "stream",
          "name": "stdout",
          "text": [
            "<class 'pandas.core.frame.DataFrame'>\n",
            "RangeIndex: 1168 entries, 0 to 1167\n",
            "Data columns (total 36 columns):\n",
            " #   Column         Non-Null Count  Dtype  \n",
            "---  ------         --------------  -----  \n",
            " 0   OverallQual    1168 non-null   float64\n",
            " 1   LotFrontage    1168 non-null   float64\n",
            " 2   Id             1168 non-null   int64  \n",
            " 3   MSSubClass     1168 non-null   int64  \n",
            " 4   LotArea        1168 non-null   int64  \n",
            " 5   OverallCond    1168 non-null   int64  \n",
            " 6   YearBuilt      1168 non-null   int64  \n",
            " 7   YearRemodAdd   1168 non-null   int64  \n",
            " 8   BsmtFinSF1     1168 non-null   int64  \n",
            " 9   BsmtFinSF2     1168 non-null   int64  \n",
            " 10  BsmtUnfSF      1168 non-null   int64  \n",
            " 11  TotalBsmtSF    1168 non-null   int64  \n",
            " 12  1stFlrSF       1168 non-null   int64  \n",
            " 13  2ndFlrSF       1168 non-null   int64  \n",
            " 14  LowQualFinSF   1168 non-null   int64  \n",
            " 15  GrLivArea      1168 non-null   int64  \n",
            " 16  BsmtFullBath   1168 non-null   int64  \n",
            " 17  BsmtHalfBath   1168 non-null   int64  \n",
            " 18  FullBath       1168 non-null   int64  \n",
            " 19  HalfBath       1168 non-null   int64  \n",
            " 20  BedroomAbvGr   1168 non-null   int64  \n",
            " 21  KitchenAbvGr   1168 non-null   int64  \n",
            " 22  TotRmsAbvGrd   1168 non-null   int64  \n",
            " 23  Fireplaces     1168 non-null   int64  \n",
            " 24  GarageCars     1168 non-null   int64  \n",
            " 25  GarageArea     1168 non-null   int64  \n",
            " 26  WoodDeckSF     1168 non-null   int64  \n",
            " 27  OpenPorchSF    1168 non-null   int64  \n",
            " 28  EnclosedPorch  1168 non-null   int64  \n",
            " 29  3SsnPorch      1168 non-null   int64  \n",
            " 30  ScreenPorch    1168 non-null   int64  \n",
            " 31  PoolArea       1168 non-null   int64  \n",
            " 32  MiscVal        1168 non-null   int64  \n",
            " 33  MoSold         1168 non-null   int64  \n",
            " 34  YrSold         1168 non-null   int64  \n",
            " 35  SalePrice      1168 non-null   int64  \n",
            "dtypes: float64(2), int64(34)\n",
            "memory usage: 328.6 KB\n"
          ]
        }
      ]
    },
    {
      "cell_type": "markdown",
      "source": [
        "### all values are complete but column no 6,7 are needed to be converted as they are date type so need to convert them to number of years "
      ],
      "metadata": {
        "id": "oCCrgO6Cvi88"
      }
    },
    {
      "cell_type": "code",
      "source": [
        "# seperating categorical data \n",
        "df_cat= df_train.select_dtypes(include='object')"
      ],
      "metadata": {
        "id": "SSp4ZuZ5Dimw"
      },
      "execution_count": 12,
      "outputs": []
    },
    {
      "cell_type": "code",
      "source": [
        "df_cat.info()"
      ],
      "metadata": {
        "colab": {
          "base_uri": "https://localhost:8080/"
        },
        "id": "kh9eLZH3Dvt2",
        "outputId": "100de287-c879-4db9-b4be-35dc402de23d"
      },
      "execution_count": 13,
      "outputs": [
        {
          "output_type": "stream",
          "name": "stdout",
          "text": [
            "<class 'pandas.core.frame.DataFrame'>\n",
            "RangeIndex: 1168 entries, 0 to 1167\n",
            "Data columns (total 38 columns):\n",
            " #   Column         Non-Null Count  Dtype \n",
            "---  ------         --------------  ----- \n",
            " 0   MSZoning       1168 non-null   object\n",
            " 1   Street         1168 non-null   object\n",
            " 2   LotShape       1168 non-null   object\n",
            " 3   LandContour    1168 non-null   object\n",
            " 4   Utilities      1168 non-null   object\n",
            " 5   LotConfig      1168 non-null   object\n",
            " 6   LandSlope      1168 non-null   object\n",
            " 7   Neighborhood   1168 non-null   object\n",
            " 8   Condition1     1168 non-null   object\n",
            " 9   Condition2     1168 non-null   object\n",
            " 10  BldgType       1168 non-null   object\n",
            " 11  HouseStyle     1168 non-null   object\n",
            " 12  RoofStyle      1168 non-null   object\n",
            " 13  RoofMatl       1168 non-null   object\n",
            " 14  Exterior1st    1168 non-null   object\n",
            " 15  Exterior2nd    1168 non-null   object\n",
            " 16  MasVnrType     1161 non-null   object\n",
            " 17  ExterQual      1168 non-null   object\n",
            " 18  ExterCond      1168 non-null   object\n",
            " 19  Foundation     1168 non-null   object\n",
            " 20  BsmtQual       1138 non-null   object\n",
            " 21  BsmtCond       1138 non-null   object\n",
            " 22  BsmtExposure   1137 non-null   object\n",
            " 23  BsmtFinType1   1138 non-null   object\n",
            " 24  BsmtFinType2   1137 non-null   object\n",
            " 25  Heating        1168 non-null   object\n",
            " 26  HeatingQC      1168 non-null   object\n",
            " 27  CentralAir     1168 non-null   object\n",
            " 28  Electrical     1168 non-null   object\n",
            " 29  KitchenQual    1168 non-null   object\n",
            " 30  Functional     1168 non-null   object\n",
            " 31  GarageType     1104 non-null   object\n",
            " 32  GarageFinish   1104 non-null   object\n",
            " 33  GarageQual     1104 non-null   object\n",
            " 34  GarageCond     1104 non-null   object\n",
            " 35  PavedDrive     1168 non-null   object\n",
            " 36  SaleType       1168 non-null   object\n",
            " 37  SaleCondition  1168 non-null   object\n",
            "dtypes: object(38)\n",
            "memory usage: 346.9+ KB\n"
          ]
        }
      ]
    },
    {
      "cell_type": "markdown",
      "source": [
        "we need to convert the all he object data type column based on their values so below is the coversion of all the columns based on the type of value they have , if it is ordinal type we have used here ordinal encoder, if it is a simple category we have used label encoder, if the number of category is more then 6 we have used binary encoder ."
      ],
      "metadata": {
        "id": "W9wD4D7DwKU5"
      }
    },
    {
      "cell_type": "code",
      "source": [
        "!pip install category_encoders"
      ],
      "metadata": {
        "id": "ZXrG68gpHm-Y"
      },
      "execution_count": 14,
      "outputs": []
    },
    {
      "cell_type": "code",
      "source": [
        "from category_encoders import BinaryEncoder\n",
        "bin_enc = BinaryEncoder(cols = ['MSZoning'])\n",
        "a = bin_enc.fit_transform(df_cat['MSZoning'])\n"
      ],
      "metadata": {
        "id": "c18epXuJHLtG"
      },
      "execution_count": 15,
      "outputs": []
    },
    {
      "cell_type": "code",
      "source": [
        "from sklearn.preprocessing import LabelEncoder\n",
        "lab_enc = LabelEncoder()\n",
        "Lot= pd.DataFrame(lab_enc.fit_transform(df_cat['Street']))\n",
        "Lot.columns=(['Street'])\n"
      ],
      "metadata": {
        "id": "oJRV1ZN_IKNm"
      },
      "execution_count": 16,
      "outputs": []
    },
    {
      "cell_type": "code",
      "source": [
        "Lots= pd.DataFrame(lab_enc.fit_transform(df_cat['LotShape']))\n",
        "Lots.columns=(['LotShape'])\n"
      ],
      "metadata": {
        "id": "ugYv2Y9BIeId"
      },
      "execution_count": 17,
      "outputs": []
    },
    {
      "cell_type": "code",
      "source": [
        "Lotc= pd.DataFrame(lab_enc.fit_transform(df_cat['LotConfig']))\n",
        "Lotc.columns=(['LotConfig'])\n"
      ],
      "metadata": {
        "id": "Uee6wG4pJLoP"
      },
      "execution_count": 18,
      "outputs": []
    },
    {
      "cell_type": "code",
      "source": [
        "LotS= pd.DataFrame(lab_enc.fit_transform(df_cat['LandSlope']))\n",
        "LotS.columns=(['LandSlope'])\n"
      ],
      "metadata": {
        "id": "PpCE3a7XZQxx"
      },
      "execution_count": 19,
      "outputs": []
    },
    {
      "cell_type": "code",
      "source": [
        "\n",
        "from category_encoders import BinaryEncoder\n",
        "bin_enc = BinaryEncoder(cols = ['Neighborhood'])\n",
        "nd = bin_enc.fit_transform(df_cat['Neighborhood'])\n"
      ],
      "metadata": {
        "id": "-_i3SOvpZuTo"
      },
      "execution_count": 20,
      "outputs": []
    },
    {
      "cell_type": "code",
      "source": [
        "\n",
        "bin_enc = BinaryEncoder(cols = ['Condition1'])\n",
        "cd = bin_enc.fit_transform(df_cat['Condition1'])\n"
      ],
      "metadata": {
        "id": "J-CDsY0CZ4ha"
      },
      "execution_count": 21,
      "outputs": []
    },
    {
      "cell_type": "code",
      "source": [
        "\n",
        "bin_enc = BinaryEncoder(cols = ['Condition2'])\n",
        "cd2 = bin_enc.fit_transform(df_cat['Condition2'])\n"
      ],
      "metadata": {
        "id": "WCT8bN8WaKcl"
      },
      "execution_count": 22,
      "outputs": []
    },
    {
      "cell_type": "code",
      "source": [
        "Bld= pd.DataFrame(lab_enc.fit_transform(df_cat['BldgType']))\n",
        "Bld.columns=(['BldgType'])\n"
      ],
      "metadata": {
        "id": "Wo4kCKqrZQ5x"
      },
      "execution_count": 23,
      "outputs": []
    },
    {
      "cell_type": "code",
      "source": [
        "Hst= pd.DataFrame(lab_enc.fit_transform(df_cat['HouseStyle']))\n",
        "Hst.columns=(['HouseStyle'])\n"
      ],
      "metadata": {
        "id": "5gc0K_0IZQ8x"
      },
      "execution_count": 24,
      "outputs": []
    },
    {
      "cell_type": "code",
      "source": [
        "rft= pd.DataFrame(lab_enc.fit_transform(df_cat['RoofStyle']))\n",
        "rft.columns=(['RoofStyle'])\n"
      ],
      "metadata": {
        "id": "cuc2sFRaZQ_z"
      },
      "execution_count": 25,
      "outputs": []
    },
    {
      "cell_type": "code",
      "source": [
        "rftm= pd.DataFrame(lab_enc.fit_transform(df_cat['RoofMatl']))\n",
        "rftm.columns=(['RoofMatl'])\n"
      ],
      "metadata": {
        "id": "Ou009IXQZRCz"
      },
      "execution_count": 26,
      "outputs": []
    },
    {
      "cell_type": "code",
      "source": [
        "\n",
        "bin_enc = BinaryEncoder(cols = ['Exterior1st'])\n",
        "ext1 = bin_enc.fit_transform(df_cat['Exterior1st'])\n"
      ],
      "metadata": {
        "id": "EFjpDVzxbL0S"
      },
      "execution_count": 27,
      "outputs": []
    },
    {
      "cell_type": "code",
      "source": [
        "\n",
        "bin_enc = BinaryEncoder(cols = ['Exterior2nd'])\n",
        "ext2 = bin_enc.fit_transform(df_cat['Exterior2nd'])\n"
      ],
      "metadata": {
        "id": "mbnjvoeOblI8"
      },
      "execution_count": 28,
      "outputs": []
    },
    {
      "cell_type": "code",
      "source": [
        "Mas= pd.DataFrame(lab_enc.fit_transform(df_cat['MasVnrType']))\n",
        "Mas.columns=(['MasVnrType'])\n"
      ],
      "metadata": {
        "id": "j0VLEtaNbuuY"
      },
      "execution_count": 29,
      "outputs": []
    },
    {
      "cell_type": "code",
      "source": [
        "df_cat.drop(['MasVnrType','Exterior2nd','Exterior1st','RoofMatl','RoofStyle','HouseStyle','BldgType',\n",
        "             'Condition2','Condition1','Neighborhood','LandSlope','LotConfig','LotShape','Street','MSZoning'],axis =1,inplace = True)"
      ],
      "metadata": {
        "colab": {
          "base_uri": "https://localhost:8080/"
        },
        "id": "6bnK-e78rhQX",
        "outputId": "75070086-ed25-4e94-e8ee-725bda3c6c02"
      },
      "execution_count": 30,
      "outputs": [
        {
          "output_type": "stream",
          "name": "stderr",
          "text": [
            "/usr/local/lib/python3.8/dist-packages/pandas/core/frame.py:4906: SettingWithCopyWarning: \n",
            "A value is trying to be set on a copy of a slice from a DataFrame\n",
            "\n",
            "See the caveats in the documentation: https://pandas.pydata.org/pandas-docs/stable/user_guide/indexing.html#returning-a-view-versus-a-copy\n",
            "  return super().drop(\n"
          ]
        }
      ]
    },
    {
      "cell_type": "code",
      "source": [
        "from sklearn.preprocessing import OrdinalEncoder\n",
        "dic = {'Ex':5,'Gd':4,'TA':3,'Fa':2,'Po':1}\n",
        "df_cat['ExterQual'] = df_cat.ExterQual.map(dic)"
      ],
      "metadata": {
        "colab": {
          "base_uri": "https://localhost:8080/"
        },
        "id": "ILI_kYWPcQEV",
        "outputId": "2b33a7c6-3d46-4463-b96e-4ec1e1322d39"
      },
      "execution_count": 31,
      "outputs": [
        {
          "output_type": "stream",
          "name": "stderr",
          "text": [
            "<ipython-input-31-5a75090bf2a8>:3: SettingWithCopyWarning: \n",
            "A value is trying to be set on a copy of a slice from a DataFrame.\n",
            "Try using .loc[row_indexer,col_indexer] = value instead\n",
            "\n",
            "See the caveats in the documentation: https://pandas.pydata.org/pandas-docs/stable/user_guide/indexing.html#returning-a-view-versus-a-copy\n",
            "  df_cat['ExterQual'] = df_cat.ExterQual.map(dic)\n"
          ]
        }
      ]
    },
    {
      "cell_type": "code",
      "source": [
        "from sklearn.preprocessing import OrdinalEncoder\n",
        "dic = {'Ex':5,'Gd':4,'TA':3,'Fa':2,'Po':1}\n",
        "df_cat['ExterCond'] = df_cat.ExterCond.map(dic)\n"
      ],
      "metadata": {
        "colab": {
          "base_uri": "https://localhost:8080/"
        },
        "id": "GweWMv3PcwRZ",
        "outputId": "6d93a2bd-ccad-4d92-ab8c-214e73876423"
      },
      "execution_count": 33,
      "outputs": [
        {
          "output_type": "stream",
          "name": "stderr",
          "text": [
            "<ipython-input-33-c61bb1a178f5>:3: SettingWithCopyWarning: \n",
            "A value is trying to be set on a copy of a slice from a DataFrame.\n",
            "Try using .loc[row_indexer,col_indexer] = value instead\n",
            "\n",
            "See the caveats in the documentation: https://pandas.pydata.org/pandas-docs/stable/user_guide/indexing.html#returning-a-view-versus-a-copy\n",
            "  df_cat['ExterCond'] = df_cat.ExterCond.map(dic)\n"
          ]
        }
      ]
    },
    {
      "cell_type": "code",
      "source": [
        "fond= pd.DataFrame(lab_enc.fit_transform(df_cat['Foundation']))\n",
        "fond.columns=(['Foundation'])\n"
      ],
      "metadata": {
        "id": "8yw-5Ti2bu0p"
      },
      "execution_count": 34,
      "outputs": []
    },
    {
      "cell_type": "code",
      "source": [
        "df_cat.drop(['Foundation'],axis = 1, inplace = True)"
      ],
      "metadata": {
        "id": "wjYa9MKK1njo"
      },
      "execution_count": 36,
      "outputs": []
    },
    {
      "cell_type": "code",
      "source": [
        "\n",
        "from sklearn.preprocessing import OrdinalEncoder\n",
        "dic = {'Ex':6,'Gd':5,'TA':4,'Fa':3,'Po':2,'NA':1}\n",
        "df_cat['BsmtQual'] = df_cat.BsmtQual.map(dic)"
      ],
      "metadata": {
        "colab": {
          "base_uri": "https://localhost:8080/"
        },
        "id": "2CtnNmV7bu65",
        "outputId": "c89381be-1e9d-44a0-dcdc-c5cc76dbea57"
      },
      "execution_count": 37,
      "outputs": [
        {
          "output_type": "stream",
          "name": "stderr",
          "text": [
            "<ipython-input-37-1aae0c0d5d82>:3: SettingWithCopyWarning: \n",
            "A value is trying to be set on a copy of a slice from a DataFrame.\n",
            "Try using .loc[row_indexer,col_indexer] = value instead\n",
            "\n",
            "See the caveats in the documentation: https://pandas.pydata.org/pandas-docs/stable/user_guide/indexing.html#returning-a-view-versus-a-copy\n",
            "  df_cat['BsmtQual'] = df_cat.BsmtQual.map(dic)\n"
          ]
        }
      ]
    },
    {
      "cell_type": "code",
      "source": [
        "from sklearn.preprocessing import OrdinalEncoder\n",
        "dic = {'Ex':6,'Gd':5,'TA':4,'Fa':3,'Po':2,'NA':1}\n",
        "df_cat['BsmtCond'] = df_cat.BsmtCond.map(dic)"
      ],
      "metadata": {
        "colab": {
          "base_uri": "https://localhost:8080/"
        },
        "id": "tFSNkL5Obu96",
        "outputId": "b27c0ebf-0171-4e0d-e2cb-a7cf1489edb9"
      },
      "execution_count": 38,
      "outputs": [
        {
          "output_type": "stream",
          "name": "stderr",
          "text": [
            "<ipython-input-38-11ccd16a46a9>:3: SettingWithCopyWarning: \n",
            "A value is trying to be set on a copy of a slice from a DataFrame.\n",
            "Try using .loc[row_indexer,col_indexer] = value instead\n",
            "\n",
            "See the caveats in the documentation: https://pandas.pydata.org/pandas-docs/stable/user_guide/indexing.html#returning-a-view-versus-a-copy\n",
            "  df_cat['BsmtCond'] = df_cat.BsmtCond.map(dic)\n"
          ]
        }
      ]
    },
    {
      "cell_type": "code",
      "source": [
        "from sklearn.preprocessing import OrdinalEncoder\n",
        "dic = {'AllPub':4,'NoSewr':3,'NoSeWa':2,'ELO':1}\n",
        "df_cat['Utilities'] = df_cat.Utilities.map(dic)"
      ],
      "metadata": {
        "colab": {
          "base_uri": "https://localhost:8080/"
        },
        "id": "y5WVu8OxJkaC",
        "outputId": "48b3276e-da2e-47ce-9c67-de270e506bc4"
      },
      "execution_count": 39,
      "outputs": [
        {
          "output_type": "stream",
          "name": "stderr",
          "text": [
            "<ipython-input-39-054ec3955ec3>:3: SettingWithCopyWarning: \n",
            "A value is trying to be set on a copy of a slice from a DataFrame.\n",
            "Try using .loc[row_indexer,col_indexer] = value instead\n",
            "\n",
            "See the caveats in the documentation: https://pandas.pydata.org/pandas-docs/stable/user_guide/indexing.html#returning-a-view-versus-a-copy\n",
            "  df_cat['Utilities'] = df_cat.Utilities.map(dic)\n"
          ]
        }
      ]
    },
    {
      "cell_type": "code",
      "source": [
        "from sklearn.preprocessing import OrdinalEncoder\n",
        "dic = {'Gd':5,'Av':4,'Mn':3,'No':2,'NA':1}\n",
        "df_cat['BsmtExposure'] = df_cat.BsmtExposure.map(dic)"
      ],
      "metadata": {
        "colab": {
          "base_uri": "https://localhost:8080/"
        },
        "id": "ed-7c0v7dwnI",
        "outputId": "c96a0b25-2ba7-41d5-cf58-ad518be4192b"
      },
      "execution_count": 40,
      "outputs": [
        {
          "output_type": "stream",
          "name": "stderr",
          "text": [
            "<ipython-input-40-671eab09ec9a>:3: SettingWithCopyWarning: \n",
            "A value is trying to be set on a copy of a slice from a DataFrame.\n",
            "Try using .loc[row_indexer,col_indexer] = value instead\n",
            "\n",
            "See the caveats in the documentation: https://pandas.pydata.org/pandas-docs/stable/user_guide/indexing.html#returning-a-view-versus-a-copy\n",
            "  df_cat['BsmtExposure'] = df_cat.BsmtExposure.map(dic)\n"
          ]
        }
      ]
    },
    {
      "cell_type": "code",
      "source": [
        "from sklearn.preprocessing import OrdinalEncoder\n",
        "dic = {'GLQ':7,'ALQ':6,'BLQ':5,'Rec':4,'LwQ':3,'Unf':2,'NA':1}\n",
        "df_cat['BsmtFinType1'] = df_cat.BsmtFinType1.map(dic)"
      ],
      "metadata": {
        "colab": {
          "base_uri": "https://localhost:8080/"
        },
        "id": "glbNsDN7fdIo",
        "outputId": "73852ff5-d96f-4c93-f82e-7348a8acb899"
      },
      "execution_count": 41,
      "outputs": [
        {
          "output_type": "stream",
          "name": "stderr",
          "text": [
            "<ipython-input-41-781d80a97c9d>:3: SettingWithCopyWarning: \n",
            "A value is trying to be set on a copy of a slice from a DataFrame.\n",
            "Try using .loc[row_indexer,col_indexer] = value instead\n",
            "\n",
            "See the caveats in the documentation: https://pandas.pydata.org/pandas-docs/stable/user_guide/indexing.html#returning-a-view-versus-a-copy\n",
            "  df_cat['BsmtFinType1'] = df_cat.BsmtFinType1.map(dic)\n"
          ]
        }
      ]
    },
    {
      "cell_type": "code",
      "source": [
        "from sklearn.preprocessing import OrdinalEncoder\n",
        "dic = {'GLQ':7,'ALQ':6,'BLQ':5,'Rec':4,'LwQ':3,'Unf':2,'NA':1}\n",
        "df_cat['BsmtFinType2'] = df_cat.BsmtFinType2.map(dic)"
      ],
      "metadata": {
        "colab": {
          "base_uri": "https://localhost:8080/"
        },
        "id": "R0T0jdWZej_Y",
        "outputId": "60dddce0-f7bb-40a1-b0ca-4077ef60d6e5"
      },
      "execution_count": 42,
      "outputs": [
        {
          "output_type": "stream",
          "name": "stderr",
          "text": [
            "<ipython-input-42-2ed43ee717ab>:3: SettingWithCopyWarning: \n",
            "A value is trying to be set on a copy of a slice from a DataFrame.\n",
            "Try using .loc[row_indexer,col_indexer] = value instead\n",
            "\n",
            "See the caveats in the documentation: https://pandas.pydata.org/pandas-docs/stable/user_guide/indexing.html#returning-a-view-versus-a-copy\n",
            "  df_cat['BsmtFinType2'] = df_cat.BsmtFinType2.map(dic)\n"
          ]
        }
      ]
    },
    {
      "cell_type": "code",
      "source": [
        "from sklearn.preprocessing import OrdinalEncoder\n",
        "dic = {'Ex':5,'Gd':4,'TA':3,'Fa':2,'Po':1}\n",
        "df_cat['HeatingQC'] = df_cat.HeatingQC.map(dic)"
      ],
      "metadata": {
        "colab": {
          "base_uri": "https://localhost:8080/"
        },
        "id": "UTjAz3ojgFc9",
        "outputId": "acd0ba78-fcbe-4902-acb4-bc271241d1e6"
      },
      "execution_count": 43,
      "outputs": [
        {
          "output_type": "stream",
          "name": "stderr",
          "text": [
            "<ipython-input-43-6c73c23d3353>:3: SettingWithCopyWarning: \n",
            "A value is trying to be set on a copy of a slice from a DataFrame.\n",
            "Try using .loc[row_indexer,col_indexer] = value instead\n",
            "\n",
            "See the caveats in the documentation: https://pandas.pydata.org/pandas-docs/stable/user_guide/indexing.html#returning-a-view-versus-a-copy\n",
            "  df_cat['HeatingQC'] = df_cat.HeatingQC.map(dic)\n"
          ]
        }
      ]
    },
    {
      "cell_type": "code",
      "source": [
        "heat= pd.DataFrame(lab_enc.fit_transform(df_cat['Heating']))\n",
        "heat.columns=(['Heating'])\n"
      ],
      "metadata": {
        "id": "cc_RAZLjYe-o"
      },
      "execution_count": 45,
      "outputs": []
    },
    {
      "cell_type": "code",
      "source": [
        "centair= pd.DataFrame(lab_enc.fit_transform(df_cat['CentralAir']))\n",
        "centair.columns=(['CentralAir'])\n"
      ],
      "metadata": {
        "id": "RudW7AESf28k"
      },
      "execution_count": 46,
      "outputs": []
    },
    {
      "cell_type": "code",
      "source": [
        "elc= pd.DataFrame(lab_enc.fit_transform(df_cat['Electrical']))\n",
        "elc.columns=(['Electrical'])\n"
      ],
      "metadata": {
        "id": "ttmQQscSggTw"
      },
      "execution_count": 47,
      "outputs": []
    },
    {
      "cell_type": "code",
      "source": [
        "df_cat.drop(['Heating','CentralAir','Electrical'],axis = 1,inplace = True)"
      ],
      "metadata": {
        "colab": {
          "base_uri": "https://localhost:8080/"
        },
        "id": "0ucyM8GC13CY",
        "outputId": "5d8668af-d93b-42a7-95ae-7153eb3f8c00"
      },
      "execution_count": 48,
      "outputs": [
        {
          "output_type": "stream",
          "name": "stderr",
          "text": [
            "/usr/local/lib/python3.8/dist-packages/pandas/core/frame.py:4906: SettingWithCopyWarning: \n",
            "A value is trying to be set on a copy of a slice from a DataFrame\n",
            "\n",
            "See the caveats in the documentation: https://pandas.pydata.org/pandas-docs/stable/user_guide/indexing.html#returning-a-view-versus-a-copy\n",
            "  return super().drop(\n"
          ]
        }
      ]
    },
    {
      "cell_type": "code",
      "source": [
        "\n",
        "from sklearn.preprocessing import OrdinalEncoder\n",
        "dic = {'Ex':5,'Gd':4,'TA':3,'Fa':2,'Po':1}\n",
        "df_cat['KitchenQual'] = df_cat.KitchenQual.map(dic)"
      ],
      "metadata": {
        "colab": {
          "base_uri": "https://localhost:8080/"
        },
        "id": "PgozYN2Og8ag",
        "outputId": "e7e188f2-35b3-44c7-9867-6627b9be4650"
      },
      "execution_count": 49,
      "outputs": [
        {
          "output_type": "stream",
          "name": "stderr",
          "text": [
            "<ipython-input-49-868ed162da87>:3: SettingWithCopyWarning: \n",
            "A value is trying to be set on a copy of a slice from a DataFrame.\n",
            "Try using .loc[row_indexer,col_indexer] = value instead\n",
            "\n",
            "See the caveats in the documentation: https://pandas.pydata.org/pandas-docs/stable/user_guide/indexing.html#returning-a-view-versus-a-copy\n",
            "  df_cat['KitchenQual'] = df_cat.KitchenQual.map(dic)\n"
          ]
        }
      ]
    },
    {
      "cell_type": "code",
      "source": [
        "\n",
        "from sklearn.preprocessing import OrdinalEncoder\n",
        "dic = {'Typ':8,'Min1':7,' Min2':6,'Mod':5,'Maj1':4,'Maj2':3,'Sev':2,'Sal':1}\n",
        "df_cat['Functional'] = df_cat.Functional.map(dic)"
      ],
      "metadata": {
        "colab": {
          "base_uri": "https://localhost:8080/"
        },
        "id": "_xJImmL6hX-B",
        "outputId": "239c5a46-f865-4e98-8c5c-31e839fbf81e"
      },
      "execution_count": 50,
      "outputs": [
        {
          "output_type": "stream",
          "name": "stderr",
          "text": [
            "<ipython-input-50-f89d80c9e7bc>:3: SettingWithCopyWarning: \n",
            "A value is trying to be set on a copy of a slice from a DataFrame.\n",
            "Try using .loc[row_indexer,col_indexer] = value instead\n",
            "\n",
            "See the caveats in the documentation: https://pandas.pydata.org/pandas-docs/stable/user_guide/indexing.html#returning-a-view-versus-a-copy\n",
            "  df_cat['Functional'] = df_cat.Functional.map(dic)\n"
          ]
        }
      ]
    },
    {
      "cell_type": "code",
      "source": [
        "\n",
        "from sklearn.preprocessing import OrdinalEncoder\n",
        "dic = {'2Types':7,'Attchd':6,'Basment':5,'BuiltIn':4,'CarPort':3,'Detchd':2,'NA':1}\n",
        "df_cat['GarageType'] = df_cat.GarageType.map(dic)"
      ],
      "metadata": {
        "colab": {
          "base_uri": "https://localhost:8080/"
        },
        "id": "JsTPr9LsiFzN",
        "outputId": "83c425dd-3c8a-49d1-9005-ad3567e112d0"
      },
      "execution_count": 51,
      "outputs": [
        {
          "output_type": "stream",
          "name": "stderr",
          "text": [
            "<ipython-input-51-0da459ca0a3e>:3: SettingWithCopyWarning: \n",
            "A value is trying to be set on a copy of a slice from a DataFrame.\n",
            "Try using .loc[row_indexer,col_indexer] = value instead\n",
            "\n",
            "See the caveats in the documentation: https://pandas.pydata.org/pandas-docs/stable/user_guide/indexing.html#returning-a-view-versus-a-copy\n",
            "  df_cat['GarageType'] = df_cat.GarageType.map(dic)\n"
          ]
        }
      ]
    },
    {
      "cell_type": "code",
      "source": [
        "\n",
        "from sklearn.preprocessing import OrdinalEncoder\n",
        "dic = {'Ex':6,'Gd':5,'TA':4,'Fa':3,'Po':2,'NA':1}\n",
        "df_cat['GarageQual'] = df_cat.GarageQual.map(dic)\n",
        "\n",
        "\n",
        "from sklearn.preprocessing import OrdinalEncoder\n",
        "dic = {'Fin':4,'RFn':3,'Unf':2,'NA':1}\n",
        "df_cat['GarageFinish'] = df_cat.GarageFinish.map(dic)\n",
        "\n",
        "\n",
        "from sklearn.preprocessing import OrdinalEncoder\n",
        "dic = {'Ex':6,'Gd':5,'TA':4,'Fa':3,'Po':2,'NA':1}\n",
        "df_cat['GarageCond'] = df_cat.GarageCond.map(dic)\n",
        "\n",
        "Pav= pd.DataFrame(lab_enc.fit_transform(df_cat['PavedDrive']))\n",
        "Pav.columns=(['PavedDrive'])\n"
      ],
      "metadata": {
        "id": "cdlMx-RDjXzp",
        "colab": {
          "base_uri": "https://localhost:8080/"
        },
        "outputId": "8d478d5f-79a7-4a95-be0c-6197027526d6"
      },
      "execution_count": 52,
      "outputs": [
        {
          "output_type": "stream",
          "name": "stderr",
          "text": [
            "<ipython-input-52-73dd42353008>:3: SettingWithCopyWarning: \n",
            "A value is trying to be set on a copy of a slice from a DataFrame.\n",
            "Try using .loc[row_indexer,col_indexer] = value instead\n",
            "\n",
            "See the caveats in the documentation: https://pandas.pydata.org/pandas-docs/stable/user_guide/indexing.html#returning-a-view-versus-a-copy\n",
            "  df_cat['GarageQual'] = df_cat.GarageQual.map(dic)\n",
            "<ipython-input-52-73dd42353008>:8: SettingWithCopyWarning: \n",
            "A value is trying to be set on a copy of a slice from a DataFrame.\n",
            "Try using .loc[row_indexer,col_indexer] = value instead\n",
            "\n",
            "See the caveats in the documentation: https://pandas.pydata.org/pandas-docs/stable/user_guide/indexing.html#returning-a-view-versus-a-copy\n",
            "  df_cat['GarageFinish'] = df_cat.GarageFinish.map(dic)\n",
            "<ipython-input-52-73dd42353008>:13: SettingWithCopyWarning: \n",
            "A value is trying to be set on a copy of a slice from a DataFrame.\n",
            "Try using .loc[row_indexer,col_indexer] = value instead\n",
            "\n",
            "See the caveats in the documentation: https://pandas.pydata.org/pandas-docs/stable/user_guide/indexing.html#returning-a-view-versus-a-copy\n",
            "  df_cat['GarageCond'] = df_cat.GarageCond.map(dic)\n"
          ]
        }
      ]
    },
    {
      "cell_type": "code",
      "source": [
        "df_cat.drop(['PavedDrive'],axis = 1, inplace = True)"
      ],
      "metadata": {
        "id": "YUZF8zGB2In8"
      },
      "execution_count": 53,
      "outputs": []
    },
    {
      "cell_type": "code",
      "source": [
        "df_cat.info()"
      ],
      "metadata": {
        "colab": {
          "base_uri": "https://localhost:8080/"
        },
        "id": "l1D-TKmQnPpJ",
        "outputId": "1f005731-3e04-4d97-9b71-43a7a35cc671"
      },
      "execution_count": 54,
      "outputs": [
        {
          "output_type": "stream",
          "name": "stdout",
          "text": [
            "<class 'pandas.core.frame.DataFrame'>\n",
            "RangeIndex: 1168 entries, 0 to 1167\n",
            "Data columns (total 18 columns):\n",
            " #   Column         Non-Null Count  Dtype  \n",
            "---  ------         --------------  -----  \n",
            " 0   LandContour    1168 non-null   object \n",
            " 1   Utilities      1168 non-null   int64  \n",
            " 2   ExterQual      1168 non-null   int64  \n",
            " 3   ExterCond      1168 non-null   int64  \n",
            " 4   BsmtQual       1138 non-null   float64\n",
            " 5   BsmtCond       1138 non-null   float64\n",
            " 6   BsmtExposure   1137 non-null   float64\n",
            " 7   BsmtFinType1   1138 non-null   float64\n",
            " 8   BsmtFinType2   1137 non-null   float64\n",
            " 9   HeatingQC      1168 non-null   int64  \n",
            " 10  KitchenQual    1168 non-null   int64  \n",
            " 11  Functional     1138 non-null   float64\n",
            " 12  GarageType     1104 non-null   float64\n",
            " 13  GarageFinish   1104 non-null   float64\n",
            " 14  GarageQual     1104 non-null   float64\n",
            " 15  GarageCond     1104 non-null   float64\n",
            " 16  SaleType       1168 non-null   object \n",
            " 17  SaleCondition  1168 non-null   object \n",
            "dtypes: float64(10), int64(5), object(3)\n",
            "memory usage: 164.4+ KB\n"
          ]
        }
      ]
    },
    {
      "cell_type": "code",
      "source": [
        "L_C= pd.DataFrame(lab_enc.fit_transform(df_cat['LandContour']))\n",
        "L_C.columns=(['LandContour'])"
      ],
      "metadata": {
        "id": "YxF71UQUnkmf"
      },
      "execution_count": 55,
      "outputs": []
    },
    {
      "cell_type": "code",
      "source": [
        "\n",
        "bin_enc = BinaryEncoder(cols = ['SaleType'])\n",
        "S_L_T = bin_enc.fit_transform(df_cat['SaleType'])"
      ],
      "metadata": {
        "id": "bO3O0nd34EEJ"
      },
      "execution_count": 56,
      "outputs": []
    },
    {
      "cell_type": "code",
      "source": [
        "bin_enc = BinaryEncoder(cols = ['SaleCondition'])\n",
        "S_L_C = bin_enc.fit_transform(df_cat['SaleCondition'])"
      ],
      "metadata": {
        "id": "HzrIy_-D4a-G"
      },
      "execution_count": 57,
      "outputs": []
    },
    {
      "cell_type": "code",
      "source": [
        "df_cat.drop(['LandContour','SaleType','SaleCondition'],axis = 1,inplace = True)"
      ],
      "metadata": {
        "id": "Rv7-aDrD4meI"
      },
      "execution_count": 58,
      "outputs": []
    },
    {
      "cell_type": "code",
      "source": [
        "df_cat_final = pd.concat([df_cat,S_L_C,S_L_T,L_C,Pav,elc,centair,\n",
        "                          heat,fond,Mas,ext2,ext1,rftm,rft,Hst,Bld,\n",
        "                          cd2,cd,nd,LotS,Lotc,Lots,Lot,a],axis =1)"
      ],
      "metadata": {
        "id": "p308gPq04_1W"
      },
      "execution_count": 59,
      "outputs": []
    },
    {
      "cell_type": "code",
      "source": [
        "df_cat_final.info()"
      ],
      "metadata": {
        "colab": {
          "base_uri": "https://localhost:8080/"
        },
        "id": "vYWz2FeDSc0W",
        "outputId": "c89ef60a-7fca-448d-eba4-625a4a7e60d4"
      },
      "execution_count": 60,
      "outputs": [
        {
          "output_type": "stream",
          "name": "stdout",
          "text": [
            "<class 'pandas.core.frame.DataFrame'>\n",
            "RangeIndex: 1168 entries, 0 to 1167\n",
            "Data columns (total 61 columns):\n",
            " #   Column           Non-Null Count  Dtype  \n",
            "---  ------           --------------  -----  \n",
            " 0   Utilities        1168 non-null   int64  \n",
            " 1   ExterQual        1168 non-null   int64  \n",
            " 2   ExterCond        1168 non-null   int64  \n",
            " 3   BsmtQual         1138 non-null   float64\n",
            " 4   BsmtCond         1138 non-null   float64\n",
            " 5   BsmtExposure     1137 non-null   float64\n",
            " 6   BsmtFinType1     1138 non-null   float64\n",
            " 7   BsmtFinType2     1137 non-null   float64\n",
            " 8   HeatingQC        1168 non-null   int64  \n",
            " 9   KitchenQual      1168 non-null   int64  \n",
            " 10  Functional       1138 non-null   float64\n",
            " 11  GarageType       1104 non-null   float64\n",
            " 12  GarageFinish     1104 non-null   float64\n",
            " 13  GarageQual       1104 non-null   float64\n",
            " 14  GarageCond       1104 non-null   float64\n",
            " 15  SaleCondition_0  1168 non-null   int64  \n",
            " 16  SaleCondition_1  1168 non-null   int64  \n",
            " 17  SaleCondition_2  1168 non-null   int64  \n",
            " 18  SaleType_0       1168 non-null   int64  \n",
            " 19  SaleType_1       1168 non-null   int64  \n",
            " 20  SaleType_2       1168 non-null   int64  \n",
            " 21  SaleType_3       1168 non-null   int64  \n",
            " 22  LandContour      1168 non-null   int64  \n",
            " 23  PavedDrive       1168 non-null   int64  \n",
            " 24  Electrical       1168 non-null   int64  \n",
            " 25  CentralAir       1168 non-null   int64  \n",
            " 26  Heating          1168 non-null   int64  \n",
            " 27  Foundation       1168 non-null   int64  \n",
            " 28  MasVnrType       1168 non-null   int64  \n",
            " 29  Exterior2nd_0    1168 non-null   int64  \n",
            " 30  Exterior2nd_1    1168 non-null   int64  \n",
            " 31  Exterior2nd_2    1168 non-null   int64  \n",
            " 32  Exterior2nd_3    1168 non-null   int64  \n",
            " 33  Exterior1st_0    1168 non-null   int64  \n",
            " 34  Exterior1st_1    1168 non-null   int64  \n",
            " 35  Exterior1st_2    1168 non-null   int64  \n",
            " 36  Exterior1st_3    1168 non-null   int64  \n",
            " 37  RoofMatl         1168 non-null   int64  \n",
            " 38  RoofStyle        1168 non-null   int64  \n",
            " 39  HouseStyle       1168 non-null   int64  \n",
            " 40  BldgType         1168 non-null   int64  \n",
            " 41  Condition2_0     1168 non-null   int64  \n",
            " 42  Condition2_1     1168 non-null   int64  \n",
            " 43  Condition2_2     1168 non-null   int64  \n",
            " 44  Condition2_3     1168 non-null   int64  \n",
            " 45  Condition1_0     1168 non-null   int64  \n",
            " 46  Condition1_1     1168 non-null   int64  \n",
            " 47  Condition1_2     1168 non-null   int64  \n",
            " 48  Condition1_3     1168 non-null   int64  \n",
            " 49  Neighborhood_0   1168 non-null   int64  \n",
            " 50  Neighborhood_1   1168 non-null   int64  \n",
            " 51  Neighborhood_2   1168 non-null   int64  \n",
            " 52  Neighborhood_3   1168 non-null   int64  \n",
            " 53  Neighborhood_4   1168 non-null   int64  \n",
            " 54  LandSlope        1168 non-null   int64  \n",
            " 55  LotConfig        1168 non-null   int64  \n",
            " 56  LotShape         1168 non-null   int64  \n",
            " 57  Street           1168 non-null   int64  \n",
            " 58  MSZoning_0       1168 non-null   int64  \n",
            " 59  MSZoning_1       1168 non-null   int64  \n",
            " 60  MSZoning_2       1168 non-null   int64  \n",
            "dtypes: float64(10), int64(51)\n",
            "memory usage: 556.8 KB\n"
          ]
        }
      ]
    },
    {
      "cell_type": "code",
      "source": [
        "df_int.info()"
      ],
      "metadata": {
        "id": "B2qOIDCx7Ida",
        "colab": {
          "base_uri": "https://localhost:8080/"
        },
        "outputId": "e0e23073-ea2d-4531-b621-80d06246b172"
      },
      "execution_count": 61,
      "outputs": [
        {
          "output_type": "stream",
          "name": "stdout",
          "text": [
            "<class 'pandas.core.frame.DataFrame'>\n",
            "RangeIndex: 1168 entries, 0 to 1167\n",
            "Data columns (total 34 columns):\n",
            " #   Column         Non-Null Count  Dtype\n",
            "---  ------         --------------  -----\n",
            " 0   Id             1168 non-null   int64\n",
            " 1   MSSubClass     1168 non-null   int64\n",
            " 2   LotArea        1168 non-null   int64\n",
            " 3   OverallCond    1168 non-null   int64\n",
            " 4   YearBuilt      1168 non-null   int64\n",
            " 5   YearRemodAdd   1168 non-null   int64\n",
            " 6   BsmtFinSF1     1168 non-null   int64\n",
            " 7   BsmtFinSF2     1168 non-null   int64\n",
            " 8   BsmtUnfSF      1168 non-null   int64\n",
            " 9   TotalBsmtSF    1168 non-null   int64\n",
            " 10  1stFlrSF       1168 non-null   int64\n",
            " 11  2ndFlrSF       1168 non-null   int64\n",
            " 12  LowQualFinSF   1168 non-null   int64\n",
            " 13  GrLivArea      1168 non-null   int64\n",
            " 14  BsmtFullBath   1168 non-null   int64\n",
            " 15  BsmtHalfBath   1168 non-null   int64\n",
            " 16  FullBath       1168 non-null   int64\n",
            " 17  HalfBath       1168 non-null   int64\n",
            " 18  BedroomAbvGr   1168 non-null   int64\n",
            " 19  KitchenAbvGr   1168 non-null   int64\n",
            " 20  TotRmsAbvGrd   1168 non-null   int64\n",
            " 21  Fireplaces     1168 non-null   int64\n",
            " 22  GarageCars     1168 non-null   int64\n",
            " 23  GarageArea     1168 non-null   int64\n",
            " 24  WoodDeckSF     1168 non-null   int64\n",
            " 25  OpenPorchSF    1168 non-null   int64\n",
            " 26  EnclosedPorch  1168 non-null   int64\n",
            " 27  3SsnPorch      1168 non-null   int64\n",
            " 28  ScreenPorch    1168 non-null   int64\n",
            " 29  PoolArea       1168 non-null   int64\n",
            " 30  MiscVal        1168 non-null   int64\n",
            " 31  MoSold         1168 non-null   int64\n",
            " 32  YrSold         1168 non-null   int64\n",
            " 33  SalePrice      1168 non-null   int64\n",
            "dtypes: int64(34)\n",
            "memory usage: 310.4 KB\n"
          ]
        }
      ]
    },
    {
      "cell_type": "code",
      "source": [
        "\n",
        "df_int['Current_year'] = 2022"
      ],
      "metadata": {
        "colab": {
          "base_uri": "https://localhost:8080/"
        },
        "id": "0NFHVcms7zLN",
        "outputId": "b9c68077-204e-4d45-89c3-6233b77059ad"
      },
      "execution_count": 62,
      "outputs": [
        {
          "output_type": "stream",
          "name": "stderr",
          "text": [
            "<ipython-input-62-afae4ea725e9>:1: SettingWithCopyWarning: \n",
            "A value is trying to be set on a copy of a slice from a DataFrame.\n",
            "Try using .loc[row_indexer,col_indexer] = value instead\n",
            "\n",
            "See the caveats in the documentation: https://pandas.pydata.org/pandas-docs/stable/user_guide/indexing.html#returning-a-view-versus-a-copy\n",
            "  df_int['Current_year'] = 2022\n"
          ]
        }
      ]
    },
    {
      "cell_type": "code",
      "source": [
        "df_int['Years_old']=df_int['Current_year']-df_int['YearBuilt']"
      ],
      "metadata": {
        "colab": {
          "base_uri": "https://localhost:8080/"
        },
        "id": "URfHYKZU8wvu",
        "outputId": "4f5b1f55-7887-4a4e-9404-4f7fd7f14d97"
      },
      "execution_count": 63,
      "outputs": [
        {
          "output_type": "stream",
          "name": "stderr",
          "text": [
            "<ipython-input-63-1d02f7e5054a>:1: SettingWithCopyWarning: \n",
            "A value is trying to be set on a copy of a slice from a DataFrame.\n",
            "Try using .loc[row_indexer,col_indexer] = value instead\n",
            "\n",
            "See the caveats in the documentation: https://pandas.pydata.org/pandas-docs/stable/user_guide/indexing.html#returning-a-view-versus-a-copy\n",
            "  df_int['Years_old']=df_int['Current_year']-df_int['YearBuilt']\n"
          ]
        }
      ]
    },
    {
      "cell_type": "code",
      "source": [
        "df_int['remodel_duration'] = df_int['Current_year']-df_int['YearRemodAdd']"
      ],
      "metadata": {
        "colab": {
          "base_uri": "https://localhost:8080/"
        },
        "id": "nE-q-caP_AVw",
        "outputId": "c35984da-a43e-412e-ed1f-0fa5cd8f34e2"
      },
      "execution_count": 64,
      "outputs": [
        {
          "output_type": "stream",
          "name": "stderr",
          "text": [
            "<ipython-input-64-cc105fbba698>:1: SettingWithCopyWarning: \n",
            "A value is trying to be set on a copy of a slice from a DataFrame.\n",
            "Try using .loc[row_indexer,col_indexer] = value instead\n",
            "\n",
            "See the caveats in the documentation: https://pandas.pydata.org/pandas-docs/stable/user_guide/indexing.html#returning-a-view-versus-a-copy\n",
            "  df_int['remodel_duration'] = df_int['Current_year']-df_int['YearRemodAdd']\n"
          ]
        }
      ]
    },
    {
      "cell_type": "code",
      "source": [
        "df_int.drop(['Current_year','YearBuilt','YearRemodAdd'],axis = 1, inplace = True)"
      ],
      "metadata": {
        "id": "IqBTJ9z09cAU"
      },
      "execution_count": 65,
      "outputs": []
    },
    {
      "cell_type": "code",
      "source": [
        "df_int.info()"
      ],
      "metadata": {
        "id": "2asfIvK_-KTA"
      },
      "execution_count": null,
      "outputs": []
    },
    {
      "cell_type": "markdown",
      "source": [
        "column number 29 and 30 have month and year data which is needed to be treated "
      ],
      "metadata": {
        "id": "zIfVBN4BzYGa"
      }
    },
    {
      "cell_type": "code",
      "source": [
        "df_int.MoSold.unique()"
      ],
      "metadata": {
        "colab": {
          "base_uri": "https://localhost:8080/"
        },
        "id": "9TgXXNYazXK-",
        "outputId": "c632a2f3-37d2-4055-ac49-264d06b9bdf5"
      },
      "execution_count": 67,
      "outputs": [
        {
          "output_type": "execute_result",
          "data": {
            "text/plain": [
              "array([ 2, 10,  6,  1, 11,  5,  4,  7,  8,  3,  9, 12])"
            ]
          },
          "metadata": {},
          "execution_count": 67
        }
      ]
    },
    {
      "cell_type": "code",
      "source": [
        "# they are actually month number but our M.L dosent understand such value it will concider it as a number only and it will treat them like 11>2 or 4<7 which is needed to be treated \n",
        "bin_enc = BinaryEncoder(cols = ['MoSold'])\n",
        "mosold = bin_enc.fit_transform(df_int['MoSold'])"
      ],
      "metadata": {
        "id": "47rXk0otzlzQ"
      },
      "execution_count": 69,
      "outputs": []
    },
    {
      "cell_type": "code",
      "source": [
        "df_int.YrSold.unique()"
      ],
      "metadata": {
        "colab": {
          "base_uri": "https://localhost:8080/"
        },
        "id": "yBNbYdiU090S",
        "outputId": "b28cff4b-9d5c-4c4c-b195-88cde9baed02"
      },
      "execution_count": 71,
      "outputs": [
        {
          "output_type": "execute_result",
          "data": {
            "text/plain": [
              "array([2007, 2010, 2009, 2006, 2008])"
            ]
          },
          "metadata": {},
          "execution_count": 71
        }
      ]
    },
    {
      "cell_type": "code",
      "source": [
        "bin_enc = BinaryEncoder(cols = ['YrSold'])\n",
        "yrsold = bin_enc.fit_transform(df_int['YrSold'])"
      ],
      "metadata": {
        "id": "VqZ0wT2h10Wo"
      },
      "execution_count": 72,
      "outputs": []
    },
    {
      "cell_type": "code",
      "source": [
        "df_int.drop(['YrSold','MoSold'],axis = 1,inplace = True)"
      ],
      "metadata": {
        "id": "CA6HxtUg1-x8"
      },
      "execution_count": null,
      "outputs": []
    },
    {
      "cell_type": "code",
      "source": [
        "df_Train_final= pd.concat([df_int,mosold,yrsold,df_cat_final],axis = 1)"
      ],
      "metadata": {
        "id": "lwRn_BWFR1Ed"
      },
      "execution_count": 75,
      "outputs": []
    },
    {
      "cell_type": "code",
      "source": [
        "df_Train_final.info()"
      ],
      "metadata": {
        "id": "TJ8-kPYdCU6U"
      },
      "execution_count": null,
      "outputs": []
    },
    {
      "cell_type": "code",
      "source": [
        "Data_Train = df_Train_final.dropna(axis = 0)"
      ],
      "metadata": {
        "id": "9urnHyA2Ch6k"
      },
      "execution_count": 77,
      "outputs": []
    },
    {
      "cell_type": "code",
      "source": [
        "# trainning dataset is ready now with no null value and no object data type\n",
        "Data_Train.info()"
      ],
      "metadata": {
        "colab": {
          "base_uri": "https://localhost:8080/"
        },
        "id": "Ms083ZzqDHoV",
        "outputId": "7e8341ec-cac7-410f-e4c4-33ce451cd488"
      },
      "execution_count": 120,
      "outputs": [
        {
          "output_type": "stream",
          "name": "stdout",
          "text": [
            "<class 'pandas.core.frame.DataFrame'>\n",
            "Int64Index: 1051 entries, 0 to 1167\n",
            "Data columns (total 100 columns):\n",
            " #   Column            Non-Null Count  Dtype  \n",
            "---  ------            --------------  -----  \n",
            " 0   Id                1051 non-null   int64  \n",
            " 1   MSSubClass        1051 non-null   int64  \n",
            " 2   LotArea           1051 non-null   int64  \n",
            " 3   OverallCond       1051 non-null   int64  \n",
            " 4   BsmtFinSF1        1051 non-null   int64  \n",
            " 5   BsmtFinSF2        1051 non-null   int64  \n",
            " 6   BsmtUnfSF         1051 non-null   int64  \n",
            " 7   TotalBsmtSF       1051 non-null   int64  \n",
            " 8   1stFlrSF          1051 non-null   int64  \n",
            " 9   2ndFlrSF          1051 non-null   int64  \n",
            " 10  LowQualFinSF      1051 non-null   int64  \n",
            " 11  GrLivArea         1051 non-null   int64  \n",
            " 12  BsmtFullBath      1051 non-null   int64  \n",
            " 13  BsmtHalfBath      1051 non-null   int64  \n",
            " 14  FullBath          1051 non-null   int64  \n",
            " 15  HalfBath          1051 non-null   int64  \n",
            " 16  BedroomAbvGr      1051 non-null   int64  \n",
            " 17  KitchenAbvGr      1051 non-null   int64  \n",
            " 18  TotRmsAbvGrd      1051 non-null   int64  \n",
            " 19  Fireplaces        1051 non-null   int64  \n",
            " 20  GarageCars        1051 non-null   int64  \n",
            " 21  GarageArea        1051 non-null   int64  \n",
            " 22  WoodDeckSF        1051 non-null   int64  \n",
            " 23  OpenPorchSF       1051 non-null   int64  \n",
            " 24  EnclosedPorch     1051 non-null   int64  \n",
            " 25  3SsnPorch         1051 non-null   int64  \n",
            " 26  ScreenPorch       1051 non-null   int64  \n",
            " 27  PoolArea          1051 non-null   int64  \n",
            " 28  MiscVal           1051 non-null   int64  \n",
            " 29  SalePrice         1051 non-null   int64  \n",
            " 30  Years_old         1051 non-null   int64  \n",
            " 31  remodel_duration  1051 non-null   int64  \n",
            " 32  MoSold_0          1051 non-null   int64  \n",
            " 33  MoSold_1          1051 non-null   int64  \n",
            " 34  MoSold_2          1051 non-null   int64  \n",
            " 35  MoSold_3          1051 non-null   int64  \n",
            " 36  YrSold_0          1051 non-null   int64  \n",
            " 37  YrSold_1          1051 non-null   int64  \n",
            " 38  YrSold_2          1051 non-null   int64  \n",
            " 39  Utilities         1051 non-null   int64  \n",
            " 40  ExterQual         1051 non-null   int64  \n",
            " 41  ExterCond         1051 non-null   int64  \n",
            " 42  BsmtQual          1051 non-null   float64\n",
            " 43  BsmtCond          1051 non-null   float64\n",
            " 44  BsmtExposure      1051 non-null   float64\n",
            " 45  BsmtFinType1      1051 non-null   float64\n",
            " 46  BsmtFinType2      1051 non-null   float64\n",
            " 47  HeatingQC         1051 non-null   int64  \n",
            " 48  KitchenQual       1051 non-null   int64  \n",
            " 49  Functional        1051 non-null   float64\n",
            " 50  GarageType        1051 non-null   float64\n",
            " 51  GarageFinish      1051 non-null   float64\n",
            " 52  GarageQual        1051 non-null   float64\n",
            " 53  GarageCond        1051 non-null   float64\n",
            " 54  SaleCondition_0   1051 non-null   int64  \n",
            " 55  SaleCondition_1   1051 non-null   int64  \n",
            " 56  SaleCondition_2   1051 non-null   int64  \n",
            " 57  SaleType_0        1051 non-null   int64  \n",
            " 58  SaleType_1        1051 non-null   int64  \n",
            " 59  SaleType_2        1051 non-null   int64  \n",
            " 60  SaleType_3        1051 non-null   int64  \n",
            " 61  LandContour       1051 non-null   int64  \n",
            " 62  PavedDrive        1051 non-null   int64  \n",
            " 63  Electrical        1051 non-null   int64  \n",
            " 64  CentralAir        1051 non-null   int64  \n",
            " 65  Heating           1051 non-null   int64  \n",
            " 66  Foundation        1051 non-null   int64  \n",
            " 67  MasVnrType        1051 non-null   int64  \n",
            " 68  Exterior2nd_0     1051 non-null   int64  \n",
            " 69  Exterior2nd_1     1051 non-null   int64  \n",
            " 70  Exterior2nd_2     1051 non-null   int64  \n",
            " 71  Exterior2nd_3     1051 non-null   int64  \n",
            " 72  Exterior1st_0     1051 non-null   int64  \n",
            " 73  Exterior1st_1     1051 non-null   int64  \n",
            " 74  Exterior1st_2     1051 non-null   int64  \n",
            " 75  Exterior1st_3     1051 non-null   int64  \n",
            " 76  RoofMatl          1051 non-null   int64  \n",
            " 77  RoofStyle         1051 non-null   int64  \n",
            " 78  HouseStyle        1051 non-null   int64  \n",
            " 79  BldgType          1051 non-null   int64  \n",
            " 80  Condition2_0      1051 non-null   int64  \n",
            " 81  Condition2_1      1051 non-null   int64  \n",
            " 82  Condition2_2      1051 non-null   int64  \n",
            " 83  Condition2_3      1051 non-null   int64  \n",
            " 84  Condition1_0      1051 non-null   int64  \n",
            " 85  Condition1_1      1051 non-null   int64  \n",
            " 86  Condition1_2      1051 non-null   int64  \n",
            " 87  Condition1_3      1051 non-null   int64  \n",
            " 88  Neighborhood_0    1051 non-null   int64  \n",
            " 89  Neighborhood_1    1051 non-null   int64  \n",
            " 90  Neighborhood_2    1051 non-null   int64  \n",
            " 91  Neighborhood_3    1051 non-null   int64  \n",
            " 92  Neighborhood_4    1051 non-null   int64  \n",
            " 93  LandSlope         1051 non-null   int64  \n",
            " 94  LotConfig         1051 non-null   int64  \n",
            " 95  LotShape          1051 non-null   int64  \n",
            " 96  Street            1051 non-null   int64  \n",
            " 97  MSZoning_0        1051 non-null   int64  \n",
            " 98  MSZoning_1        1051 non-null   int64  \n",
            " 99  MSZoning_2        1051 non-null   int64  \n",
            "dtypes: float64(10), int64(90)\n",
            "memory usage: 829.3 KB\n"
          ]
        }
      ]
    },
    {
      "cell_type": "code",
      "source": [
        "from sklearn.linear_model import LinearRegression\n",
        "from sklearn.model_selection import train_test_split\n",
        "from sklearn.preprocessing import StandardScaler # for standardizing the Data\n",
        "#import statsmodels.api as sm\n",
        "import matplotlib.pyplot as plt\n",
        "import seaborn as sns\n",
        "import pickle\n",
        "from sklearn.metrics import r2_score\n",
        "\n",
        "import warnings\n",
        "warnings.filterwarnings"
      ],
      "metadata": {
        "colab": {
          "base_uri": "https://localhost:8080/"
        },
        "id": "B6a62vJhMgPe",
        "outputId": "f74a61f8-ccaa-4153-e82a-5f57638b2ad6"
      },
      "execution_count": 114,
      "outputs": [
        {
          "output_type": "execute_result",
          "data": {
            "text/plain": [
              "<function warnings.filterwarnings(action, message='', category=<class 'Warning'>, module='', lineno=0, append=False)>"
            ]
          },
          "metadata": {},
          "execution_count": 114
        }
      ]
    },
    {
      "cell_type": "code",
      "source": [
        "for i in Data_Train:\n",
        "  print(Data_Train[i].skew())"
      ],
      "metadata": {
        "colab": {
          "base_uri": "https://localhost:8080/"
        },
        "id": "RZmgTqeIoY0e",
        "outputId": "58b5a24a-a33e-47db-f53f-8a819533f509"
      },
      "execution_count": 121,
      "outputs": [
        {
          "output_type": "stream",
          "name": "stdout",
          "text": [
            "0.03334518858946745\n",
            "1.3975490154229993\n",
            "10.384923992652418\n",
            "0.8739660112144471\n",
            "1.8943665631071365\n",
            "4.256117993357226\n",
            "0.923583725345719\n",
            "2.510279087680288\n",
            "1.567545288631137\n",
            "0.7823600960133135\n",
            "9.88149118109127\n",
            "1.5287394680901565\n",
            "0.4748168130625055\n",
            "4.082598226706046\n",
            "0.0014348039584395115\n",
            "0.5292587560526554\n",
            "-0.11490868484546496\n",
            "6.097354078038587\n",
            "0.6379107715731476\n",
            "0.6012505491237023\n",
            "0.18116891205373964\n",
            "0.8379046363949282\n",
            "1.4832775465141421\n",
            "2.242513059084789\n",
            "3.1737022044095475\n",
            "9.743446453136132\n",
            "3.980871272380127\n",
            "12.55274712810775\n",
            "22.086264169442327\n",
            "2.0174377576182154\n",
            "0.6725111548884651\n",
            "0.5776652303081885\n",
            "0.3661405619028324\n",
            "0.551467912274173\n",
            "-0.36213869144490485\n",
            "0.04765524510995009\n",
            "0.2711507461198851\n",
            "0.7050880725044089\n",
            "-0.6869989954393471\n",
            "0\n",
            "0.7692208105508352\n",
            "1.7909854268388465\n",
            "0.23399082776709154\n",
            "0.39499849759214883\n",
            "1.1436506194228468\n",
            "-0.21279553826871764\n",
            "3.430441966306644\n",
            "-0.5805597602455238\n",
            "0.34934003359442417\n",
            "-6.602085756813843\n",
            "-0.7870115472320081\n",
            "0.31300766461566065\n",
            "-1.4297519251798514\n",
            "-3.661747380343609\n",
            "6.004596340929698\n",
            "1.811504122998237\n",
            "-2.34374932363065\n",
            "16.139924219354842\n",
            "8.202018682962905\n",
            "2.05692801190204\n",
            "-4.641767023598594\n",
            "-3.2424740414627333\n",
            "-4.05268840866759\n",
            "-3.526093155568837\n",
            "-4.411808689674939\n",
            "11.636261798726785\n",
            "-0.14137764695498872\n",
            "0.1837324674154712\n",
            "3.512456930260243\n",
            "-0.29470705600504093\n",
            "0.09730382078767572\n",
            "-0.6292117324064884\n",
            "3.5764726187302407\n",
            "-0.26332358794380045\n",
            "0.07819200791822899\n",
            "-0.651262914912566\n",
            "7.5396562347370955\n",
            "1.43349096163062\n",
            "0.2584020538230405\n",
            "2.3614110056731366\n",
            "32.41913015489467\n",
            "13.14020971406626\n",
            "11.346808398085109\n",
            "-14.415191109759409\n",
            "13.140209714066264\n",
            "3.6776776210330597\n",
            "2.386106676344283\n",
            "-2.8814521990354502\n",
            "1.0860780528278473\n",
            "0.7279178345176142\n",
            "0.3104774607205603\n",
            "-0.051470089144342326\n",
            "0.01715166289615815\n",
            "5.052727880410532\n",
            "-1.07836632749344\n",
            "-0.5475259658717775\n",
            "-18.663605289002728\n",
            "7.454184679080037\n",
            "1.636514532378115\n",
            "-2.0236690113117897\n"
          ]
        }
      ]
    },
    {
      "cell_type": "code",
      "source": [
        "for i in Data_Train:\n",
        "  print(\"upper limit\",Data_Train[i].mean()+3*Data_Train[i].std())\n",
        "  print(\"Lower limit\",Data_Train[i].mean()-3*Data_Train[i].std())\n"
      ],
      "metadata": {
        "id": "FWn2GjeawG2s"
      },
      "execution_count": null,
      "outputs": []
    },
    {
      "cell_type": "code",
      "source": [
        "from scipy.stats import zscore"
      ],
      "metadata": {
        "id": "j4ZIGcQDyrU1"
      },
      "execution_count": 124,
      "outputs": []
    },
    {
      "cell_type": "code",
      "source": [
        "for i in Data_Train:\n",
        "  Data_Train['Z_score'] = zscore(Data_Train[i]) "
      ],
      "metadata": {
        "colab": {
          "base_uri": "https://localhost:8080/"
        },
        "id": "6tZiO8VuzHJe",
        "outputId": "0053700a-2ae1-46bd-b105-4efa921275d6"
      },
      "execution_count": 135,
      "outputs": [
        {
          "output_type": "stream",
          "name": "stderr",
          "text": [
            "<ipython-input-135-7b20b60642e2>:2: SettingWithCopyWarning: \n",
            "A value is trying to be set on a copy of a slice from a DataFrame.\n",
            "Try using .loc[row_indexer,col_indexer] = value instead\n",
            "\n",
            "See the caveats in the documentation: https://pandas.pydata.org/pandas-docs/stable/user_guide/indexing.html#returning-a-view-versus-a-copy\n",
            "  Data_Train['Z_score'] = zscore(Data_Train[i])\n"
          ]
        }
      ]
    },
    {
      "cell_type": "code",
      "source": [
        "Data_Train.Z_score.head(20)"
      ],
      "metadata": {
        "colab": {
          "base_uri": "https://localhost:8080/"
        },
        "id": "M80cxl7Lz5UQ",
        "outputId": "16e19f6f-d5d3-422c-809d-2bcbc013a8d0"
      },
      "execution_count": 147,
      "outputs": [
        {
          "output_type": "execute_result",
          "data": {
            "text/plain": [
              "0     0.411189\n",
              "1     0.411189\n",
              "2     0.411189\n",
              "3     0.411189\n",
              "4     0.411189\n",
              "5     0.411189\n",
              "6     0.411189\n",
              "7     0.411189\n",
              "8     0.411189\n",
              "9     0.411189\n",
              "10   -2.431969\n",
              "11    0.411189\n",
              "12    0.411189\n",
              "13    0.411189\n",
              "14    0.411189\n",
              "15    0.411189\n",
              "16   -2.431969\n",
              "17    0.411189\n",
              "18    0.411189\n",
              "19   -2.431969\n",
              "Name: Z_score, dtype: float64"
            ]
          },
          "metadata": {},
          "execution_count": 147
        }
      ]
    },
    {
      "cell_type": "code",
      "source": [
        "Data_Train[Data_Train['Z_score']<-3]"
      ],
      "metadata": {
        "colab": {
          "base_uri": "https://localhost:8080/",
          "height": 143
        },
        "id": "PCUjBw_k0R3V",
        "outputId": "00887f34-0d9f-48f9-ab86-c89f92a09b94"
      },
      "execution_count": 151,
      "outputs": [
        {
          "output_type": "execute_result",
          "data": {
            "text/plain": [
              "Empty DataFrame\n",
              "Columns: [Id, MSSubClass, LotArea, OverallCond, BsmtFinSF1, BsmtFinSF2, BsmtUnfSF, TotalBsmtSF, 1stFlrSF, 2ndFlrSF, LowQualFinSF, GrLivArea, BsmtFullBath, BsmtHalfBath, FullBath, HalfBath, BedroomAbvGr, KitchenAbvGr, TotRmsAbvGrd, Fireplaces, GarageCars, GarageArea, WoodDeckSF, OpenPorchSF, EnclosedPorch, 3SsnPorch, ScreenPorch, PoolArea, MiscVal, SalePrice, Years_old, remodel_duration, MoSold_0, MoSold_1, MoSold_2, MoSold_3, YrSold_0, YrSold_1, YrSold_2, Utilities, ExterQual, ExterCond, BsmtQual, BsmtCond, BsmtExposure, BsmtFinType1, BsmtFinType2, HeatingQC, KitchenQual, Functional, GarageType, GarageFinish, GarageQual, GarageCond, SaleCondition_0, SaleCondition_1, SaleCondition_2, SaleType_0, SaleType_1, SaleType_2, SaleType_3, LandContour, PavedDrive, Electrical, CentralAir, Heating, Foundation, MasVnrType, Exterior2nd_0, Exterior2nd_1, Exterior2nd_2, Exterior2nd_3, Exterior1st_0, Exterior1st_1, Exterior1st_2, Exterior1st_3, RoofMatl, RoofStyle, HouseStyle, BldgType, Condition2_0, Condition2_1, Condition2_2, Condition2_3, Condition1_0, Condition1_1, Condition1_2, Condition1_3, Neighborhood_0, Neighborhood_1, Neighborhood_2, Neighborhood_3, Neighborhood_4, LandSlope, LotConfig, LotShape, Street, MSZoning_0, MSZoning_1, MSZoning_2, ...]\n",
              "Index: []\n",
              "\n",
              "[0 rows x 101 columns]"
            ],
            "text/html": [
              "\n",
              "  <div id=\"df-3b183952-9f94-4c54-8c1e-e83b99f2f35f\">\n",
              "    <div class=\"colab-df-container\">\n",
              "      <div>\n",
              "<style scoped>\n",
              "    .dataframe tbody tr th:only-of-type {\n",
              "        vertical-align: middle;\n",
              "    }\n",
              "\n",
              "    .dataframe tbody tr th {\n",
              "        vertical-align: top;\n",
              "    }\n",
              "\n",
              "    .dataframe thead th {\n",
              "        text-align: right;\n",
              "    }\n",
              "</style>\n",
              "<table border=\"1\" class=\"dataframe\">\n",
              "  <thead>\n",
              "    <tr style=\"text-align: right;\">\n",
              "      <th></th>\n",
              "      <th>Id</th>\n",
              "      <th>MSSubClass</th>\n",
              "      <th>LotArea</th>\n",
              "      <th>OverallCond</th>\n",
              "      <th>BsmtFinSF1</th>\n",
              "      <th>BsmtFinSF2</th>\n",
              "      <th>BsmtUnfSF</th>\n",
              "      <th>TotalBsmtSF</th>\n",
              "      <th>1stFlrSF</th>\n",
              "      <th>2ndFlrSF</th>\n",
              "      <th>...</th>\n",
              "      <th>Neighborhood_3</th>\n",
              "      <th>Neighborhood_4</th>\n",
              "      <th>LandSlope</th>\n",
              "      <th>LotConfig</th>\n",
              "      <th>LotShape</th>\n",
              "      <th>Street</th>\n",
              "      <th>MSZoning_0</th>\n",
              "      <th>MSZoning_1</th>\n",
              "      <th>MSZoning_2</th>\n",
              "      <th>Z_score</th>\n",
              "    </tr>\n",
              "  </thead>\n",
              "  <tbody>\n",
              "  </tbody>\n",
              "</table>\n",
              "<p>0 rows × 101 columns</p>\n",
              "</div>\n",
              "      <button class=\"colab-df-convert\" onclick=\"convertToInteractive('df-3b183952-9f94-4c54-8c1e-e83b99f2f35f')\"\n",
              "              title=\"Convert this dataframe to an interactive table.\"\n",
              "              style=\"display:none;\">\n",
              "        \n",
              "  <svg xmlns=\"http://www.w3.org/2000/svg\" height=\"24px\"viewBox=\"0 0 24 24\"\n",
              "       width=\"24px\">\n",
              "    <path d=\"M0 0h24v24H0V0z\" fill=\"none\"/>\n",
              "    <path d=\"M18.56 5.44l.94 2.06.94-2.06 2.06-.94-2.06-.94-.94-2.06-.94 2.06-2.06.94zm-11 1L8.5 8.5l.94-2.06 2.06-.94-2.06-.94L8.5 2.5l-.94 2.06-2.06.94zm10 10l.94 2.06.94-2.06 2.06-.94-2.06-.94-.94-2.06-.94 2.06-2.06.94z\"/><path d=\"M17.41 7.96l-1.37-1.37c-.4-.4-.92-.59-1.43-.59-.52 0-1.04.2-1.43.59L10.3 9.45l-7.72 7.72c-.78.78-.78 2.05 0 2.83L4 21.41c.39.39.9.59 1.41.59.51 0 1.02-.2 1.41-.59l7.78-7.78 2.81-2.81c.8-.78.8-2.07 0-2.86zM5.41 20L4 18.59l7.72-7.72 1.47 1.35L5.41 20z\"/>\n",
              "  </svg>\n",
              "      </button>\n",
              "      \n",
              "  <style>\n",
              "    .colab-df-container {\n",
              "      display:flex;\n",
              "      flex-wrap:wrap;\n",
              "      gap: 12px;\n",
              "    }\n",
              "\n",
              "    .colab-df-convert {\n",
              "      background-color: #E8F0FE;\n",
              "      border: none;\n",
              "      border-radius: 50%;\n",
              "      cursor: pointer;\n",
              "      display: none;\n",
              "      fill: #1967D2;\n",
              "      height: 32px;\n",
              "      padding: 0 0 0 0;\n",
              "      width: 32px;\n",
              "    }\n",
              "\n",
              "    .colab-df-convert:hover {\n",
              "      background-color: #E2EBFA;\n",
              "      box-shadow: 0px 1px 2px rgba(60, 64, 67, 0.3), 0px 1px 3px 1px rgba(60, 64, 67, 0.15);\n",
              "      fill: #174EA6;\n",
              "    }\n",
              "\n",
              "    [theme=dark] .colab-df-convert {\n",
              "      background-color: #3B4455;\n",
              "      fill: #D2E3FC;\n",
              "    }\n",
              "\n",
              "    [theme=dark] .colab-df-convert:hover {\n",
              "      background-color: #434B5C;\n",
              "      box-shadow: 0px 1px 3px 1px rgba(0, 0, 0, 0.15);\n",
              "      filter: drop-shadow(0px 1px 2px rgba(0, 0, 0, 0.3));\n",
              "      fill: #FFFFFF;\n",
              "    }\n",
              "  </style>\n",
              "\n",
              "      <script>\n",
              "        const buttonEl =\n",
              "          document.querySelector('#df-3b183952-9f94-4c54-8c1e-e83b99f2f35f button.colab-df-convert');\n",
              "        buttonEl.style.display =\n",
              "          google.colab.kernel.accessAllowed ? 'block' : 'none';\n",
              "\n",
              "        async function convertToInteractive(key) {\n",
              "          const element = document.querySelector('#df-3b183952-9f94-4c54-8c1e-e83b99f2f35f');\n",
              "          const dataTable =\n",
              "            await google.colab.kernel.invokeFunction('convertToInteractive',\n",
              "                                                     [key], {});\n",
              "          if (!dataTable) return;\n",
              "\n",
              "          const docLinkHtml = 'Like what you see? Visit the ' +\n",
              "            '<a target=\"_blank\" href=https://colab.research.google.com/notebooks/data_table.ipynb>data table notebook</a>'\n",
              "            + ' to learn more about interactive tables.';\n",
              "          element.innerHTML = '';\n",
              "          dataTable['output_type'] = 'display_data';\n",
              "          await google.colab.output.renderOutput(dataTable, element);\n",
              "          const docLink = document.createElement('div');\n",
              "          docLink.innerHTML = docLinkHtml;\n",
              "          element.appendChild(docLink);\n",
              "        }\n",
              "      </script>\n",
              "    </div>\n",
              "  </div>\n",
              "  "
            ]
          },
          "metadata": {},
          "execution_count": 151
        }
      ]
    },
    {
      "cell_type": "markdown",
      "source": [
        "NO outliers"
      ],
      "metadata": {
        "id": "eglPtUEU6Dk2"
      }
    },
    {
      "cell_type": "code",
      "source": [
        "Data_Train[Data_Train['Z_score']>3]"
      ],
      "metadata": {
        "colab": {
          "base_uri": "https://localhost:8080/",
          "height": 143
        },
        "id": "bmB0NDTM0Lwr",
        "outputId": "4353f21f-ca98-464b-974f-56538e4c631a"
      },
      "execution_count": 153,
      "outputs": [
        {
          "output_type": "execute_result",
          "data": {
            "text/plain": [
              "Empty DataFrame\n",
              "Columns: [Id, MSSubClass, LotArea, OverallCond, BsmtFinSF1, BsmtFinSF2, BsmtUnfSF, TotalBsmtSF, 1stFlrSF, 2ndFlrSF, LowQualFinSF, GrLivArea, BsmtFullBath, BsmtHalfBath, FullBath, HalfBath, BedroomAbvGr, KitchenAbvGr, TotRmsAbvGrd, Fireplaces, GarageCars, GarageArea, WoodDeckSF, OpenPorchSF, EnclosedPorch, 3SsnPorch, ScreenPorch, PoolArea, MiscVal, SalePrice, Years_old, remodel_duration, MoSold_0, MoSold_1, MoSold_2, MoSold_3, YrSold_0, YrSold_1, YrSold_2, Utilities, ExterQual, ExterCond, BsmtQual, BsmtCond, BsmtExposure, BsmtFinType1, BsmtFinType2, HeatingQC, KitchenQual, Functional, GarageType, GarageFinish, GarageQual, GarageCond, SaleCondition_0, SaleCondition_1, SaleCondition_2, SaleType_0, SaleType_1, SaleType_2, SaleType_3, LandContour, PavedDrive, Electrical, CentralAir, Heating, Foundation, MasVnrType, Exterior2nd_0, Exterior2nd_1, Exterior2nd_2, Exterior2nd_3, Exterior1st_0, Exterior1st_1, Exterior1st_2, Exterior1st_3, RoofMatl, RoofStyle, HouseStyle, BldgType, Condition2_0, Condition2_1, Condition2_2, Condition2_3, Condition1_0, Condition1_1, Condition1_2, Condition1_3, Neighborhood_0, Neighborhood_1, Neighborhood_2, Neighborhood_3, Neighborhood_4, LandSlope, LotConfig, LotShape, Street, MSZoning_0, MSZoning_1, MSZoning_2, ...]\n",
              "Index: []\n",
              "\n",
              "[0 rows x 101 columns]"
            ],
            "text/html": [
              "\n",
              "  <div id=\"df-c8d33b39-42f3-4828-a2e9-ebf5a0319c19\">\n",
              "    <div class=\"colab-df-container\">\n",
              "      <div>\n",
              "<style scoped>\n",
              "    .dataframe tbody tr th:only-of-type {\n",
              "        vertical-align: middle;\n",
              "    }\n",
              "\n",
              "    .dataframe tbody tr th {\n",
              "        vertical-align: top;\n",
              "    }\n",
              "\n",
              "    .dataframe thead th {\n",
              "        text-align: right;\n",
              "    }\n",
              "</style>\n",
              "<table border=\"1\" class=\"dataframe\">\n",
              "  <thead>\n",
              "    <tr style=\"text-align: right;\">\n",
              "      <th></th>\n",
              "      <th>Id</th>\n",
              "      <th>MSSubClass</th>\n",
              "      <th>LotArea</th>\n",
              "      <th>OverallCond</th>\n",
              "      <th>BsmtFinSF1</th>\n",
              "      <th>BsmtFinSF2</th>\n",
              "      <th>BsmtUnfSF</th>\n",
              "      <th>TotalBsmtSF</th>\n",
              "      <th>1stFlrSF</th>\n",
              "      <th>2ndFlrSF</th>\n",
              "      <th>...</th>\n",
              "      <th>Neighborhood_3</th>\n",
              "      <th>Neighborhood_4</th>\n",
              "      <th>LandSlope</th>\n",
              "      <th>LotConfig</th>\n",
              "      <th>LotShape</th>\n",
              "      <th>Street</th>\n",
              "      <th>MSZoning_0</th>\n",
              "      <th>MSZoning_1</th>\n",
              "      <th>MSZoning_2</th>\n",
              "      <th>Z_score</th>\n",
              "    </tr>\n",
              "  </thead>\n",
              "  <tbody>\n",
              "  </tbody>\n",
              "</table>\n",
              "<p>0 rows × 101 columns</p>\n",
              "</div>\n",
              "      <button class=\"colab-df-convert\" onclick=\"convertToInteractive('df-c8d33b39-42f3-4828-a2e9-ebf5a0319c19')\"\n",
              "              title=\"Convert this dataframe to an interactive table.\"\n",
              "              style=\"display:none;\">\n",
              "        \n",
              "  <svg xmlns=\"http://www.w3.org/2000/svg\" height=\"24px\"viewBox=\"0 0 24 24\"\n",
              "       width=\"24px\">\n",
              "    <path d=\"M0 0h24v24H0V0z\" fill=\"none\"/>\n",
              "    <path d=\"M18.56 5.44l.94 2.06.94-2.06 2.06-.94-2.06-.94-.94-2.06-.94 2.06-2.06.94zm-11 1L8.5 8.5l.94-2.06 2.06-.94-2.06-.94L8.5 2.5l-.94 2.06-2.06.94zm10 10l.94 2.06.94-2.06 2.06-.94-2.06-.94-.94-2.06-.94 2.06-2.06.94z\"/><path d=\"M17.41 7.96l-1.37-1.37c-.4-.4-.92-.59-1.43-.59-.52 0-1.04.2-1.43.59L10.3 9.45l-7.72 7.72c-.78.78-.78 2.05 0 2.83L4 21.41c.39.39.9.59 1.41.59.51 0 1.02-.2 1.41-.59l7.78-7.78 2.81-2.81c.8-.78.8-2.07 0-2.86zM5.41 20L4 18.59l7.72-7.72 1.47 1.35L5.41 20z\"/>\n",
              "  </svg>\n",
              "      </button>\n",
              "      \n",
              "  <style>\n",
              "    .colab-df-container {\n",
              "      display:flex;\n",
              "      flex-wrap:wrap;\n",
              "      gap: 12px;\n",
              "    }\n",
              "\n",
              "    .colab-df-convert {\n",
              "      background-color: #E8F0FE;\n",
              "      border: none;\n",
              "      border-radius: 50%;\n",
              "      cursor: pointer;\n",
              "      display: none;\n",
              "      fill: #1967D2;\n",
              "      height: 32px;\n",
              "      padding: 0 0 0 0;\n",
              "      width: 32px;\n",
              "    }\n",
              "\n",
              "    .colab-df-convert:hover {\n",
              "      background-color: #E2EBFA;\n",
              "      box-shadow: 0px 1px 2px rgba(60, 64, 67, 0.3), 0px 1px 3px 1px rgba(60, 64, 67, 0.15);\n",
              "      fill: #174EA6;\n",
              "    }\n",
              "\n",
              "    [theme=dark] .colab-df-convert {\n",
              "      background-color: #3B4455;\n",
              "      fill: #D2E3FC;\n",
              "    }\n",
              "\n",
              "    [theme=dark] .colab-df-convert:hover {\n",
              "      background-color: #434B5C;\n",
              "      box-shadow: 0px 1px 3px 1px rgba(0, 0, 0, 0.15);\n",
              "      filter: drop-shadow(0px 1px 2px rgba(0, 0, 0, 0.3));\n",
              "      fill: #FFFFFF;\n",
              "    }\n",
              "  </style>\n",
              "\n",
              "      <script>\n",
              "        const buttonEl =\n",
              "          document.querySelector('#df-c8d33b39-42f3-4828-a2e9-ebf5a0319c19 button.colab-df-convert');\n",
              "        buttonEl.style.display =\n",
              "          google.colab.kernel.accessAllowed ? 'block' : 'none';\n",
              "\n",
              "        async function convertToInteractive(key) {\n",
              "          const element = document.querySelector('#df-c8d33b39-42f3-4828-a2e9-ebf5a0319c19');\n",
              "          const dataTable =\n",
              "            await google.colab.kernel.invokeFunction('convertToInteractive',\n",
              "                                                     [key], {});\n",
              "          if (!dataTable) return;\n",
              "\n",
              "          const docLinkHtml = 'Like what you see? Visit the ' +\n",
              "            '<a target=\"_blank\" href=https://colab.research.google.com/notebooks/data_table.ipynb>data table notebook</a>'\n",
              "            + ' to learn more about interactive tables.';\n",
              "          element.innerHTML = '';\n",
              "          dataTable['output_type'] = 'display_data';\n",
              "          await google.colab.output.renderOutput(dataTable, element);\n",
              "          const docLink = document.createElement('div');\n",
              "          docLink.innerHTML = docLinkHtml;\n",
              "          element.appendChild(docLink);\n",
              "        }\n",
              "      </script>\n",
              "    </div>\n",
              "  </div>\n",
              "  "
            ]
          },
          "metadata": {},
          "execution_count": 153
        }
      ]
    },
    {
      "cell_type": "markdown",
      "source": [
        "NO outliers"
      ],
      "metadata": {
        "id": "13kMGs7J6Fur"
      }
    },
    {
      "cell_type": "code",
      "source": [
        "# Now handling MultiCollinearity \n",
        "from statsmodels.stats.outliers_influence import variance_inflation_factor\n",
        "vif = pd.DataFrame()\n",
        "vif['Vif'] = Data_Train.columns\n",
        "vif[\"Vif\"] = [variance_inflation_factor(Data_Train.values, i)\n",
        "                          for i in range(len(Data_Train.columns))]\n",
        "vif['Vif'].head(20)"
      ],
      "metadata": {
        "colab": {
          "base_uri": "https://localhost:8080/"
        },
        "id": "JkzOEg4Zz9Cl",
        "outputId": "96450b41-2a65-4745-8b93-21e0dcb0005f"
      },
      "execution_count": 163,
      "outputs": [
        {
          "output_type": "execute_result",
          "data": {
            "text/plain": [
              "0     1.102634\n",
              "1     5.976469\n",
              "2     1.915045\n",
              "3     2.252006\n",
              "4          inf\n",
              "5          inf\n",
              "6          inf\n",
              "7          inf\n",
              "8          inf\n",
              "9          inf\n",
              "10         inf\n",
              "11         inf\n",
              "12    2.562887\n",
              "13    1.280418\n",
              "14    3.835979\n",
              "15    2.594627\n",
              "16    2.831992\n",
              "17    1.785807\n",
              "18    5.374967\n",
              "19    1.768525\n",
              "Name: Vif, dtype: float64"
            ]
          },
          "metadata": {},
          "execution_count": 163
        }
      ]
    },
    {
      "cell_type": "code",
      "source": [
        "Df_Tr = Data_Train.drop(Data_Train.columns[[4,5,6,7,8,9,10,11]],axis = 1)"
      ],
      "metadata": {
        "id": "BUUKxSI19Ssm"
      },
      "execution_count": 164,
      "outputs": []
    },
    {
      "cell_type": "code",
      "source": [
        "Df_Tr.drop(['Z_score'],axis = 1,inplace = True)"
      ],
      "metadata": {
        "id": "UrvZFSFk9FwA"
      },
      "execution_count": 166,
      "outputs": []
    },
    {
      "cell_type": "code",
      "source": [
        "a= pd.DataFrame()\n",
        "a['vif'] = Df_Tr.columns\n",
        "\n",
        "a[\"Vif\"] = [variance_inflation_factor(Df_Tr.values, i)\n",
        "                          for i in range(len(Df_Tr.columns))]\n"
      ],
      "metadata": {
        "colab": {
          "base_uri": "https://localhost:8080/"
        },
        "id": "W0pqJu_M_vdD",
        "outputId": "5f89973e-b254-4352-9c9f-f7bb899d5b39"
      },
      "execution_count": 170,
      "outputs": [
        {
          "output_type": "execute_result",
          "data": {
            "text/plain": [
              "3125.549134467213"
            ]
          },
          "metadata": {},
          "execution_count": 170
        }
      ]
    },
    {
      "cell_type": "code",
      "source": [
        "a[a['Vif']>9]"
      ],
      "metadata": {
        "colab": {
          "base_uri": "https://localhost:8080/",
          "height": 143
        },
        "id": "tb8r6WQy6s1b",
        "outputId": "0fe8ccd3-ab27-4fa3-9c8c-9dba809d6f79"
      },
      "execution_count": 174,
      "outputs": [
        {
          "output_type": "execute_result",
          "data": {
            "text/plain": [
              "                vif          Vif\n",
              "31        Utilities  3125.549134\n",
              "48  SaleCondition_2    10.130705\n",
              "51       SaleType_2    10.530818"
            ],
            "text/html": [
              "\n",
              "  <div id=\"df-0d7a6594-325d-4b88-bbd7-3a24b7a7934f\">\n",
              "    <div class=\"colab-df-container\">\n",
              "      <div>\n",
              "<style scoped>\n",
              "    .dataframe tbody tr th:only-of-type {\n",
              "        vertical-align: middle;\n",
              "    }\n",
              "\n",
              "    .dataframe tbody tr th {\n",
              "        vertical-align: top;\n",
              "    }\n",
              "\n",
              "    .dataframe thead th {\n",
              "        text-align: right;\n",
              "    }\n",
              "</style>\n",
              "<table border=\"1\" class=\"dataframe\">\n",
              "  <thead>\n",
              "    <tr style=\"text-align: right;\">\n",
              "      <th></th>\n",
              "      <th>vif</th>\n",
              "      <th>Vif</th>\n",
              "    </tr>\n",
              "  </thead>\n",
              "  <tbody>\n",
              "    <tr>\n",
              "      <th>31</th>\n",
              "      <td>Utilities</td>\n",
              "      <td>3125.549134</td>\n",
              "    </tr>\n",
              "    <tr>\n",
              "      <th>48</th>\n",
              "      <td>SaleCondition_2</td>\n",
              "      <td>10.130705</td>\n",
              "    </tr>\n",
              "    <tr>\n",
              "      <th>51</th>\n",
              "      <td>SaleType_2</td>\n",
              "      <td>10.530818</td>\n",
              "    </tr>\n",
              "  </tbody>\n",
              "</table>\n",
              "</div>\n",
              "      <button class=\"colab-df-convert\" onclick=\"convertToInteractive('df-0d7a6594-325d-4b88-bbd7-3a24b7a7934f')\"\n",
              "              title=\"Convert this dataframe to an interactive table.\"\n",
              "              style=\"display:none;\">\n",
              "        \n",
              "  <svg xmlns=\"http://www.w3.org/2000/svg\" height=\"24px\"viewBox=\"0 0 24 24\"\n",
              "       width=\"24px\">\n",
              "    <path d=\"M0 0h24v24H0V0z\" fill=\"none\"/>\n",
              "    <path d=\"M18.56 5.44l.94 2.06.94-2.06 2.06-.94-2.06-.94-.94-2.06-.94 2.06-2.06.94zm-11 1L8.5 8.5l.94-2.06 2.06-.94-2.06-.94L8.5 2.5l-.94 2.06-2.06.94zm10 10l.94 2.06.94-2.06 2.06-.94-2.06-.94-.94-2.06-.94 2.06-2.06.94z\"/><path d=\"M17.41 7.96l-1.37-1.37c-.4-.4-.92-.59-1.43-.59-.52 0-1.04.2-1.43.59L10.3 9.45l-7.72 7.72c-.78.78-.78 2.05 0 2.83L4 21.41c.39.39.9.59 1.41.59.51 0 1.02-.2 1.41-.59l7.78-7.78 2.81-2.81c.8-.78.8-2.07 0-2.86zM5.41 20L4 18.59l7.72-7.72 1.47 1.35L5.41 20z\"/>\n",
              "  </svg>\n",
              "      </button>\n",
              "      \n",
              "  <style>\n",
              "    .colab-df-container {\n",
              "      display:flex;\n",
              "      flex-wrap:wrap;\n",
              "      gap: 12px;\n",
              "    }\n",
              "\n",
              "    .colab-df-convert {\n",
              "      background-color: #E8F0FE;\n",
              "      border: none;\n",
              "      border-radius: 50%;\n",
              "      cursor: pointer;\n",
              "      display: none;\n",
              "      fill: #1967D2;\n",
              "      height: 32px;\n",
              "      padding: 0 0 0 0;\n",
              "      width: 32px;\n",
              "    }\n",
              "\n",
              "    .colab-df-convert:hover {\n",
              "      background-color: #E2EBFA;\n",
              "      box-shadow: 0px 1px 2px rgba(60, 64, 67, 0.3), 0px 1px 3px 1px rgba(60, 64, 67, 0.15);\n",
              "      fill: #174EA6;\n",
              "    }\n",
              "\n",
              "    [theme=dark] .colab-df-convert {\n",
              "      background-color: #3B4455;\n",
              "      fill: #D2E3FC;\n",
              "    }\n",
              "\n",
              "    [theme=dark] .colab-df-convert:hover {\n",
              "      background-color: #434B5C;\n",
              "      box-shadow: 0px 1px 3px 1px rgba(0, 0, 0, 0.15);\n",
              "      filter: drop-shadow(0px 1px 2px rgba(0, 0, 0, 0.3));\n",
              "      fill: #FFFFFF;\n",
              "    }\n",
              "  </style>\n",
              "\n",
              "      <script>\n",
              "        const buttonEl =\n",
              "          document.querySelector('#df-0d7a6594-325d-4b88-bbd7-3a24b7a7934f button.colab-df-convert');\n",
              "        buttonEl.style.display =\n",
              "          google.colab.kernel.accessAllowed ? 'block' : 'none';\n",
              "\n",
              "        async function convertToInteractive(key) {\n",
              "          const element = document.querySelector('#df-0d7a6594-325d-4b88-bbd7-3a24b7a7934f');\n",
              "          const dataTable =\n",
              "            await google.colab.kernel.invokeFunction('convertToInteractive',\n",
              "                                                     [key], {});\n",
              "          if (!dataTable) return;\n",
              "\n",
              "          const docLinkHtml = 'Like what you see? Visit the ' +\n",
              "            '<a target=\"_blank\" href=https://colab.research.google.com/notebooks/data_table.ipynb>data table notebook</a>'\n",
              "            + ' to learn more about interactive tables.';\n",
              "          element.innerHTML = '';\n",
              "          dataTable['output_type'] = 'display_data';\n",
              "          await google.colab.output.renderOutput(dataTable, element);\n",
              "          const docLink = document.createElement('div');\n",
              "          docLink.innerHTML = docLinkHtml;\n",
              "          element.appendChild(docLink);\n",
              "        }\n",
              "      </script>\n",
              "    </div>\n",
              "  </div>\n",
              "  "
            ]
          },
          "metadata": {},
          "execution_count": 174
        }
      ]
    },
    {
      "cell_type": "markdown",
      "source": [
        "We have chacked the outliers using z_score method. we have checked the multicollienearity now we will do the same thing on test data set "
      ],
      "metadata": {
        "id": "J8YpaLHCCtac"
      }
    },
    {
      "cell_type": "code",
      "source": [
        "DF = Df_Tr.drop(Df_Tr.columns[[31,48,51]],axis = 1)"
      ],
      "metadata": {
        "id": "-iaVR7zfB-hU"
      },
      "execution_count": 175,
      "outputs": []
    },
    {
      "cell_type": "code",
      "source": [
        "DF.info()"
      ],
      "metadata": {
        "colab": {
          "base_uri": "https://localhost:8080/"
        },
        "id": "G6qCuXkaCPHl",
        "outputId": "2231a71c-418f-458d-a64f-bbbe0c0020d4"
      },
      "execution_count": 177,
      "outputs": [
        {
          "output_type": "stream",
          "name": "stdout",
          "text": [
            "<class 'pandas.core.frame.DataFrame'>\n",
            "Int64Index: 1051 entries, 0 to 1167\n",
            "Data columns (total 89 columns):\n",
            " #   Column            Non-Null Count  Dtype  \n",
            "---  ------            --------------  -----  \n",
            " 0   Id                1051 non-null   int64  \n",
            " 1   MSSubClass        1051 non-null   int64  \n",
            " 2   LotArea           1051 non-null   int64  \n",
            " 3   OverallCond       1051 non-null   int64  \n",
            " 4   BsmtFullBath      1051 non-null   int64  \n",
            " 5   BsmtHalfBath      1051 non-null   int64  \n",
            " 6   FullBath          1051 non-null   int64  \n",
            " 7   HalfBath          1051 non-null   int64  \n",
            " 8   BedroomAbvGr      1051 non-null   int64  \n",
            " 9   KitchenAbvGr      1051 non-null   int64  \n",
            " 10  TotRmsAbvGrd      1051 non-null   int64  \n",
            " 11  Fireplaces        1051 non-null   int64  \n",
            " 12  GarageCars        1051 non-null   int64  \n",
            " 13  GarageArea        1051 non-null   int64  \n",
            " 14  WoodDeckSF        1051 non-null   int64  \n",
            " 15  OpenPorchSF       1051 non-null   int64  \n",
            " 16  EnclosedPorch     1051 non-null   int64  \n",
            " 17  3SsnPorch         1051 non-null   int64  \n",
            " 18  ScreenPorch       1051 non-null   int64  \n",
            " 19  PoolArea          1051 non-null   int64  \n",
            " 20  MiscVal           1051 non-null   int64  \n",
            " 21  SalePrice         1051 non-null   int64  \n",
            " 22  Years_old         1051 non-null   int64  \n",
            " 23  remodel_duration  1051 non-null   int64  \n",
            " 24  MoSold_0          1051 non-null   int64  \n",
            " 25  MoSold_1          1051 non-null   int64  \n",
            " 26  MoSold_2          1051 non-null   int64  \n",
            " 27  MoSold_3          1051 non-null   int64  \n",
            " 28  YrSold_0          1051 non-null   int64  \n",
            " 29  YrSold_1          1051 non-null   int64  \n",
            " 30  YrSold_2          1051 non-null   int64  \n",
            " 31  ExterQual         1051 non-null   int64  \n",
            " 32  ExterCond         1051 non-null   int64  \n",
            " 33  BsmtQual          1051 non-null   float64\n",
            " 34  BsmtCond          1051 non-null   float64\n",
            " 35  BsmtExposure      1051 non-null   float64\n",
            " 36  BsmtFinType1      1051 non-null   float64\n",
            " 37  BsmtFinType2      1051 non-null   float64\n",
            " 38  HeatingQC         1051 non-null   int64  \n",
            " 39  KitchenQual       1051 non-null   int64  \n",
            " 40  Functional        1051 non-null   float64\n",
            " 41  GarageType        1051 non-null   float64\n",
            " 42  GarageFinish      1051 non-null   float64\n",
            " 43  GarageQual        1051 non-null   float64\n",
            " 44  GarageCond        1051 non-null   float64\n",
            " 45  SaleCondition_0   1051 non-null   int64  \n",
            " 46  SaleCondition_1   1051 non-null   int64  \n",
            " 47  SaleType_0        1051 non-null   int64  \n",
            " 48  SaleType_1        1051 non-null   int64  \n",
            " 49  SaleType_3        1051 non-null   int64  \n",
            " 50  LandContour       1051 non-null   int64  \n",
            " 51  PavedDrive        1051 non-null   int64  \n",
            " 52  Electrical        1051 non-null   int64  \n",
            " 53  CentralAir        1051 non-null   int64  \n",
            " 54  Heating           1051 non-null   int64  \n",
            " 55  Foundation        1051 non-null   int64  \n",
            " 56  MasVnrType        1051 non-null   int64  \n",
            " 57  Exterior2nd_0     1051 non-null   int64  \n",
            " 58  Exterior2nd_1     1051 non-null   int64  \n",
            " 59  Exterior2nd_2     1051 non-null   int64  \n",
            " 60  Exterior2nd_3     1051 non-null   int64  \n",
            " 61  Exterior1st_0     1051 non-null   int64  \n",
            " 62  Exterior1st_1     1051 non-null   int64  \n",
            " 63  Exterior1st_2     1051 non-null   int64  \n",
            " 64  Exterior1st_3     1051 non-null   int64  \n",
            " 65  RoofMatl          1051 non-null   int64  \n",
            " 66  RoofStyle         1051 non-null   int64  \n",
            " 67  HouseStyle        1051 non-null   int64  \n",
            " 68  BldgType          1051 non-null   int64  \n",
            " 69  Condition2_0      1051 non-null   int64  \n",
            " 70  Condition2_1      1051 non-null   int64  \n",
            " 71  Condition2_2      1051 non-null   int64  \n",
            " 72  Condition2_3      1051 non-null   int64  \n",
            " 73  Condition1_0      1051 non-null   int64  \n",
            " 74  Condition1_1      1051 non-null   int64  \n",
            " 75  Condition1_2      1051 non-null   int64  \n",
            " 76  Condition1_3      1051 non-null   int64  \n",
            " 77  Neighborhood_0    1051 non-null   int64  \n",
            " 78  Neighborhood_1    1051 non-null   int64  \n",
            " 79  Neighborhood_2    1051 non-null   int64  \n",
            " 80  Neighborhood_3    1051 non-null   int64  \n",
            " 81  Neighborhood_4    1051 non-null   int64  \n",
            " 82  LandSlope         1051 non-null   int64  \n",
            " 83  LotConfig         1051 non-null   int64  \n",
            " 84  LotShape          1051 non-null   int64  \n",
            " 85  Street            1051 non-null   int64  \n",
            " 86  MSZoning_0        1051 non-null   int64  \n",
            " 87  MSZoning_1        1051 non-null   int64  \n",
            " 88  MSZoning_2        1051 non-null   int64  \n",
            "dtypes: float64(10), int64(79)\n",
            "memory usage: 739.0 KB\n"
          ]
        }
      ]
    },
    {
      "cell_type": "code",
      "source": [],
      "metadata": {
        "id": "6KTy71T6MloV"
      },
      "execution_count": 113,
      "outputs": []
    },
    {
      "cell_type": "code",
      "source": [],
      "metadata": {
        "id": "KsHxrtZ8Mly9"
      },
      "execution_count": 113,
      "outputs": []
    },
    {
      "cell_type": "code",
      "source": [],
      "metadata": {
        "id": "xKabEua4Ml7N"
      },
      "execution_count": null,
      "outputs": []
    },
    {
      "cell_type": "code",
      "source": [
        "# now we need to perform the all the activity on test data set and making it ready like our train data set .\n",
        "from google.colab import files\n",
        "uploaded = files.upload()"
      ],
      "metadata": {
        "id": "CHnSFGFiDKVe",
        "colab": {
          "base_uri": "https://localhost:8080/",
          "height": 73
        },
        "outputId": "daa8f29a-d291-430e-c6f6-d28d820a82ee"
      },
      "execution_count": 93,
      "outputs": [
        {
          "output_type": "display_data",
          "data": {
            "text/plain": [
              "<IPython.core.display.HTML object>"
            ],
            "text/html": [
              "\n",
              "     <input type=\"file\" id=\"files-f98daeec-eb64-4206-bc8f-094394103184\" name=\"files[]\" multiple disabled\n",
              "        style=\"border:none\" />\n",
              "     <output id=\"result-f98daeec-eb64-4206-bc8f-094394103184\">\n",
              "      Upload widget is only available when the cell has been executed in the\n",
              "      current browser session. Please rerun this cell to enable.\n",
              "      </output>\n",
              "      <script>// Copyright 2017 Google LLC\n",
              "//\n",
              "// Licensed under the Apache License, Version 2.0 (the \"License\");\n",
              "// you may not use this file except in compliance with the License.\n",
              "// You may obtain a copy of the License at\n",
              "//\n",
              "//      http://www.apache.org/licenses/LICENSE-2.0\n",
              "//\n",
              "// Unless required by applicable law or agreed to in writing, software\n",
              "// distributed under the License is distributed on an \"AS IS\" BASIS,\n",
              "// WITHOUT WARRANTIES OR CONDITIONS OF ANY KIND, either express or implied.\n",
              "// See the License for the specific language governing permissions and\n",
              "// limitations under the License.\n",
              "\n",
              "/**\n",
              " * @fileoverview Helpers for google.colab Python module.\n",
              " */\n",
              "(function(scope) {\n",
              "function span(text, styleAttributes = {}) {\n",
              "  const element = document.createElement('span');\n",
              "  element.textContent = text;\n",
              "  for (const key of Object.keys(styleAttributes)) {\n",
              "    element.style[key] = styleAttributes[key];\n",
              "  }\n",
              "  return element;\n",
              "}\n",
              "\n",
              "// Max number of bytes which will be uploaded at a time.\n",
              "const MAX_PAYLOAD_SIZE = 100 * 1024;\n",
              "\n",
              "function _uploadFiles(inputId, outputId) {\n",
              "  const steps = uploadFilesStep(inputId, outputId);\n",
              "  const outputElement = document.getElementById(outputId);\n",
              "  // Cache steps on the outputElement to make it available for the next call\n",
              "  // to uploadFilesContinue from Python.\n",
              "  outputElement.steps = steps;\n",
              "\n",
              "  return _uploadFilesContinue(outputId);\n",
              "}\n",
              "\n",
              "// This is roughly an async generator (not supported in the browser yet),\n",
              "// where there are multiple asynchronous steps and the Python side is going\n",
              "// to poll for completion of each step.\n",
              "// This uses a Promise to block the python side on completion of each step,\n",
              "// then passes the result of the previous step as the input to the next step.\n",
              "function _uploadFilesContinue(outputId) {\n",
              "  const outputElement = document.getElementById(outputId);\n",
              "  const steps = outputElement.steps;\n",
              "\n",
              "  const next = steps.next(outputElement.lastPromiseValue);\n",
              "  return Promise.resolve(next.value.promise).then((value) => {\n",
              "    // Cache the last promise value to make it available to the next\n",
              "    // step of the generator.\n",
              "    outputElement.lastPromiseValue = value;\n",
              "    return next.value.response;\n",
              "  });\n",
              "}\n",
              "\n",
              "/**\n",
              " * Generator function which is called between each async step of the upload\n",
              " * process.\n",
              " * @param {string} inputId Element ID of the input file picker element.\n",
              " * @param {string} outputId Element ID of the output display.\n",
              " * @return {!Iterable<!Object>} Iterable of next steps.\n",
              " */\n",
              "function* uploadFilesStep(inputId, outputId) {\n",
              "  const inputElement = document.getElementById(inputId);\n",
              "  inputElement.disabled = false;\n",
              "\n",
              "  const outputElement = document.getElementById(outputId);\n",
              "  outputElement.innerHTML = '';\n",
              "\n",
              "  const pickedPromise = new Promise((resolve) => {\n",
              "    inputElement.addEventListener('change', (e) => {\n",
              "      resolve(e.target.files);\n",
              "    });\n",
              "  });\n",
              "\n",
              "  const cancel = document.createElement('button');\n",
              "  inputElement.parentElement.appendChild(cancel);\n",
              "  cancel.textContent = 'Cancel upload';\n",
              "  const cancelPromise = new Promise((resolve) => {\n",
              "    cancel.onclick = () => {\n",
              "      resolve(null);\n",
              "    };\n",
              "  });\n",
              "\n",
              "  // Wait for the user to pick the files.\n",
              "  const files = yield {\n",
              "    promise: Promise.race([pickedPromise, cancelPromise]),\n",
              "    response: {\n",
              "      action: 'starting',\n",
              "    }\n",
              "  };\n",
              "\n",
              "  cancel.remove();\n",
              "\n",
              "  // Disable the input element since further picks are not allowed.\n",
              "  inputElement.disabled = true;\n",
              "\n",
              "  if (!files) {\n",
              "    return {\n",
              "      response: {\n",
              "        action: 'complete',\n",
              "      }\n",
              "    };\n",
              "  }\n",
              "\n",
              "  for (const file of files) {\n",
              "    const li = document.createElement('li');\n",
              "    li.append(span(file.name, {fontWeight: 'bold'}));\n",
              "    li.append(span(\n",
              "        `(${file.type || 'n/a'}) - ${file.size} bytes, ` +\n",
              "        `last modified: ${\n",
              "            file.lastModifiedDate ? file.lastModifiedDate.toLocaleDateString() :\n",
              "                                    'n/a'} - `));\n",
              "    const percent = span('0% done');\n",
              "    li.appendChild(percent);\n",
              "\n",
              "    outputElement.appendChild(li);\n",
              "\n",
              "    const fileDataPromise = new Promise((resolve) => {\n",
              "      const reader = new FileReader();\n",
              "      reader.onload = (e) => {\n",
              "        resolve(e.target.result);\n",
              "      };\n",
              "      reader.readAsArrayBuffer(file);\n",
              "    });\n",
              "    // Wait for the data to be ready.\n",
              "    let fileData = yield {\n",
              "      promise: fileDataPromise,\n",
              "      response: {\n",
              "        action: 'continue',\n",
              "      }\n",
              "    };\n",
              "\n",
              "    // Use a chunked sending to avoid message size limits. See b/62115660.\n",
              "    let position = 0;\n",
              "    do {\n",
              "      const length = Math.min(fileData.byteLength - position, MAX_PAYLOAD_SIZE);\n",
              "      const chunk = new Uint8Array(fileData, position, length);\n",
              "      position += length;\n",
              "\n",
              "      const base64 = btoa(String.fromCharCode.apply(null, chunk));\n",
              "      yield {\n",
              "        response: {\n",
              "          action: 'append',\n",
              "          file: file.name,\n",
              "          data: base64,\n",
              "        },\n",
              "      };\n",
              "\n",
              "      let percentDone = fileData.byteLength === 0 ?\n",
              "          100 :\n",
              "          Math.round((position / fileData.byteLength) * 100);\n",
              "      percent.textContent = `${percentDone}% done`;\n",
              "\n",
              "    } while (position < fileData.byteLength);\n",
              "  }\n",
              "\n",
              "  // All done.\n",
              "  yield {\n",
              "    response: {\n",
              "      action: 'complete',\n",
              "    }\n",
              "  };\n",
              "}\n",
              "\n",
              "scope.google = scope.google || {};\n",
              "scope.google.colab = scope.google.colab || {};\n",
              "scope.google.colab._files = {\n",
              "  _uploadFiles,\n",
              "  _uploadFilesContinue,\n",
              "};\n",
              "})(self);\n",
              "</script> "
            ]
          },
          "metadata": {}
        },
        {
          "output_type": "stream",
          "name": "stdout",
          "text": [
            "Saving test.csv to test (1).csv\n"
          ]
        }
      ]
    },
    {
      "cell_type": "code",
      "source": [
        "df_test = pd.read_csv('test.csv')\n",
        "df_test.head()"
      ],
      "metadata": {
        "id": "0EuVpd4X3MQE"
      },
      "execution_count": null,
      "outputs": []
    },
    {
      "cell_type": "code",
      "source": [
        "df_test.info()"
      ],
      "metadata": {
        "id": "t5WWheU43M6G"
      },
      "execution_count": null,
      "outputs": []
    },
    {
      "cell_type": "code",
      "source": [
        "from sklearn.impute import KNNImputer \n",
        "knnimp = KNNImputer(n_neighbors=2)\n",
        "df_f = pd.DataFrame(knnimp.fit_transform(df_test[['OverallQual','LotFrontage']]))\n",
        "df_f.columns=(['OverallQual','LotFrontage'])\n",
        "df_f"
      ],
      "metadata": {
        "id": "p5bqGEXU3vz3"
      },
      "execution_count": null,
      "outputs": []
    },
    {
      "cell_type": "code",
      "source": [
        "df_test.drop(['OverallQual','LotFrontage'],axis = 1,inplace = True)"
      ],
      "metadata": {
        "id": "QQsbpwoL4MJf"
      },
      "execution_count": 96,
      "outputs": []
    },
    {
      "cell_type": "code",
      "source": [
        "df_test.describe()"
      ],
      "metadata": {
        "id": "EBKMZNeR3Xo0"
      },
      "execution_count": null,
      "outputs": []
    },
    {
      "cell_type": "code",
      "source": [
        "# seperating int type columns\n",
        "df_int = df_test.select_dtypes(include='int')\n",
        "# seperating obj type columns\n",
        "df_obj = df_test.select_dtypes(include='object')"
      ],
      "metadata": {
        "id": "Pvf-pYbV3aI9"
      },
      "execution_count": 98,
      "outputs": []
    },
    {
      "cell_type": "code",
      "source": [
        "df_int.info()"
      ],
      "metadata": {
        "id": "BdtRCRcI4nR3"
      },
      "execution_count": null,
      "outputs": []
    },
    {
      "cell_type": "code",
      "source": [
        "# performing the same thing on column number 4,5,31,32\n",
        "# they are actually month number but our M.L dosent understand such value it will concider it as a number only and it will treat them like 11>2 or 4<7 which is needed to be treated \n",
        "bin_enc = BinaryEncoder(cols = ['MoSold'])\n",
        "mosold = bin_enc.fit_transform(df_int['MoSold'])\n",
        "\n",
        "bin_enc = BinaryEncoder(cols = ['YrSold'])\n",
        "yrsold = bin_enc.fit_transform(df_int['YrSold'])\n",
        "\n",
        "df_int.drop(['MoSold','YrSold'],axis = 1, inplace = True)\n",
        "\n",
        "df_int['Current_year'] = 2022\n",
        "df_int['Years_old']=df_int['Current_year']-df_int['YearBuilt']\n",
        "df_int['remodel_duration'] = df_int['Current_year']-df_int['YearRemodAdd']\n",
        "df_int.drop(['Current_year','YearBuilt','YearRemodAdd'],axis = 1, inplace = True)\n",
        "\n",
        "df_int_final = pd.concat([df_int,mosold,yrsold],axis = 1)\n"
      ],
      "metadata": {
        "id": "STnN5S8X4rnY"
      },
      "execution_count": null,
      "outputs": []
    },
    {
      "cell_type": "code",
      "source": [
        "df_int_final.describe()"
      ],
      "metadata": {
        "id": "A3BnAEgh46N_"
      },
      "execution_count": null,
      "outputs": []
    },
    {
      "cell_type": "code",
      "source": [
        "# performing the same function on Object data type\n",
        "df_obj.info()"
      ],
      "metadata": {
        "id": "lFkoY9Kw7a6m"
      },
      "execution_count": null,
      "outputs": []
    },
    {
      "cell_type": "code",
      "source": [
        "# delelting the column number 2,32,38,49 similer like in train data set\n",
        "df_obj.drop(['Fence','MiscFeature','FireplaceQu','Alley'],axis = 1,inplace = True)"
      ],
      "metadata": {
        "id": "ON0ha-cj92rL"
      },
      "execution_count": null,
      "outputs": []
    },
    {
      "cell_type": "code",
      "source": [
        "df_obj.info()"
      ],
      "metadata": {
        "id": "vNNpLPnN-iZe"
      },
      "execution_count": null,
      "outputs": []
    },
    {
      "cell_type": "code",
      "source": [
        "bin_enc = BinaryEncoder(cols = ['MSZoning'])\n",
        "a = bin_enc.fit_transform(df_obj['MSZoning'])\n",
        "\n",
        "lab_enc = LabelEncoder()\n",
        "Lot= pd.DataFrame(lab_enc.fit_transform(df_obj['Street']))\n",
        "Lot.columns=(['Street'])\n",
        "\n",
        "Lots= pd.DataFrame(lab_enc.fit_transform(df_obj['LotShape']))\n",
        "Lots.columns=(['LotShape'])\n",
        "\n",
        "Lotc= pd.DataFrame(lab_enc.fit_transform(df_obj['LotConfig']))\n",
        "Lotc.columns=(['LotConfig'])\n",
        "\n",
        "LotS= pd.DataFrame(lab_enc.fit_transform(df_obj['LandSlope']))\n",
        "LotS.columns=(['LandSlope'])\n",
        "\n",
        "bin_enc = BinaryEncoder(cols = ['Neighborhood'])\n",
        "nd = bin_enc.fit_transform(df_obj['Neighborhood'])\n",
        "\n",
        "bin_enc = BinaryEncoder(cols = ['Condition1'])\n",
        "cd = bin_enc.fit_transform(df_obj['Condition1'])\n",
        "\n",
        "bin_enc = BinaryEncoder(cols = ['Condition2'])\n",
        "cd2 = bin_enc.fit_transform(df_obj['Condition2'])\n",
        "\n",
        "Bld= pd.DataFrame(lab_enc.fit_transform(df_obj['BldgType']))\n",
        "Bld.columns=(['BldgType'])\n",
        "\n",
        "Hst= pd.DataFrame(lab_enc.fit_transform(df_obj['HouseStyle']))\n",
        "Hst.columns=(['HouseStyle'])\n",
        "\n",
        "rft= pd.DataFrame(lab_enc.fit_transform(df_obj['RoofStyle']))\n",
        "rft.columns=(['RoofStyle'])\n",
        "\n",
        "rftm= pd.DataFrame(lab_enc.fit_transform(df_obj['RoofMatl']))\n",
        "rftm.columns=(['RoofMatl'])\n",
        "\n",
        "bin_enc = BinaryEncoder(cols = ['Exterior1st'])\n",
        "ext1 = bin_enc.fit_transform(df_obj['Exterior1st'])\n",
        "\n",
        "bin_enc = BinaryEncoder(cols = ['Exterior2nd'])\n",
        "ext2 = bin_enc.fit_transform(df_obj['Exterior2nd'])\n",
        "\n",
        "Mas= pd.DataFrame(lab_enc.fit_transform(df_obj['MasVnrType']))\n",
        "Mas.columns=(['MasVnrType'])\n",
        "\n",
        "from sklearn.preprocessing import OrdinalEncoder\n",
        "dic = {'Ex':5,'Gd':4,'TA':3,'Fa':2,'Po':1}\n",
        "df_obj['ExterQual'] = df_obj.ExterQual.map(dic)\n",
        "\n",
        "dic = {'Ex':5,'Gd':4,'TA':3,'Fa':2,'Po':1}\n",
        "df_obj['ExterCond'] = df_obj.ExterCond.map(dic)\n",
        "\n",
        "fond= pd.DataFrame(lab_enc.fit_transform(df_obj['Foundation']))\n",
        "fond.columns=(['Foundation'])\n",
        "\n",
        "dic = {'Ex':6,'Gd':5,'TA':4,'Fa':3,'Po':2,'NA':1}\n",
        "df_obj['BsmtQual'] = df_obj.BsmtQual.map(dic)\n",
        "\n",
        "dic = {'Ex':6,'Gd':5,'TA':4,'Fa':3,'Po':2,'NA':1}\n",
        "df_obj['BsmtCond'] = df_obj.BsmtCond.map(dic)\n",
        "\n",
        "dic = {'AllPub':4,'NoSewr':3,'NoSeWa':2,'ELO':1}\n",
        "df_obj['Utilities'] = df_obj.Utilities.map(dic)\n",
        "\n",
        "dic = {'Gd':5,'Av':4,'Mn':3,'No':2,'NA':1}\n",
        "df_obj['BsmtExposure'] = df_obj.BsmtExposure.map(dic)\n",
        "\n",
        "dic = {'GLQ':7,'ALQ':6,'BLQ':5,'Rec':4,'LwQ':3,'Unf':2,'NA':1}\n",
        "df_obj['BsmtFinType1'] = df_obj.BsmtFinType1.map(dic)\n",
        "\n",
        "dic = {'GLQ':7,'ALQ':6,'BLQ':5,'Rec':4,'LwQ':3,'Unf':2,'NA':1}\n",
        "df_obj['BsmtFinType2'] = df_obj.BsmtFinType2.map(dic)\n",
        "\n",
        "dic = {'Ex':5,'Gd':4,'TA':3,'Fa':2,'Po':1}\n",
        "df_obj['HeatingQC'] = df_obj.HeatingQC.map(dic)\n",
        "\n",
        "heat= pd.DataFrame(lab_enc.fit_transform(df_obj['Heating']))\n",
        "heat.columns=(['Heating'])\n",
        "\n",
        "centair= pd.DataFrame(lab_enc.fit_transform(df_obj['CentralAir']))\n",
        "centair.columns=(['CentralAir'])\n",
        "\n",
        "elc= pd.DataFrame(lab_enc.fit_transform(df_obj['Electrical']))\n",
        "elc.columns=(['Electrical'])\n",
        "\n",
        "dic = {'Ex':5,'Gd':4,'TA':3,'Fa':2,'Po':1}\n",
        "df_obj['KitchenQual'] = df_obj.KitchenQual.map(dic)\n",
        "\n",
        "dic = {'Typ':8,'Min1':7,' Min2':6,'Mod':5,'Maj1':4,'Maj2':3,'Sev':2,'Sal':1}\n",
        "df_obj['Functional'] = df_obj.Functional.map(dic)\n",
        "\n",
        "dic = {'2Types':7,'Attchd':6,'Basment':5,'BuiltIn':4,'CarPort':3,'Detchd':2,'NA':1}\n",
        "df_obj['GarageType'] = df_obj.GarageType.map(dic)\n",
        "\n",
        "dic = {'Ex':6,'Gd':5,'TA':4,'Fa':3,'Po':2,'NA':1}\n",
        "df_obj['GarageQual'] = df_obj.GarageQual.map(dic)\n",
        "\n",
        "dic = {'Fin':4,'RFn':3,'Unf':2,'NA':1}\n",
        "df_obj['GarageFinish'] = df_obj.GarageFinish.map(dic)\n",
        "\n",
        "dic = {'Ex':6,'Gd':5,'TA':4,'Fa':3,'Po':2,'NA':1}\n",
        "df_obj['GarageCond'] = df_obj.GarageCond.map(dic)\n",
        "\n",
        "Pav= pd.DataFrame(lab_enc.fit_transform(df_obj['PavedDrive']))\n",
        "Pav.columns=(['PavedDrive'])\n",
        "\n",
        "L_C= pd.DataFrame(lab_enc.fit_transform(df_obj['LandContour']))\n",
        "L_C.columns=(['LandContour'])\n",
        "\n",
        "bin_enc = BinaryEncoder(cols = ['SaleType'])\n",
        "S_L_T = bin_enc.fit_transform(df_obj['SaleType'])\n",
        "\n",
        "bin_enc = BinaryEncoder(cols = ['SaleCondition'])\n",
        "S_L_C = bin_enc.fit_transform(df_obj['SaleCondition'])\n",
        "\n",
        "df_obj.drop(['MasVnrType','Exterior2nd','Exterior1st','RoofMatl','RoofStyle','HouseStyle','BldgType',\n",
        "             'Condition2','Condition1','Neighborhood','LandSlope','LotConfig','LotShape',\n",
        "             'Street','MSZoning','Foundation','Heating','CentralAir','Electrical','PavedDrive',\n",
        "             'LandContour','SaleType','SaleCondition'],axis =1,inplace = True)\n",
        "\n",
        "df_Obj_final = pd.concat([df_obj,S_L_C,S_L_T,L_C,Pav,elc,centair,\n",
        "                          heat,fond,Mas,ext2,ext1,rftm,rft,Hst,Bld,\n",
        "                          cd2,cd,nd,LotS,Lotc,Lots,Lot,a],axis =1)\n",
        "\n"
      ],
      "metadata": {
        "id": "pAM3dCNI_RvD"
      },
      "execution_count": null,
      "outputs": []
    },
    {
      "cell_type": "code",
      "source": [
        "df_Obj_final.info()"
      ],
      "metadata": {
        "id": "RN27W00o_JCw"
      },
      "execution_count": null,
      "outputs": []
    },
    {
      "cell_type": "code",
      "source": [
        "data_Test = pd.concat([df_int_final,df_Obj_final],axis = 1)"
      ],
      "metadata": {
        "id": "3ReRfsQ1IrC-"
      },
      "execution_count": 110,
      "outputs": []
    },
    {
      "cell_type": "code",
      "source": [
        "data_Test.info()"
      ],
      "metadata": {
        "id": "FHzBwog76jUl"
      },
      "execution_count": null,
      "outputs": []
    },
    {
      "cell_type": "code",
      "source": [
        "Data_Test = data_Test.dropna(axis = 0)"
      ],
      "metadata": {
        "id": "2EyavEUmJInD"
      },
      "execution_count": 112,
      "outputs": []
    },
    {
      "cell_type": "code",
      "source": [
        "Data_Test.info()"
      ],
      "metadata": {
        "id": "Nq9DrVYO6Pa8"
      },
      "execution_count": null,
      "outputs": []
    },
    {
      "cell_type": "code",
      "source": [
        "for i in Data_Test:\n",
        "  Data_Test['Z_score'] = zscore(Data_Test[i]) "
      ],
      "metadata": {
        "colab": {
          "base_uri": "https://localhost:8080/"
        },
        "id": "u22-2UhYDQR2",
        "outputId": "3f67bc09-105c-40a5-b469-a3683ddce96a"
      },
      "execution_count": 179,
      "outputs": [
        {
          "output_type": "stream",
          "name": "stderr",
          "text": [
            "<ipython-input-179-3d6fe581f398>:2: SettingWithCopyWarning: \n",
            "A value is trying to be set on a copy of a slice from a DataFrame.\n",
            "Try using .loc[row_indexer,col_indexer] = value instead\n",
            "\n",
            "See the caveats in the documentation: https://pandas.pydata.org/pandas-docs/stable/user_guide/indexing.html#returning-a-view-versus-a-copy\n",
            "  Data_Test['Z_score'] = zscore(Data_Test[i])\n"
          ]
        }
      ]
    },
    {
      "cell_type": "code",
      "source": [
        "Data_Test.Z_score"
      ],
      "metadata": {
        "colab": {
          "base_uri": "https://localhost:8080/"
        },
        "id": "SS0c9yIWDcsh",
        "outputId": "0329bc2f-1f67-4acc-8c96-eba09aed58ba"
      },
      "execution_count": 180,
      "outputs": [
        {
          "output_type": "execute_result",
          "data": {
            "text/plain": [
              "0      0.451243\n",
              "1      0.451243\n",
              "2      0.451243\n",
              "3      0.451243\n",
              "4      0.451243\n",
              "         ...   \n",
              "287    0.451243\n",
              "288    0.451243\n",
              "289    0.451243\n",
              "290   -2.216103\n",
              "291   -2.216103\n",
              "Name: Z_score, Length: 266, dtype: float64"
            ]
          },
          "metadata": {},
          "execution_count": 180
        }
      ]
    },
    {
      "cell_type": "code",
      "source": [
        "Data_Test[Data_Test['Z_score']>3]"
      ],
      "metadata": {
        "colab": {
          "base_uri": "https://localhost:8080/",
          "height": 143
        },
        "id": "SyyD82SQDhWH",
        "outputId": "b61a1b3c-3a84-43c6-b568-ab2f98f7f6ca"
      },
      "execution_count": 182,
      "outputs": [
        {
          "output_type": "execute_result",
          "data": {
            "text/plain": [
              "Empty DataFrame\n",
              "Columns: [Id, MSSubClass, LotArea, OverallCond, BsmtFinSF1, BsmtFinSF2, BsmtUnfSF, TotalBsmtSF, 1stFlrSF, 2ndFlrSF, LowQualFinSF, GrLivArea, BsmtFullBath, BsmtHalfBath, FullBath, HalfBath, BedroomAbvGr, KitchenAbvGr, TotRmsAbvGrd, Fireplaces, GarageCars, GarageArea, WoodDeckSF, OpenPorchSF, EnclosedPorch, 3SsnPorch, ScreenPorch, PoolArea, MiscVal, Years_old, remodel_duration, MoSold_0, MoSold_1, MoSold_2, MoSold_3, YrSold_0, YrSold_1, YrSold_2, Utilities, ExterQual, ExterCond, BsmtQual, BsmtCond, BsmtExposure, BsmtFinType1, BsmtFinType2, HeatingQC, KitchenQual, Functional, GarageType, GarageFinish, GarageQual, GarageCond, SaleCondition_0, SaleCondition_1, SaleCondition_2, SaleType_0, SaleType_1, SaleType_2, LandContour, PavedDrive, Electrical, CentralAir, Heating, Foundation, MasVnrType, Exterior2nd_0, Exterior2nd_1, Exterior2nd_2, Exterior2nd_3, Exterior1st_0, Exterior1st_1, Exterior1st_2, Exterior1st_3, RoofMatl, RoofStyle, HouseStyle, BldgType, Condition2_0, Condition2_1, Condition1_0, Condition1_1, Condition1_2, Condition1_3, Neighborhood_0, Neighborhood_1, Neighborhood_2, Neighborhood_3, Neighborhood_4, LandSlope, LotConfig, LotShape, Street, MSZoning_0, MSZoning_1, MSZoning_2, Z_score]\n",
              "Index: []\n",
              "\n",
              "[0 rows x 97 columns]"
            ],
            "text/html": [
              "\n",
              "  <div id=\"df-cf609cb0-d060-465f-86a4-6b218e46d8a2\">\n",
              "    <div class=\"colab-df-container\">\n",
              "      <div>\n",
              "<style scoped>\n",
              "    .dataframe tbody tr th:only-of-type {\n",
              "        vertical-align: middle;\n",
              "    }\n",
              "\n",
              "    .dataframe tbody tr th {\n",
              "        vertical-align: top;\n",
              "    }\n",
              "\n",
              "    .dataframe thead th {\n",
              "        text-align: right;\n",
              "    }\n",
              "</style>\n",
              "<table border=\"1\" class=\"dataframe\">\n",
              "  <thead>\n",
              "    <tr style=\"text-align: right;\">\n",
              "      <th></th>\n",
              "      <th>Id</th>\n",
              "      <th>MSSubClass</th>\n",
              "      <th>LotArea</th>\n",
              "      <th>OverallCond</th>\n",
              "      <th>BsmtFinSF1</th>\n",
              "      <th>BsmtFinSF2</th>\n",
              "      <th>BsmtUnfSF</th>\n",
              "      <th>TotalBsmtSF</th>\n",
              "      <th>1stFlrSF</th>\n",
              "      <th>2ndFlrSF</th>\n",
              "      <th>...</th>\n",
              "      <th>Neighborhood_3</th>\n",
              "      <th>Neighborhood_4</th>\n",
              "      <th>LandSlope</th>\n",
              "      <th>LotConfig</th>\n",
              "      <th>LotShape</th>\n",
              "      <th>Street</th>\n",
              "      <th>MSZoning_0</th>\n",
              "      <th>MSZoning_1</th>\n",
              "      <th>MSZoning_2</th>\n",
              "      <th>Z_score</th>\n",
              "    </tr>\n",
              "  </thead>\n",
              "  <tbody>\n",
              "  </tbody>\n",
              "</table>\n",
              "<p>0 rows × 97 columns</p>\n",
              "</div>\n",
              "      <button class=\"colab-df-convert\" onclick=\"convertToInteractive('df-cf609cb0-d060-465f-86a4-6b218e46d8a2')\"\n",
              "              title=\"Convert this dataframe to an interactive table.\"\n",
              "              style=\"display:none;\">\n",
              "        \n",
              "  <svg xmlns=\"http://www.w3.org/2000/svg\" height=\"24px\"viewBox=\"0 0 24 24\"\n",
              "       width=\"24px\">\n",
              "    <path d=\"M0 0h24v24H0V0z\" fill=\"none\"/>\n",
              "    <path d=\"M18.56 5.44l.94 2.06.94-2.06 2.06-.94-2.06-.94-.94-2.06-.94 2.06-2.06.94zm-11 1L8.5 8.5l.94-2.06 2.06-.94-2.06-.94L8.5 2.5l-.94 2.06-2.06.94zm10 10l.94 2.06.94-2.06 2.06-.94-2.06-.94-.94-2.06-.94 2.06-2.06.94z\"/><path d=\"M17.41 7.96l-1.37-1.37c-.4-.4-.92-.59-1.43-.59-.52 0-1.04.2-1.43.59L10.3 9.45l-7.72 7.72c-.78.78-.78 2.05 0 2.83L4 21.41c.39.39.9.59 1.41.59.51 0 1.02-.2 1.41-.59l7.78-7.78 2.81-2.81c.8-.78.8-2.07 0-2.86zM5.41 20L4 18.59l7.72-7.72 1.47 1.35L5.41 20z\"/>\n",
              "  </svg>\n",
              "      </button>\n",
              "      \n",
              "  <style>\n",
              "    .colab-df-container {\n",
              "      display:flex;\n",
              "      flex-wrap:wrap;\n",
              "      gap: 12px;\n",
              "    }\n",
              "\n",
              "    .colab-df-convert {\n",
              "      background-color: #E8F0FE;\n",
              "      border: none;\n",
              "      border-radius: 50%;\n",
              "      cursor: pointer;\n",
              "      display: none;\n",
              "      fill: #1967D2;\n",
              "      height: 32px;\n",
              "      padding: 0 0 0 0;\n",
              "      width: 32px;\n",
              "    }\n",
              "\n",
              "    .colab-df-convert:hover {\n",
              "      background-color: #E2EBFA;\n",
              "      box-shadow: 0px 1px 2px rgba(60, 64, 67, 0.3), 0px 1px 3px 1px rgba(60, 64, 67, 0.15);\n",
              "      fill: #174EA6;\n",
              "    }\n",
              "\n",
              "    [theme=dark] .colab-df-convert {\n",
              "      background-color: #3B4455;\n",
              "      fill: #D2E3FC;\n",
              "    }\n",
              "\n",
              "    [theme=dark] .colab-df-convert:hover {\n",
              "      background-color: #434B5C;\n",
              "      box-shadow: 0px 1px 3px 1px rgba(0, 0, 0, 0.15);\n",
              "      filter: drop-shadow(0px 1px 2px rgba(0, 0, 0, 0.3));\n",
              "      fill: #FFFFFF;\n",
              "    }\n",
              "  </style>\n",
              "\n",
              "      <script>\n",
              "        const buttonEl =\n",
              "          document.querySelector('#df-cf609cb0-d060-465f-86a4-6b218e46d8a2 button.colab-df-convert');\n",
              "        buttonEl.style.display =\n",
              "          google.colab.kernel.accessAllowed ? 'block' : 'none';\n",
              "\n",
              "        async function convertToInteractive(key) {\n",
              "          const element = document.querySelector('#df-cf609cb0-d060-465f-86a4-6b218e46d8a2');\n",
              "          const dataTable =\n",
              "            await google.colab.kernel.invokeFunction('convertToInteractive',\n",
              "                                                     [key], {});\n",
              "          if (!dataTable) return;\n",
              "\n",
              "          const docLinkHtml = 'Like what you see? Visit the ' +\n",
              "            '<a target=\"_blank\" href=https://colab.research.google.com/notebooks/data_table.ipynb>data table notebook</a>'\n",
              "            + ' to learn more about interactive tables.';\n",
              "          element.innerHTML = '';\n",
              "          dataTable['output_type'] = 'display_data';\n",
              "          await google.colab.output.renderOutput(dataTable, element);\n",
              "          const docLink = document.createElement('div');\n",
              "          docLink.innerHTML = docLinkHtml;\n",
              "          element.appendChild(docLink);\n",
              "        }\n",
              "      </script>\n",
              "    </div>\n",
              "  </div>\n",
              "  "
            ]
          },
          "metadata": {},
          "execution_count": 182
        }
      ]
    },
    {
      "cell_type": "code",
      "source": [
        "Data_Test[Data_Test['Z_score']<-3]"
      ],
      "metadata": {
        "colab": {
          "base_uri": "https://localhost:8080/",
          "height": 143
        },
        "id": "Al6ByTdqD2Sm",
        "outputId": "9eb093a0-76ac-440d-d884-137df4518b68"
      },
      "execution_count": 183,
      "outputs": [
        {
          "output_type": "execute_result",
          "data": {
            "text/plain": [
              "Empty DataFrame\n",
              "Columns: [Id, MSSubClass, LotArea, OverallCond, BsmtFinSF1, BsmtFinSF2, BsmtUnfSF, TotalBsmtSF, 1stFlrSF, 2ndFlrSF, LowQualFinSF, GrLivArea, BsmtFullBath, BsmtHalfBath, FullBath, HalfBath, BedroomAbvGr, KitchenAbvGr, TotRmsAbvGrd, Fireplaces, GarageCars, GarageArea, WoodDeckSF, OpenPorchSF, EnclosedPorch, 3SsnPorch, ScreenPorch, PoolArea, MiscVal, Years_old, remodel_duration, MoSold_0, MoSold_1, MoSold_2, MoSold_3, YrSold_0, YrSold_1, YrSold_2, Utilities, ExterQual, ExterCond, BsmtQual, BsmtCond, BsmtExposure, BsmtFinType1, BsmtFinType2, HeatingQC, KitchenQual, Functional, GarageType, GarageFinish, GarageQual, GarageCond, SaleCondition_0, SaleCondition_1, SaleCondition_2, SaleType_0, SaleType_1, SaleType_2, LandContour, PavedDrive, Electrical, CentralAir, Heating, Foundation, MasVnrType, Exterior2nd_0, Exterior2nd_1, Exterior2nd_2, Exterior2nd_3, Exterior1st_0, Exterior1st_1, Exterior1st_2, Exterior1st_3, RoofMatl, RoofStyle, HouseStyle, BldgType, Condition2_0, Condition2_1, Condition1_0, Condition1_1, Condition1_2, Condition1_3, Neighborhood_0, Neighborhood_1, Neighborhood_2, Neighborhood_3, Neighborhood_4, LandSlope, LotConfig, LotShape, Street, MSZoning_0, MSZoning_1, MSZoning_2, Z_score]\n",
              "Index: []\n",
              "\n",
              "[0 rows x 97 columns]"
            ],
            "text/html": [
              "\n",
              "  <div id=\"df-f3b5d1d3-1e67-4db9-9e00-0bec48a55a90\">\n",
              "    <div class=\"colab-df-container\">\n",
              "      <div>\n",
              "<style scoped>\n",
              "    .dataframe tbody tr th:only-of-type {\n",
              "        vertical-align: middle;\n",
              "    }\n",
              "\n",
              "    .dataframe tbody tr th {\n",
              "        vertical-align: top;\n",
              "    }\n",
              "\n",
              "    .dataframe thead th {\n",
              "        text-align: right;\n",
              "    }\n",
              "</style>\n",
              "<table border=\"1\" class=\"dataframe\">\n",
              "  <thead>\n",
              "    <tr style=\"text-align: right;\">\n",
              "      <th></th>\n",
              "      <th>Id</th>\n",
              "      <th>MSSubClass</th>\n",
              "      <th>LotArea</th>\n",
              "      <th>OverallCond</th>\n",
              "      <th>BsmtFinSF1</th>\n",
              "      <th>BsmtFinSF2</th>\n",
              "      <th>BsmtUnfSF</th>\n",
              "      <th>TotalBsmtSF</th>\n",
              "      <th>1stFlrSF</th>\n",
              "      <th>2ndFlrSF</th>\n",
              "      <th>...</th>\n",
              "      <th>Neighborhood_3</th>\n",
              "      <th>Neighborhood_4</th>\n",
              "      <th>LandSlope</th>\n",
              "      <th>LotConfig</th>\n",
              "      <th>LotShape</th>\n",
              "      <th>Street</th>\n",
              "      <th>MSZoning_0</th>\n",
              "      <th>MSZoning_1</th>\n",
              "      <th>MSZoning_2</th>\n",
              "      <th>Z_score</th>\n",
              "    </tr>\n",
              "  </thead>\n",
              "  <tbody>\n",
              "  </tbody>\n",
              "</table>\n",
              "<p>0 rows × 97 columns</p>\n",
              "</div>\n",
              "      <button class=\"colab-df-convert\" onclick=\"convertToInteractive('df-f3b5d1d3-1e67-4db9-9e00-0bec48a55a90')\"\n",
              "              title=\"Convert this dataframe to an interactive table.\"\n",
              "              style=\"display:none;\">\n",
              "        \n",
              "  <svg xmlns=\"http://www.w3.org/2000/svg\" height=\"24px\"viewBox=\"0 0 24 24\"\n",
              "       width=\"24px\">\n",
              "    <path d=\"M0 0h24v24H0V0z\" fill=\"none\"/>\n",
              "    <path d=\"M18.56 5.44l.94 2.06.94-2.06 2.06-.94-2.06-.94-.94-2.06-.94 2.06-2.06.94zm-11 1L8.5 8.5l.94-2.06 2.06-.94-2.06-.94L8.5 2.5l-.94 2.06-2.06.94zm10 10l.94 2.06.94-2.06 2.06-.94-2.06-.94-.94-2.06-.94 2.06-2.06.94z\"/><path d=\"M17.41 7.96l-1.37-1.37c-.4-.4-.92-.59-1.43-.59-.52 0-1.04.2-1.43.59L10.3 9.45l-7.72 7.72c-.78.78-.78 2.05 0 2.83L4 21.41c.39.39.9.59 1.41.59.51 0 1.02-.2 1.41-.59l7.78-7.78 2.81-2.81c.8-.78.8-2.07 0-2.86zM5.41 20L4 18.59l7.72-7.72 1.47 1.35L5.41 20z\"/>\n",
              "  </svg>\n",
              "      </button>\n",
              "      \n",
              "  <style>\n",
              "    .colab-df-container {\n",
              "      display:flex;\n",
              "      flex-wrap:wrap;\n",
              "      gap: 12px;\n",
              "    }\n",
              "\n",
              "    .colab-df-convert {\n",
              "      background-color: #E8F0FE;\n",
              "      border: none;\n",
              "      border-radius: 50%;\n",
              "      cursor: pointer;\n",
              "      display: none;\n",
              "      fill: #1967D2;\n",
              "      height: 32px;\n",
              "      padding: 0 0 0 0;\n",
              "      width: 32px;\n",
              "    }\n",
              "\n",
              "    .colab-df-convert:hover {\n",
              "      background-color: #E2EBFA;\n",
              "      box-shadow: 0px 1px 2px rgba(60, 64, 67, 0.3), 0px 1px 3px 1px rgba(60, 64, 67, 0.15);\n",
              "      fill: #174EA6;\n",
              "    }\n",
              "\n",
              "    [theme=dark] .colab-df-convert {\n",
              "      background-color: #3B4455;\n",
              "      fill: #D2E3FC;\n",
              "    }\n",
              "\n",
              "    [theme=dark] .colab-df-convert:hover {\n",
              "      background-color: #434B5C;\n",
              "      box-shadow: 0px 1px 3px 1px rgba(0, 0, 0, 0.15);\n",
              "      filter: drop-shadow(0px 1px 2px rgba(0, 0, 0, 0.3));\n",
              "      fill: #FFFFFF;\n",
              "    }\n",
              "  </style>\n",
              "\n",
              "      <script>\n",
              "        const buttonEl =\n",
              "          document.querySelector('#df-f3b5d1d3-1e67-4db9-9e00-0bec48a55a90 button.colab-df-convert');\n",
              "        buttonEl.style.display =\n",
              "          google.colab.kernel.accessAllowed ? 'block' : 'none';\n",
              "\n",
              "        async function convertToInteractive(key) {\n",
              "          const element = document.querySelector('#df-f3b5d1d3-1e67-4db9-9e00-0bec48a55a90');\n",
              "          const dataTable =\n",
              "            await google.colab.kernel.invokeFunction('convertToInteractive',\n",
              "                                                     [key], {});\n",
              "          if (!dataTable) return;\n",
              "\n",
              "          const docLinkHtml = 'Like what you see? Visit the ' +\n",
              "            '<a target=\"_blank\" href=https://colab.research.google.com/notebooks/data_table.ipynb>data table notebook</a>'\n",
              "            + ' to learn more about interactive tables.';\n",
              "          element.innerHTML = '';\n",
              "          dataTable['output_type'] = 'display_data';\n",
              "          await google.colab.output.renderOutput(dataTable, element);\n",
              "          const docLink = document.createElement('div');\n",
              "          docLink.innerHTML = docLinkHtml;\n",
              "          element.appendChild(docLink);\n",
              "        }\n",
              "      </script>\n",
              "    </div>\n",
              "  </div>\n",
              "  "
            ]
          },
          "metadata": {},
          "execution_count": 183
        }
      ]
    },
    {
      "cell_type": "markdown",
      "source": [
        "No outliers "
      ],
      "metadata": {
        "id": "IaHSkFL3D6Vw"
      }
    },
    {
      "cell_type": "code",
      "source": [
        "# Now handling MultiCollinearity \n",
        "from statsmodels.stats.outliers_influence import variance_inflation_factor\n",
        "b = pd.DataFrame()\n",
        "b['Vif'] = Data_Test.columns\n",
        "b[\"Vif\"] = [variance_inflation_factor(Data_Test.values, i)\n",
        "                          for i in range(len(Data_Test.columns))]\n",
        "b['Vif'].head(20)"
      ],
      "metadata": {
        "colab": {
          "base_uri": "https://localhost:8080/"
        },
        "id": "NSwksWJAD9NE",
        "outputId": "c6ce67ff-29c4-4280-fae5-a245b4b34c14"
      },
      "execution_count": 184,
      "outputs": [
        {
          "output_type": "stream",
          "name": "stderr",
          "text": [
            "/usr/local/lib/python3.8/dist-packages/statsmodels/stats/outliers_influence.py:193: RuntimeWarning: divide by zero encountered in double_scalars\n",
            "  vif = 1. / (1. - r_squared_i)\n",
            "/usr/local/lib/python3.8/dist-packages/statsmodels/regression/linear_model.py:1715: RuntimeWarning: invalid value encountered in double_scalars\n",
            "  return 1 - self.ssr/self.centered_tss\n"
          ]
        },
        {
          "output_type": "execute_result",
          "data": {
            "text/plain": [
              "0      1.390048\n",
              "1     20.478404\n",
              "2      3.337660\n",
              "3      4.016998\n",
              "4           inf\n",
              "5           inf\n",
              "6           inf\n",
              "7           inf\n",
              "8           inf\n",
              "9           inf\n",
              "10          inf\n",
              "11          inf\n",
              "12     3.617860\n",
              "13     1.736733\n",
              "14     4.852792\n",
              "15     4.584491\n",
              "16     3.472682\n",
              "17     2.633451\n",
              "18     7.791321\n",
              "19     2.376271\n",
              "Name: Vif, dtype: float64"
            ]
          },
          "metadata": {},
          "execution_count": 184
        }
      ]
    },
    {
      "cell_type": "code",
      "source": [
        "Df_Tr = Data_Train.drop(Data_Train.columns[[4,5,6,7,8,9,10,11]],axis = 1)"
      ],
      "metadata": {
        "id": "qvKTbz08ESt5"
      },
      "execution_count": 185,
      "outputs": []
    },
    {
      "cell_type": "code",
      "source": [
        "Data_Test.drop(['Z_score'],axis = 1,inplace = True)"
      ],
      "metadata": {
        "colab": {
          "base_uri": "https://localhost:8080/"
        },
        "id": "0p3dggmnEmLi",
        "outputId": "f6ee690f-679f-4017-fa57-3f0070626707"
      },
      "execution_count": 187,
      "outputs": [
        {
          "output_type": "stream",
          "name": "stderr",
          "text": [
            "/usr/local/lib/python3.8/dist-packages/pandas/core/frame.py:4906: SettingWithCopyWarning: \n",
            "A value is trying to be set on a copy of a slice from a DataFrame\n",
            "\n",
            "See the caveats in the documentation: https://pandas.pydata.org/pandas-docs/stable/user_guide/indexing.html#returning-a-view-versus-a-copy\n",
            "  return super().drop(\n"
          ]
        }
      ]
    },
    {
      "cell_type": "code",
      "source": [
        "c= pd.DataFrame()\n",
        "c['vif'] = Df_Tr.columns\n",
        "\n",
        "c[\"Vif\"] = [variance_inflation_factor(Df_Tr.values, i)\n",
        "                          for i in range(len(Df_Tr.columns))]"
      ],
      "metadata": {
        "colab": {
          "base_uri": "https://localhost:8080/"
        },
        "id": "fpTeUMOEFRVd",
        "outputId": "7f6da2e6-cee9-4d11-b7e4-823a5929d62e"
      },
      "execution_count": 188,
      "outputs": [
        {
          "output_type": "stream",
          "name": "stderr",
          "text": [
            "/usr/local/lib/python3.8/dist-packages/statsmodels/regression/linear_model.py:1715: RuntimeWarning: divide by zero encountered in double_scalars\n",
            "  return 1 - self.ssr/self.centered_tss\n",
            "/usr/local/lib/python3.8/dist-packages/statsmodels/stats/outliers_influence.py:193: RuntimeWarning: divide by zero encountered in double_scalars\n",
            "  vif = 1. / (1. - r_squared_i)\n"
          ]
        }
      ]
    },
    {
      "cell_type": "code",
      "source": [
        "c[c['Vif']>9]"
      ],
      "metadata": {
        "colab": {
          "base_uri": "https://localhost:8080/",
          "height": 175
        },
        "id": "mEbX2YiGFfa1",
        "outputId": "af0bf4a0-4dfc-492d-f4bd-3c06053ab645"
      },
      "execution_count": 189,
      "outputs": [
        {
          "output_type": "execute_result",
          "data": {
            "text/plain": [
              "                vif        Vif\n",
              "48  SaleCondition_2  10.130705\n",
              "51       SaleType_2  10.530818\n",
              "91       MSZoning_2        inf\n",
              "92          Z_score        inf"
            ],
            "text/html": [
              "\n",
              "  <div id=\"df-bea02d4d-1f27-4635-b5ef-8bf9ee8b7871\">\n",
              "    <div class=\"colab-df-container\">\n",
              "      <div>\n",
              "<style scoped>\n",
              "    .dataframe tbody tr th:only-of-type {\n",
              "        vertical-align: middle;\n",
              "    }\n",
              "\n",
              "    .dataframe tbody tr th {\n",
              "        vertical-align: top;\n",
              "    }\n",
              "\n",
              "    .dataframe thead th {\n",
              "        text-align: right;\n",
              "    }\n",
              "</style>\n",
              "<table border=\"1\" class=\"dataframe\">\n",
              "  <thead>\n",
              "    <tr style=\"text-align: right;\">\n",
              "      <th></th>\n",
              "      <th>vif</th>\n",
              "      <th>Vif</th>\n",
              "    </tr>\n",
              "  </thead>\n",
              "  <tbody>\n",
              "    <tr>\n",
              "      <th>48</th>\n",
              "      <td>SaleCondition_2</td>\n",
              "      <td>10.130705</td>\n",
              "    </tr>\n",
              "    <tr>\n",
              "      <th>51</th>\n",
              "      <td>SaleType_2</td>\n",
              "      <td>10.530818</td>\n",
              "    </tr>\n",
              "    <tr>\n",
              "      <th>91</th>\n",
              "      <td>MSZoning_2</td>\n",
              "      <td>inf</td>\n",
              "    </tr>\n",
              "    <tr>\n",
              "      <th>92</th>\n",
              "      <td>Z_score</td>\n",
              "      <td>inf</td>\n",
              "    </tr>\n",
              "  </tbody>\n",
              "</table>\n",
              "</div>\n",
              "      <button class=\"colab-df-convert\" onclick=\"convertToInteractive('df-bea02d4d-1f27-4635-b5ef-8bf9ee8b7871')\"\n",
              "              title=\"Convert this dataframe to an interactive table.\"\n",
              "              style=\"display:none;\">\n",
              "        \n",
              "  <svg xmlns=\"http://www.w3.org/2000/svg\" height=\"24px\"viewBox=\"0 0 24 24\"\n",
              "       width=\"24px\">\n",
              "    <path d=\"M0 0h24v24H0V0z\" fill=\"none\"/>\n",
              "    <path d=\"M18.56 5.44l.94 2.06.94-2.06 2.06-.94-2.06-.94-.94-2.06-.94 2.06-2.06.94zm-11 1L8.5 8.5l.94-2.06 2.06-.94-2.06-.94L8.5 2.5l-.94 2.06-2.06.94zm10 10l.94 2.06.94-2.06 2.06-.94-2.06-.94-.94-2.06-.94 2.06-2.06.94z\"/><path d=\"M17.41 7.96l-1.37-1.37c-.4-.4-.92-.59-1.43-.59-.52 0-1.04.2-1.43.59L10.3 9.45l-7.72 7.72c-.78.78-.78 2.05 0 2.83L4 21.41c.39.39.9.59 1.41.59.51 0 1.02-.2 1.41-.59l7.78-7.78 2.81-2.81c.8-.78.8-2.07 0-2.86zM5.41 20L4 18.59l7.72-7.72 1.47 1.35L5.41 20z\"/>\n",
              "  </svg>\n",
              "      </button>\n",
              "      \n",
              "  <style>\n",
              "    .colab-df-container {\n",
              "      display:flex;\n",
              "      flex-wrap:wrap;\n",
              "      gap: 12px;\n",
              "    }\n",
              "\n",
              "    .colab-df-convert {\n",
              "      background-color: #E8F0FE;\n",
              "      border: none;\n",
              "      border-radius: 50%;\n",
              "      cursor: pointer;\n",
              "      display: none;\n",
              "      fill: #1967D2;\n",
              "      height: 32px;\n",
              "      padding: 0 0 0 0;\n",
              "      width: 32px;\n",
              "    }\n",
              "\n",
              "    .colab-df-convert:hover {\n",
              "      background-color: #E2EBFA;\n",
              "      box-shadow: 0px 1px 2px rgba(60, 64, 67, 0.3), 0px 1px 3px 1px rgba(60, 64, 67, 0.15);\n",
              "      fill: #174EA6;\n",
              "    }\n",
              "\n",
              "    [theme=dark] .colab-df-convert {\n",
              "      background-color: #3B4455;\n",
              "      fill: #D2E3FC;\n",
              "    }\n",
              "\n",
              "    [theme=dark] .colab-df-convert:hover {\n",
              "      background-color: #434B5C;\n",
              "      box-shadow: 0px 1px 3px 1px rgba(0, 0, 0, 0.15);\n",
              "      filter: drop-shadow(0px 1px 2px rgba(0, 0, 0, 0.3));\n",
              "      fill: #FFFFFF;\n",
              "    }\n",
              "  </style>\n",
              "\n",
              "      <script>\n",
              "        const buttonEl =\n",
              "          document.querySelector('#df-bea02d4d-1f27-4635-b5ef-8bf9ee8b7871 button.colab-df-convert');\n",
              "        buttonEl.style.display =\n",
              "          google.colab.kernel.accessAllowed ? 'block' : 'none';\n",
              "\n",
              "        async function convertToInteractive(key) {\n",
              "          const element = document.querySelector('#df-bea02d4d-1f27-4635-b5ef-8bf9ee8b7871');\n",
              "          const dataTable =\n",
              "            await google.colab.kernel.invokeFunction('convertToInteractive',\n",
              "                                                     [key], {});\n",
              "          if (!dataTable) return;\n",
              "\n",
              "          const docLinkHtml = 'Like what you see? Visit the ' +\n",
              "            '<a target=\"_blank\" href=https://colab.research.google.com/notebooks/data_table.ipynb>data table notebook</a>'\n",
              "            + ' to learn more about interactive tables.';\n",
              "          element.innerHTML = '';\n",
              "          dataTable['output_type'] = 'display_data';\n",
              "          await google.colab.output.renderOutput(dataTable, element);\n",
              "          const docLink = document.createElement('div');\n",
              "          docLink.innerHTML = docLinkHtml;\n",
              "          element.appendChild(docLink);\n",
              "        }\n",
              "      </script>\n",
              "    </div>\n",
              "  </div>\n",
              "  "
            ]
          },
          "metadata": {},
          "execution_count": 189
        }
      ]
    },
    {
      "cell_type": "code",
      "source": [
        "Df_Test = Df_Tr.drop(Df_Tr.columns[[48,51,91,62]],axis = 1)"
      ],
      "metadata": {
        "id": "7rW1CnIhFzRA"
      },
      "execution_count": 190,
      "outputs": []
    },
    {
      "cell_type": "code",
      "source": [
        "Df_Test"
      ],
      "metadata": {
        "colab": {
          "base_uri": "https://localhost:8080/",
          "height": 487
        },
        "id": "HRsdAfQjGLTC",
        "outputId": "db250bef-d3b7-4a5f-c9c1-5fd61a72de4e"
      },
      "execution_count": 191,
      "outputs": [
        {
          "output_type": "execute_result",
          "data": {
            "text/plain": [
              "        Id  MSSubClass  LotArea  OverallCond  BsmtFullBath  BsmtHalfBath  \\\n",
              "0      127         120     4928            5             0             0   \n",
              "1      889          20    15865            6             1             0   \n",
              "2      793          60     9920            5             1             0   \n",
              "3      110          20    11751            6             0             0   \n",
              "4      422          20    16635            7             0             1   \n",
              "...    ...         ...      ...          ...           ...           ...   \n",
              "1162  1381          30     8212            3             1             0   \n",
              "1163   289          20     9819            5             0             0   \n",
              "1165   196         160     2280            6             0             0   \n",
              "1166    31          70     8500            4             0             0   \n",
              "1167   617          60     7861            5             1             0   \n",
              "\n",
              "      FullBath  HalfBath  BedroomAbvGr  KitchenAbvGr  ...  Neighborhood_2  \\\n",
              "0            2         0             2             1  ...               0   \n",
              "1            2         0             4             1  ...               0   \n",
              "2            2         1             3             1  ...               0   \n",
              "3            2         0             3             1  ...               1   \n",
              "4            2         0             3             1  ...               1   \n",
              "...        ...       ...           ...           ...  ...             ...   \n",
              "1162         1         0             2             1  ...               1   \n",
              "1163         1         0             3             1  ...               1   \n",
              "1165         2         1             3             1  ...               0   \n",
              "1166         1         0             3             1  ...               0   \n",
              "1167         2         1             3             1  ...               1   \n",
              "\n",
              "      Neighborhood_3  Neighborhood_4  LandSlope  LotConfig  LotShape  Street  \\\n",
              "0                  0               1          0          4         0       1   \n",
              "1                  1               0          1          4         0       1   \n",
              "2                  1               1          0          1         0       1   \n",
              "3                  0               0          0          4         0       1   \n",
              "4                  0               0          0          2         0       1   \n",
              "...              ...             ...        ...        ...       ...     ...   \n",
              "1162               1               1          0          4         3       1   \n",
              "1163               1               0          0          4         0       1   \n",
              "1165               0               1          0          2         3       1   \n",
              "1166               0               0          0          4         3       1   \n",
              "1167               0               1          0          4         0       1   \n",
              "\n",
              "      MSZoning_0  MSZoning_1   Z_score  \n",
              "0              0           0  0.411189  \n",
              "1              0           0  0.411189  \n",
              "2              0           0  0.411189  \n",
              "3              0           0  0.411189  \n",
              "4              0           0  0.411189  \n",
              "...          ...         ...       ...  \n",
              "1162           0           0  0.411189  \n",
              "1163           0           0  0.411189  \n",
              "1165           0           0  0.411189  \n",
              "1166           1           0  0.411189  \n",
              "1167           0           0  0.411189  \n",
              "\n",
              "[1051 rows x 89 columns]"
            ],
            "text/html": [
              "\n",
              "  <div id=\"df-5cf3b246-9e85-445b-932c-b1a1b64c08fc\">\n",
              "    <div class=\"colab-df-container\">\n",
              "      <div>\n",
              "<style scoped>\n",
              "    .dataframe tbody tr th:only-of-type {\n",
              "        vertical-align: middle;\n",
              "    }\n",
              "\n",
              "    .dataframe tbody tr th {\n",
              "        vertical-align: top;\n",
              "    }\n",
              "\n",
              "    .dataframe thead th {\n",
              "        text-align: right;\n",
              "    }\n",
              "</style>\n",
              "<table border=\"1\" class=\"dataframe\">\n",
              "  <thead>\n",
              "    <tr style=\"text-align: right;\">\n",
              "      <th></th>\n",
              "      <th>Id</th>\n",
              "      <th>MSSubClass</th>\n",
              "      <th>LotArea</th>\n",
              "      <th>OverallCond</th>\n",
              "      <th>BsmtFullBath</th>\n",
              "      <th>BsmtHalfBath</th>\n",
              "      <th>FullBath</th>\n",
              "      <th>HalfBath</th>\n",
              "      <th>BedroomAbvGr</th>\n",
              "      <th>KitchenAbvGr</th>\n",
              "      <th>...</th>\n",
              "      <th>Neighborhood_2</th>\n",
              "      <th>Neighborhood_3</th>\n",
              "      <th>Neighborhood_4</th>\n",
              "      <th>LandSlope</th>\n",
              "      <th>LotConfig</th>\n",
              "      <th>LotShape</th>\n",
              "      <th>Street</th>\n",
              "      <th>MSZoning_0</th>\n",
              "      <th>MSZoning_1</th>\n",
              "      <th>Z_score</th>\n",
              "    </tr>\n",
              "  </thead>\n",
              "  <tbody>\n",
              "    <tr>\n",
              "      <th>0</th>\n",
              "      <td>127</td>\n",
              "      <td>120</td>\n",
              "      <td>4928</td>\n",
              "      <td>5</td>\n",
              "      <td>0</td>\n",
              "      <td>0</td>\n",
              "      <td>2</td>\n",
              "      <td>0</td>\n",
              "      <td>2</td>\n",
              "      <td>1</td>\n",
              "      <td>...</td>\n",
              "      <td>0</td>\n",
              "      <td>0</td>\n",
              "      <td>1</td>\n",
              "      <td>0</td>\n",
              "      <td>4</td>\n",
              "      <td>0</td>\n",
              "      <td>1</td>\n",
              "      <td>0</td>\n",
              "      <td>0</td>\n",
              "      <td>0.411189</td>\n",
              "    </tr>\n",
              "    <tr>\n",
              "      <th>1</th>\n",
              "      <td>889</td>\n",
              "      <td>20</td>\n",
              "      <td>15865</td>\n",
              "      <td>6</td>\n",
              "      <td>1</td>\n",
              "      <td>0</td>\n",
              "      <td>2</td>\n",
              "      <td>0</td>\n",
              "      <td>4</td>\n",
              "      <td>1</td>\n",
              "      <td>...</td>\n",
              "      <td>0</td>\n",
              "      <td>1</td>\n",
              "      <td>0</td>\n",
              "      <td>1</td>\n",
              "      <td>4</td>\n",
              "      <td>0</td>\n",
              "      <td>1</td>\n",
              "      <td>0</td>\n",
              "      <td>0</td>\n",
              "      <td>0.411189</td>\n",
              "    </tr>\n",
              "    <tr>\n",
              "      <th>2</th>\n",
              "      <td>793</td>\n",
              "      <td>60</td>\n",
              "      <td>9920</td>\n",
              "      <td>5</td>\n",
              "      <td>1</td>\n",
              "      <td>0</td>\n",
              "      <td>2</td>\n",
              "      <td>1</td>\n",
              "      <td>3</td>\n",
              "      <td>1</td>\n",
              "      <td>...</td>\n",
              "      <td>0</td>\n",
              "      <td>1</td>\n",
              "      <td>1</td>\n",
              "      <td>0</td>\n",
              "      <td>1</td>\n",
              "      <td>0</td>\n",
              "      <td>1</td>\n",
              "      <td>0</td>\n",
              "      <td>0</td>\n",
              "      <td>0.411189</td>\n",
              "    </tr>\n",
              "    <tr>\n",
              "      <th>3</th>\n",
              "      <td>110</td>\n",
              "      <td>20</td>\n",
              "      <td>11751</td>\n",
              "      <td>6</td>\n",
              "      <td>0</td>\n",
              "      <td>0</td>\n",
              "      <td>2</td>\n",
              "      <td>0</td>\n",
              "      <td>3</td>\n",
              "      <td>1</td>\n",
              "      <td>...</td>\n",
              "      <td>1</td>\n",
              "      <td>0</td>\n",
              "      <td>0</td>\n",
              "      <td>0</td>\n",
              "      <td>4</td>\n",
              "      <td>0</td>\n",
              "      <td>1</td>\n",
              "      <td>0</td>\n",
              "      <td>0</td>\n",
              "      <td>0.411189</td>\n",
              "    </tr>\n",
              "    <tr>\n",
              "      <th>4</th>\n",
              "      <td>422</td>\n",
              "      <td>20</td>\n",
              "      <td>16635</td>\n",
              "      <td>7</td>\n",
              "      <td>0</td>\n",
              "      <td>1</td>\n",
              "      <td>2</td>\n",
              "      <td>0</td>\n",
              "      <td>3</td>\n",
              "      <td>1</td>\n",
              "      <td>...</td>\n",
              "      <td>1</td>\n",
              "      <td>0</td>\n",
              "      <td>0</td>\n",
              "      <td>0</td>\n",
              "      <td>2</td>\n",
              "      <td>0</td>\n",
              "      <td>1</td>\n",
              "      <td>0</td>\n",
              "      <td>0</td>\n",
              "      <td>0.411189</td>\n",
              "    </tr>\n",
              "    <tr>\n",
              "      <th>...</th>\n",
              "      <td>...</td>\n",
              "      <td>...</td>\n",
              "      <td>...</td>\n",
              "      <td>...</td>\n",
              "      <td>...</td>\n",
              "      <td>...</td>\n",
              "      <td>...</td>\n",
              "      <td>...</td>\n",
              "      <td>...</td>\n",
              "      <td>...</td>\n",
              "      <td>...</td>\n",
              "      <td>...</td>\n",
              "      <td>...</td>\n",
              "      <td>...</td>\n",
              "      <td>...</td>\n",
              "      <td>...</td>\n",
              "      <td>...</td>\n",
              "      <td>...</td>\n",
              "      <td>...</td>\n",
              "      <td>...</td>\n",
              "      <td>...</td>\n",
              "    </tr>\n",
              "    <tr>\n",
              "      <th>1162</th>\n",
              "      <td>1381</td>\n",
              "      <td>30</td>\n",
              "      <td>8212</td>\n",
              "      <td>3</td>\n",
              "      <td>1</td>\n",
              "      <td>0</td>\n",
              "      <td>1</td>\n",
              "      <td>0</td>\n",
              "      <td>2</td>\n",
              "      <td>1</td>\n",
              "      <td>...</td>\n",
              "      <td>1</td>\n",
              "      <td>1</td>\n",
              "      <td>1</td>\n",
              "      <td>0</td>\n",
              "      <td>4</td>\n",
              "      <td>3</td>\n",
              "      <td>1</td>\n",
              "      <td>0</td>\n",
              "      <td>0</td>\n",
              "      <td>0.411189</td>\n",
              "    </tr>\n",
              "    <tr>\n",
              "      <th>1163</th>\n",
              "      <td>289</td>\n",
              "      <td>20</td>\n",
              "      <td>9819</td>\n",
              "      <td>5</td>\n",
              "      <td>0</td>\n",
              "      <td>0</td>\n",
              "      <td>1</td>\n",
              "      <td>0</td>\n",
              "      <td>3</td>\n",
              "      <td>1</td>\n",
              "      <td>...</td>\n",
              "      <td>1</td>\n",
              "      <td>1</td>\n",
              "      <td>0</td>\n",
              "      <td>0</td>\n",
              "      <td>4</td>\n",
              "      <td>0</td>\n",
              "      <td>1</td>\n",
              "      <td>0</td>\n",
              "      <td>0</td>\n",
              "      <td>0.411189</td>\n",
              "    </tr>\n",
              "    <tr>\n",
              "      <th>1165</th>\n",
              "      <td>196</td>\n",
              "      <td>160</td>\n",
              "      <td>2280</td>\n",
              "      <td>6</td>\n",
              "      <td>0</td>\n",
              "      <td>0</td>\n",
              "      <td>2</td>\n",
              "      <td>1</td>\n",
              "      <td>3</td>\n",
              "      <td>1</td>\n",
              "      <td>...</td>\n",
              "      <td>0</td>\n",
              "      <td>0</td>\n",
              "      <td>1</td>\n",
              "      <td>0</td>\n",
              "      <td>2</td>\n",
              "      <td>3</td>\n",
              "      <td>1</td>\n",
              "      <td>0</td>\n",
              "      <td>0</td>\n",
              "      <td>0.411189</td>\n",
              "    </tr>\n",
              "    <tr>\n",
              "      <th>1166</th>\n",
              "      <td>31</td>\n",
              "      <td>70</td>\n",
              "      <td>8500</td>\n",
              "      <td>4</td>\n",
              "      <td>0</td>\n",
              "      <td>0</td>\n",
              "      <td>1</td>\n",
              "      <td>0</td>\n",
              "      <td>3</td>\n",
              "      <td>1</td>\n",
              "      <td>...</td>\n",
              "      <td>0</td>\n",
              "      <td>0</td>\n",
              "      <td>0</td>\n",
              "      <td>0</td>\n",
              "      <td>4</td>\n",
              "      <td>3</td>\n",
              "      <td>1</td>\n",
              "      <td>1</td>\n",
              "      <td>0</td>\n",
              "      <td>0.411189</td>\n",
              "    </tr>\n",
              "    <tr>\n",
              "      <th>1167</th>\n",
              "      <td>617</td>\n",
              "      <td>60</td>\n",
              "      <td>7861</td>\n",
              "      <td>5</td>\n",
              "      <td>1</td>\n",
              "      <td>0</td>\n",
              "      <td>2</td>\n",
              "      <td>1</td>\n",
              "      <td>3</td>\n",
              "      <td>1</td>\n",
              "      <td>...</td>\n",
              "      <td>1</td>\n",
              "      <td>0</td>\n",
              "      <td>1</td>\n",
              "      <td>0</td>\n",
              "      <td>4</td>\n",
              "      <td>0</td>\n",
              "      <td>1</td>\n",
              "      <td>0</td>\n",
              "      <td>0</td>\n",
              "      <td>0.411189</td>\n",
              "    </tr>\n",
              "  </tbody>\n",
              "</table>\n",
              "<p>1051 rows × 89 columns</p>\n",
              "</div>\n",
              "      <button class=\"colab-df-convert\" onclick=\"convertToInteractive('df-5cf3b246-9e85-445b-932c-b1a1b64c08fc')\"\n",
              "              title=\"Convert this dataframe to an interactive table.\"\n",
              "              style=\"display:none;\">\n",
              "        \n",
              "  <svg xmlns=\"http://www.w3.org/2000/svg\" height=\"24px\"viewBox=\"0 0 24 24\"\n",
              "       width=\"24px\">\n",
              "    <path d=\"M0 0h24v24H0V0z\" fill=\"none\"/>\n",
              "    <path d=\"M18.56 5.44l.94 2.06.94-2.06 2.06-.94-2.06-.94-.94-2.06-.94 2.06-2.06.94zm-11 1L8.5 8.5l.94-2.06 2.06-.94-2.06-.94L8.5 2.5l-.94 2.06-2.06.94zm10 10l.94 2.06.94-2.06 2.06-.94-2.06-.94-.94-2.06-.94 2.06-2.06.94z\"/><path d=\"M17.41 7.96l-1.37-1.37c-.4-.4-.92-.59-1.43-.59-.52 0-1.04.2-1.43.59L10.3 9.45l-7.72 7.72c-.78.78-.78 2.05 0 2.83L4 21.41c.39.39.9.59 1.41.59.51 0 1.02-.2 1.41-.59l7.78-7.78 2.81-2.81c.8-.78.8-2.07 0-2.86zM5.41 20L4 18.59l7.72-7.72 1.47 1.35L5.41 20z\"/>\n",
              "  </svg>\n",
              "      </button>\n",
              "      \n",
              "  <style>\n",
              "    .colab-df-container {\n",
              "      display:flex;\n",
              "      flex-wrap:wrap;\n",
              "      gap: 12px;\n",
              "    }\n",
              "\n",
              "    .colab-df-convert {\n",
              "      background-color: #E8F0FE;\n",
              "      border: none;\n",
              "      border-radius: 50%;\n",
              "      cursor: pointer;\n",
              "      display: none;\n",
              "      fill: #1967D2;\n",
              "      height: 32px;\n",
              "      padding: 0 0 0 0;\n",
              "      width: 32px;\n",
              "    }\n",
              "\n",
              "    .colab-df-convert:hover {\n",
              "      background-color: #E2EBFA;\n",
              "      box-shadow: 0px 1px 2px rgba(60, 64, 67, 0.3), 0px 1px 3px 1px rgba(60, 64, 67, 0.15);\n",
              "      fill: #174EA6;\n",
              "    }\n",
              "\n",
              "    [theme=dark] .colab-df-convert {\n",
              "      background-color: #3B4455;\n",
              "      fill: #D2E3FC;\n",
              "    }\n",
              "\n",
              "    [theme=dark] .colab-df-convert:hover {\n",
              "      background-color: #434B5C;\n",
              "      box-shadow: 0px 1px 3px 1px rgba(0, 0, 0, 0.15);\n",
              "      filter: drop-shadow(0px 1px 2px rgba(0, 0, 0, 0.3));\n",
              "      fill: #FFFFFF;\n",
              "    }\n",
              "  </style>\n",
              "\n",
              "      <script>\n",
              "        const buttonEl =\n",
              "          document.querySelector('#df-5cf3b246-9e85-445b-932c-b1a1b64c08fc button.colab-df-convert');\n",
              "        buttonEl.style.display =\n",
              "          google.colab.kernel.accessAllowed ? 'block' : 'none';\n",
              "\n",
              "        async function convertToInteractive(key) {\n",
              "          const element = document.querySelector('#df-5cf3b246-9e85-445b-932c-b1a1b64c08fc');\n",
              "          const dataTable =\n",
              "            await google.colab.kernel.invokeFunction('convertToInteractive',\n",
              "                                                     [key], {});\n",
              "          if (!dataTable) return;\n",
              "\n",
              "          const docLinkHtml = 'Like what you see? Visit the ' +\n",
              "            '<a target=\"_blank\" href=https://colab.research.google.com/notebooks/data_table.ipynb>data table notebook</a>'\n",
              "            + ' to learn more about interactive tables.';\n",
              "          element.innerHTML = '';\n",
              "          dataTable['output_type'] = 'display_data';\n",
              "          await google.colab.output.renderOutput(dataTable, element);\n",
              "          const docLink = document.createElement('div');\n",
              "          docLink.innerHTML = docLinkHtml;\n",
              "          element.appendChild(docLink);\n",
              "        }\n",
              "      </script>\n",
              "    </div>\n",
              "  </div>\n",
              "  "
            ]
          },
          "metadata": {},
          "execution_count": 191
        }
      ]
    },
    {
      "cell_type": "markdown",
      "source": [
        "We have done the outliers check on the test data set . we have checked the multicolinearity on test data set also "
      ],
      "metadata": {
        "id": "_Y83M_hbGawh"
      }
    },
    {
      "cell_type": "code",
      "source": [
        " # create x = freature and y = label\n",
        " x = DF.drop(['SalePrice'],axis = 1)\n",
        " y = DF['SalePrice']"
      ],
      "metadata": {
        "id": "QRAjhCGQGnt2"
      },
      "execution_count": 192,
      "outputs": []
    },
    {
      "cell_type": "code",
      "source": [
        "a = Df_Test.drop(['SalePrice'],axis = 1)\n",
        "b = Df_Test['SalePrice']"
      ],
      "metadata": {
        "id": "xwXH8qacIBFU"
      },
      "execution_count": 195,
      "outputs": []
    },
    {
      "cell_type": "code",
      "source": [
        "from sklearn.linear_model import LinearRegression\n",
        "\n",
        "lm = LinearRegression()\n",
        "lm.fit(x,y)"
      ],
      "metadata": {
        "colab": {
          "base_uri": "https://localhost:8080/"
        },
        "id": "yxc_XODYGP16",
        "outputId": "a785bfda-6cc1-485a-d8e1-8932daf489a7"
      },
      "execution_count": 193,
      "outputs": [
        {
          "output_type": "execute_result",
          "data": {
            "text/plain": [
              "LinearRegression()"
            ]
          },
          "metadata": {},
          "execution_count": 193
        }
      ]
    },
    {
      "cell_type": "code",
      "source": [
        "# print intercept and coefficients\n",
        "print(lm.intercept_) # this is c or b interception \n",
        "print(lm.coef_) # this is M (slop)"
      ],
      "metadata": {
        "colab": {
          "base_uri": "https://localhost:8080/"
        },
        "id": "f0Gj6hxjHq8W",
        "outputId": "51a1cad2-a05d-4fa5-c791-058c11604580"
      },
      "execution_count": 194,
      "outputs": [
        {
          "output_type": "stream",
          "name": "stdout",
          "text": [
            "-417590.04315524467\n",
            "[-9.10530732e-01 -1.37359370e+02  4.30044369e-01  3.93900515e+03\n",
            "  6.72586838e+03 -1.07384838e+03  2.36691468e+04  1.61416206e+04\n",
            " -3.20074194e+03 -2.41015211e+04  1.12109357e+04  1.25670003e+04\n",
            "  1.09298498e+04  4.19479181e+01  2.30163253e+01  2.48828218e+01\n",
            "  2.08969154e+01  7.68582885e+01  3.88063493e+01  2.51635708e+01\n",
            "  7.60961671e-01  8.74484028e+01  9.93996126e+01  1.80707410e+03\n",
            " -6.40566240e+02 -1.46126184e+03  1.05635852e+03 -3.30382136e+03\n",
            " -1.86864841e+03 -2.69344025e+03  1.52652159e+04 -6.07087797e+03\n",
            "  1.73348522e+04 -1.78432900e+03  6.83937055e+03  3.10477475e+03\n",
            " -6.49381621e+02  1.14995348e+03  1.53837202e+04  6.13917461e+03\n",
            "  3.37365467e+02  1.57128687e+03  4.35919355e+03 -5.74595053e+03\n",
            "  6.25375178e+02  5.68030975e+03  9.40776792e+03  6.29901530e+03\n",
            "  2.35478430e+03  4.17820866e+03  1.92408070e+03 -8.83298598e+02\n",
            "  7.46275914e+03  2.40791007e+03  2.85580218e+03  2.12566950e+03\n",
            "  2.78595946e+03 -6.15387929e+03  9.24301421e+03 -1.36607017e+03\n",
            "  4.83836044e+03  3.08531051e+03 -7.03038655e+03 -1.32826599e+03\n",
            "  8.80006614e+03  7.64499222e+03 -1.80329783e+03 -1.19583868e+03\n",
            "  1.52086289e+05  3.02896629e+04  1.80467646e+04  1.01005915e+05\n",
            " -1.78038466e+04 -2.03028528e+03 -7.78717831e+03  5.07752228e+03\n",
            "  3.66554844e+03  9.46412586e+03 -7.60563503e+02  1.50773721e+04\n",
            "  8.45824658e+03 -3.62246682e+03 -6.53612102e+02 -3.81476253e+02\n",
            "  3.76139633e+04 -2.10432070e+03  4.74422041e+03 -6.43490103e+03]\n"
          ]
        }
      ]
    },
    {
      "cell_type": "code",
      "source": [
        "predicted_sales = lm.predict(a)"
      ],
      "metadata": {
        "colab": {
          "base_uri": "https://localhost:8080/"
        },
        "id": "_gcqrcHqHzRV",
        "outputId": "78a71ec1-6287-4d0f-e0aa-dafc146d4b25"
      },
      "execution_count": 196,
      "outputs": [
        {
          "output_type": "stream",
          "name": "stderr",
          "text": [
            "/usr/local/lib/python3.8/dist-packages/sklearn/base.py:493: FutureWarning: The feature names should match those that were passed during fit. Starting version 1.2, an error will be raised.\n",
            "Feature names unseen at fit time:\n",
            "- Utilities\n",
            "- Z_score\n",
            "Feature names seen at fit time, yet now missing:\n",
            "- Exterior2nd_2\n",
            "- MSZoning_2\n",
            "\n",
            "  warnings.warn(message, FutureWarning)\n"
          ]
        }
      ]
    },
    {
      "cell_type": "code",
      "source": [
        "print(predicted_sales)"
      ],
      "metadata": {
        "colab": {
          "base_uri": "https://localhost:8080/"
        },
        "id": "ve837GP5Ijmv",
        "outputId": "aa890b51-d896-4854-d867-37c7ebf929a5"
      },
      "execution_count": 198,
      "outputs": [
        {
          "output_type": "stream",
          "name": "stdout",
          "text": [
            "[115902.73290245 285521.41991032 213997.03046475 ... 138970.72021893\n",
            "  41700.34474683 204726.73705099]\n"
          ]
        }
      ]
    },
    {
      "cell_type": "code",
      "source": [
        "from sklearn.metrics import r2_score\n",
        "r2_score(y_true=b,y_pred=predicted_sales)"
      ],
      "metadata": {
        "colab": {
          "base_uri": "https://localhost:8080/"
        },
        "id": "1KM8bI05IweR",
        "outputId": "0634d13e-9b04-4727-b30d-f958133e50b2"
      },
      "execution_count": 199,
      "outputs": [
        {
          "output_type": "execute_result",
          "data": {
            "text/plain": [
              "0.6625896828665749"
            ]
          },
          "metadata": {},
          "execution_count": 199
        }
      ]
    },
    {
      "cell_type": "code",
      "source": [],
      "metadata": {
        "id": "dry3ByKiJX9N"
      },
      "execution_count": null,
      "outputs": []
    }
  ]
}